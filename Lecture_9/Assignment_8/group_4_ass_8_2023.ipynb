{
 "cells": [
  {
   "cell_type": "code",
   "execution_count": 4,
   "metadata": {},
   "outputs": [],
   "source": [
    "import pandas as pd\n",
    "import haversine as hs\n",
    "from datetime import datetime\n",
    "import googlemaps"
   ]
  },
  {
   "cell_type": "code",
   "execution_count": 5,
   "metadata": {},
   "outputs": [],
   "source": [
    "establishments = pd.read_excel('../../_data/cajamarca_data_helth_estb.xlsx')\n",
    "data_centroids = pd.read_excel('../../_data/peru_districts_centroids.xlsx')"
   ]
  },
  {
   "cell_type": "code",
   "execution_count": 6,
   "metadata": {},
   "outputs": [],
   "source": [
    "centroids = data_centroids.query(\"NOMBDEP == 'CAJAMARCA'\")"
   ]
  },
  {
   "cell_type": "code",
   "execution_count": 7,
   "metadata": {},
   "outputs": [],
   "source": [
    "# Algorithm which searches for the nearest centroid to an establishment\n",
    "def get_closest_centroid(establishment):\n",
    "    distances = {\n",
    "        tuple(centroid[['Centroid_Latitude', 'Centroid_Longitude']]):\n",
    "        hs.haversine(\n",
    "            (establishment['latitud'], establishment['longitud']),\n",
    "            tuple(centroid[['Centroid_Latitude', 'Centroid_Longitude']])\n",
    "        ) for i, centroid in centroids.iterrows()\n",
    "    }\n",
    "    return min(distances, key=distances.get)"
   ]
  },
  {
   "cell_type": "code",
   "execution_count": 8,
   "metadata": {},
   "outputs": [],
   "source": [
    "nearest_centroids = list(\n",
    "    map(\n",
    "        lambda establishment: get_closest_centroid(establishment[1]),\n",
    "        establishments.iterrows()\n",
    "    )\n",
    ")"
   ]
  },
  {
   "cell_type": "code",
   "execution_count": 9,
   "metadata": {},
   "outputs": [],
   "source": [
    "establishments['Dist_Centroid_Latitude'] = list(map(lambda x: x[0], nearest_centroids))\n",
    "establishments['Dist_Centroid_Longitude'] = list(map(lambda x: x[1], nearest_centroids))"
   ]
  },
  {
   "cell_type": "code",
   "execution_count": 10,
   "metadata": {},
   "outputs": [
    {
     "ename": "ValueError",
     "evalue": "Invalid API key provided.",
     "output_type": "error",
     "traceback": [
      "\u001b[1;31m---------------------------------------------------------------------------\u001b[0m",
      "\u001b[1;31mValueError\u001b[0m                                Traceback (most recent call last)",
      "Cell \u001b[1;32mIn[10], line 1\u001b[0m\n\u001b[1;32m----> 1\u001b[0m gmaps \u001b[38;5;241m=\u001b[39m \u001b[43mgooglemaps\u001b[49m\u001b[38;5;241;43m.\u001b[39;49m\u001b[43mClient\u001b[49m\u001b[43m(\u001b[49m\u001b[43m \u001b[49m\u001b[43mkey\u001b[49m\u001b[43m \u001b[49m\u001b[38;5;241;43m=\u001b[39;49m\u001b[43m \u001b[49m\u001b[38;5;124;43m'\u001b[39;49m\u001b[38;5;124;43mYOUR KEY HERE\u001b[39;49m\u001b[38;5;124;43m'\u001b[39;49m\u001b[43m \u001b[49m\u001b[43m)\u001b[49m\n",
      "File \u001b[1;32m~\\miniconda3\\lib\\site-packages\\googlemaps\\client.py:113\u001b[0m, in \u001b[0;36mClient.__init__\u001b[1;34m(self, key, client_id, client_secret, timeout, connect_timeout, read_timeout, retry_timeout, requests_kwargs, queries_per_second, channel)\u001b[0m\n\u001b[0;32m    109\u001b[0m     \u001b[38;5;28;01mraise\u001b[39;00m \u001b[38;5;167;01mValueError\u001b[39;00m(\u001b[38;5;124m\"\u001b[39m\u001b[38;5;124mMust provide API key or enterprise credentials \u001b[39m\u001b[38;5;124m\"\u001b[39m\n\u001b[0;32m    110\u001b[0m                      \u001b[38;5;124m\"\u001b[39m\u001b[38;5;124mwhen creating client.\u001b[39m\u001b[38;5;124m\"\u001b[39m)\n\u001b[0;32m    112\u001b[0m \u001b[38;5;28;01mif\u001b[39;00m key \u001b[38;5;129;01mand\u001b[39;00m \u001b[38;5;129;01mnot\u001b[39;00m key\u001b[38;5;241m.\u001b[39mstartswith(\u001b[38;5;124m\"\u001b[39m\u001b[38;5;124mAIza\u001b[39m\u001b[38;5;124m\"\u001b[39m):\n\u001b[1;32m--> 113\u001b[0m     \u001b[38;5;28;01mraise\u001b[39;00m \u001b[38;5;167;01mValueError\u001b[39;00m(\u001b[38;5;124m\"\u001b[39m\u001b[38;5;124mInvalid API key provided.\u001b[39m\u001b[38;5;124m\"\u001b[39m)\n\u001b[0;32m    115\u001b[0m \u001b[38;5;28;01mif\u001b[39;00m channel:\n\u001b[0;32m    116\u001b[0m     \u001b[38;5;28;01mif\u001b[39;00m \u001b[38;5;129;01mnot\u001b[39;00m client_id:\n",
      "\u001b[1;31mValueError\u001b[0m: Invalid API key provided."
     ]
    }
   ],
   "source": [
    "gmaps = googlemaps.Client( key = 'YOUR KEY HERE' )"
   ]
  },
  {
   "cell_type": "code",
   "execution_count": null,
   "metadata": {},
   "outputs": [],
   "source": [
    "test = establishments.head(1)\n",
    "\n",
    "time = datetime(2023, 3, 13, 16, 0, 0, 0)\n",
    "\n",
    "directions = gmaps.directions(\n",
    "    (test['latitud'].values[0], test['longitud'].values[0]),\n",
    "    (test['Dist_Centroid_Latitude'].values[0], test['Dist_Centroid_Longitude'].values[0]),\n",
    "    departure_time=time,\n",
    "    mode='transit',\n",
    ")\n",
    "\n",
    "directions"
   ]
  },
  {
   "cell_type": "code",
   "execution_count": null,
   "metadata": {},
   "outputs": [],
   "source": []
  }
 ],
 "metadata": {
  "kernelspec": {
   "display_name": "Python 3 (ipykernel)",
   "language": "python",
   "name": "python3"
  },
  "language_info": {
   "codemirror_mode": {
    "name": "ipython",
    "version": 3
   },
   "file_extension": ".py",
   "mimetype": "text/x-python",
   "name": "python",
   "nbconvert_exporter": "python",
   "pygments_lexer": "ipython3",
   "version": "3.10.8"
  }
 },
 "nbformat": 4,
 "nbformat_minor": 4
}

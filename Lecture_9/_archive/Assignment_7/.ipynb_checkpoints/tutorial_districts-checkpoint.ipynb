{
 "cells": [
  {
   "cell_type": "code",
   "execution_count": 118,
   "metadata": {},
   "outputs": [],
   "source": [
    "import numpy as np\n",
    "\n",
    "import pandas as pd\n",
    "import geopandas as gp\n",
    "import os"
   ]
  },
  {
   "cell_type": "markdown",
   "metadata": {},
   "source": [
    "Importing geopandas"
   ]
  },
  {
   "cell_type": "code",
   "execution_count": 39,
   "metadata": {},
   "outputs": [],
   "source": [
    "main_path = \"../../_data/LIMITE_DISTRITAL_2020_INEI\"\n",
    "files = os.listdir( main_path )\n",
    "\n",
    "for fl in files:\n",
    "    \n",
    "    extension = fl.split(\".\")[-1]\n",
    "    \n",
    "    # Rename files\n",
    "    os.rename( f\"{ main_path }/{fl}\", f\"{ main_path }/INEI_LIMITE_DISTRITAL.{extension}\" )\n",
    "\n",
    "district = gp.read_file( f\"{main_path}/INEI_LIMITE_DISTRITAL.shp\" )"
   ]
  },
  {
   "cell_type": "code",
   "execution_count": 46,
   "metadata": {},
   "outputs": [
    {
     "data": {
      "text/plain": [
       "<Projected CRS: EPSG:24891>\n",
       "Name: PSAD56 / Peru west zone\n",
       "Axis Info [cartesian]:\n",
       "- X[east]: Easting (metre)\n",
       "- Y[north]: Northing (metre)\n",
       "Area of Use:\n",
       "- name: Peru - west of 79°W.\n",
       "- bounds: (-81.41, -8.32, -79.0, -3.38)\n",
       "Coordinate Operation:\n",
       "- name: Peru west zone\n",
       "- method: Transverse Mercator\n",
       "Datum: Provisional South American Datum 1956\n",
       "- Ellipsoid: International 1924\n",
       "- Prime Meridian: Greenwich"
      ]
     },
     "execution_count": 46,
     "metadata": {},
     "output_type": "execute_result"
    }
   ],
   "source": [
    "district.geometry.crs\n",
    "\n",
    "# Projected https://epsg.io/24891 area for Peru to get centroids\n",
    "projected_district = district.to_crs( epsg = 24891 )\n",
    "\n",
    "projected_district.geometry.crs"
   ]
  },
  {
   "cell_type": "code",
   "execution_count": 50,
   "metadata": {},
   "outputs": [],
   "source": [
    "projected_district[ 'centroids' ] = projected_district.centroid\n",
    "\n",
    "projected_district[ 'Centroid_Latitude' ] = projected_district[ 'centroids' ].to_crs( epsg = 4326 ).y\n",
    "projected_district[ 'Centroid_Longitude' ] = projected_district[ 'centroids' ].to_crs( epsg = 4326 ).x\n",
    "\n",
    "ctr_data = projected_district.loc[ : , [ 'CCDD', 'NOMBDEP',  'CCPP',  'NOMBPROV',  'CCDI',\n",
    "                                        'NOMBDIST', 'CAPITAL', 'UBIGEO', 'IDPROV', 'CODIGO',\n",
    "                                        \"Centroid_Latitude\", \"Centroid_Longitude\" ] ]"
   ]
  },
  {
   "cell_type": "code",
   "execution_count": 52,
   "metadata": {},
   "outputs": [],
   "source": [
    "ctr_data.to_excel( r'../../_data/peru_districts_centroids.xlsx', index = False )"
   ]
  },
  {
   "cell_type": "markdown",
   "metadata": {},
   "source": [
    "Importing data"
   ]
  },
  {
   "cell_type": "code",
   "execution_count": 76,
   "metadata": {},
   "outputs": [],
   "source": [
    "# \n",
    "df1  = pd.read_csv( r\"C:\\Users\\Anzony\\Documents\\GitHub\\Diplomado_PUCP\\_data\\salud_places_peru.csv\")"
   ]
  },
  {
   "cell_type": "markdown",
   "metadata": {},
   "source": [
    "Selecting department"
   ]
  },
  {
   "cell_type": "code",
   "execution_count": 101,
   "metadata": {},
   "outputs": [],
   "source": [
    "df1.loc[ ( df1.latitud != 0 ), 'ind' ] = 1\n",
    "df1.loc[ ( df1.latitud == 0 ), 'ind' ] = np.nan"
   ]
  },
  {
   "cell_type": "code",
   "execution_count": 105,
   "metadata": {},
   "outputs": [
    {
     "data": {
      "text/html": [
       "<div>\n",
       "<style scoped>\n",
       "    .dataframe tbody tr th:only-of-type {\n",
       "        vertical-align: middle;\n",
       "    }\n",
       "\n",
       "    .dataframe tbody tr th {\n",
       "        vertical-align: top;\n",
       "    }\n",
       "\n",
       "    .dataframe thead th {\n",
       "        text-align: right;\n",
       "    }\n",
       "</style>\n",
       "<table border=\"1\" class=\"dataframe\">\n",
       "  <thead>\n",
       "    <tr style=\"text-align: right;\">\n",
       "      <th></th>\n",
       "      <th>ind</th>\n",
       "    </tr>\n",
       "    <tr>\n",
       "      <th>diresa</th>\n",
       "      <th></th>\n",
       "    </tr>\n",
       "  </thead>\n",
       "  <tbody>\n",
       "    <tr>\n",
       "      <th>PASCO</th>\n",
       "      <td>0.899135</td>\n",
       "    </tr>\n",
       "    <tr>\n",
       "      <th>AMAZONAS</th>\n",
       "      <td>0.876289</td>\n",
       "    </tr>\n",
       "    <tr>\n",
       "      <th>AYACUCHO</th>\n",
       "      <td>0.875421</td>\n",
       "    </tr>\n",
       "    <tr>\n",
       "      <th>HUANCAVELICA</th>\n",
       "      <td>0.875248</td>\n",
       "    </tr>\n",
       "    <tr>\n",
       "      <th>UCAYALI</th>\n",
       "      <td>0.839009</td>\n",
       "    </tr>\n",
       "    <tr>\n",
       "      <th>APURIMAC</th>\n",
       "      <td>0.820285</td>\n",
       "    </tr>\n",
       "    <tr>\n",
       "      <th>CAJAMARCA</th>\n",
       "      <td>0.819368</td>\n",
       "    </tr>\n",
       "    <tr>\n",
       "      <th>PUNO</th>\n",
       "      <td>0.785894</td>\n",
       "    </tr>\n",
       "    <tr>\n",
       "      <th>HUANUCO</th>\n",
       "      <td>0.766990</td>\n",
       "    </tr>\n",
       "    <tr>\n",
       "      <th>TUMBES</th>\n",
       "      <td>0.757353</td>\n",
       "    </tr>\n",
       "    <tr>\n",
       "      <th>ANCASH</th>\n",
       "      <td>0.756098</td>\n",
       "    </tr>\n",
       "    <tr>\n",
       "      <th>LORETO</th>\n",
       "      <td>0.727053</td>\n",
       "    </tr>\n",
       "    <tr>\n",
       "      <th>MOQUEGUA</th>\n",
       "      <td>0.720238</td>\n",
       "    </tr>\n",
       "    <tr>\n",
       "      <th>SAN MARTIN</th>\n",
       "      <td>0.720000</td>\n",
       "    </tr>\n",
       "    <tr>\n",
       "      <th>MADRE DE DIOS</th>\n",
       "      <td>0.702290</td>\n",
       "    </tr>\n",
       "    <tr>\n",
       "      <th>LIMA PROVINCIAS</th>\n",
       "      <td>0.641509</td>\n",
       "    </tr>\n",
       "    <tr>\n",
       "      <th>LA LIBERTAD</th>\n",
       "      <td>0.614668</td>\n",
       "    </tr>\n",
       "    <tr>\n",
       "      <th>JUNIN</th>\n",
       "      <td>0.604708</td>\n",
       "    </tr>\n",
       "    <tr>\n",
       "      <th>PIURA</th>\n",
       "      <td>0.589674</td>\n",
       "    </tr>\n",
       "    <tr>\n",
       "      <th>CUSCO</th>\n",
       "      <td>0.582996</td>\n",
       "    </tr>\n",
       "    <tr>\n",
       "      <th>LAMBAYEQUE</th>\n",
       "      <td>0.460241</td>\n",
       "    </tr>\n",
       "    <tr>\n",
       "      <th>AREQUIPA</th>\n",
       "      <td>0.458841</td>\n",
       "    </tr>\n",
       "    <tr>\n",
       "      <th>TACNA</th>\n",
       "      <td>0.449664</td>\n",
       "    </tr>\n",
       "    <tr>\n",
       "      <th>ICA</th>\n",
       "      <td>0.425403</td>\n",
       "    </tr>\n",
       "    <tr>\n",
       "      <th>LIMA DIRIS SUR</th>\n",
       "      <td>0.396802</td>\n",
       "    </tr>\n",
       "    <tr>\n",
       "      <th>LIMA DIRIS ESTE</th>\n",
       "      <td>0.381043</td>\n",
       "    </tr>\n",
       "    <tr>\n",
       "      <th>LIMA DIRIS NORTE</th>\n",
       "      <td>0.338667</td>\n",
       "    </tr>\n",
       "    <tr>\n",
       "      <th>CALLAO</th>\n",
       "      <td>0.294658</td>\n",
       "    </tr>\n",
       "    <tr>\n",
       "      <th>LIMA DIRIS CENTRO</th>\n",
       "      <td>0.287089</td>\n",
       "    </tr>\n",
       "  </tbody>\n",
       "</table>\n",
       "</div>"
      ],
      "text/plain": [
       "                        ind\n",
       "diresa                     \n",
       "PASCO              0.899135\n",
       "AMAZONAS           0.876289\n",
       "AYACUCHO           0.875421\n",
       "HUANCAVELICA       0.875248\n",
       "UCAYALI            0.839009\n",
       "APURIMAC           0.820285\n",
       "CAJAMARCA          0.819368\n",
       "PUNO               0.785894\n",
       "HUANUCO            0.766990\n",
       "TUMBES             0.757353\n",
       "ANCASH             0.756098\n",
       "LORETO             0.727053\n",
       "MOQUEGUA           0.720238\n",
       "SAN MARTIN         0.720000\n",
       "MADRE DE DIOS      0.702290\n",
       "LIMA PROVINCIAS    0.641509\n",
       "LA LIBERTAD        0.614668\n",
       "JUNIN              0.604708\n",
       "PIURA              0.589674\n",
       "CUSCO              0.582996\n",
       "LAMBAYEQUE         0.460241\n",
       "AREQUIPA           0.458841\n",
       "TACNA              0.449664\n",
       "ICA                0.425403\n",
       "LIMA DIRIS SUR     0.396802\n",
       "LIMA DIRIS ESTE    0.381043\n",
       "LIMA DIRIS NORTE   0.338667\n",
       "CALLAO             0.294658\n",
       "LIMA DIRIS CENTRO  0.287089"
      ]
     },
     "execution_count": 105,
     "metadata": {},
     "output_type": "execute_result"
    }
   ],
   "source": [
    "df1.groupby(\"diresa\")[[ 'ind']].apply(lambda x: x.notnull().mean()) \\\n",
    "        .sort_values( 'ind', ascending = False )"
   ]
  },
  {
   "cell_type": "markdown",
   "metadata": {},
   "source": [
    "We decide Cajamarca is the best option"
   ]
  },
  {
   "cell_type": "code",
   "execution_count": 113,
   "metadata": {},
   "outputs": [],
   "source": [
    "df2 = df1[ df1.diresa == 'CAJAMARCA' ].copy()"
   ]
  },
  {
   "cell_type": "markdown",
   "metadata": {},
   "source": [
    "From Dataframe to Geopandas"
   ]
  },
  {
   "cell_type": "code",
   "execution_count": 114,
   "metadata": {},
   "outputs": [],
   "source": [
    "# Keep estb with lat and long\n",
    "df3 = df2[ df2.latitud != 0 ].copy()\n",
    "\n",
    "# Make df3 a geopandas\n",
    "df3_geo = gp.GeoDataFrame( df3 , \n",
    "                           geometry= gp.points_from_xy( \n",
    "                                      df3.longitud, \n",
    "                                      df3.latitud))\n",
    "\n",
    "# set crs\n",
    "# https://gis.stackexchange.com/questions/327033/finding-the-right-crs-for-google-map-coordinates\n",
    "df3_geo = df3_geo.set_crs( 'epsg:4326' )"
   ]
  },
  {
   "cell_type": "markdown",
   "metadata": {},
   "source": [
    "Intersect Cajamarca geolocation with Geopandas to get UBIGEO"
   ]
  },
  {
   "cell_type": "code",
   "execution_count": 117,
   "metadata": {},
   "outputs": [],
   "source": [
    "# Import shapefile\n",
    "dist_shp = gp.read_file( f\"{main_path}/INEI_LIMITE_DISTRITAL.shp\" )\n",
    "\n",
    "# Intersect with geo_data\n",
    "intersected_df = gp.overlay( df3_geo , dist_shp , how = 'intersection')\n",
    "\n",
    "# Drop unimportant columns\n",
    "caj_loc = intersected_df.drop( ['DESCARGAR', 'WHATSAPP', 'CONTACTO', 'geometry'],  axis = 1 )\n",
    "\n",
    "# Export\n",
    "caj_loc.to_excel( r'../../_data/cajamarca_data_helth_estb.xlsx' , index = False )"
   ]
  }
 ],
 "metadata": {
  "hide_input": false,
  "kernelspec": {
   "display_name": "Python 3",
   "language": "python",
   "name": "python3"
  },
  "language_info": {
   "codemirror_mode": {
    "name": "ipython",
    "version": 3
   },
   "file_extension": ".py",
   "mimetype": "text/x-python",
   "name": "python",
   "nbconvert_exporter": "python",
   "pygments_lexer": "ipython3",
   "version": "3.8.6"
  }
 },
 "nbformat": 4,
 "nbformat_minor": 4
}

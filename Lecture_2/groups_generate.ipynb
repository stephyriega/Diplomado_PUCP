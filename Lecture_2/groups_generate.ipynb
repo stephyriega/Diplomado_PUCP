{
 "cells": [
  {
   "cell_type": "code",
   "execution_count": 1,
   "metadata": {},
   "outputs": [],
   "source": [
    "import numpy as np"
   ]
  },
  {
   "cell_type": "code",
   "execution_count": 3,
   "metadata": {},
   "outputs": [],
   "source": [
    "np.random.seed(123)\n",
    "students = np.arange( 1, 25 )"
   ]
  },
  {
   "cell_type": "code",
   "execution_count": 4,
   "metadata": {},
   "outputs": [],
   "source": [
    "original = np.arange( 0 , 24 ).tolist()\n",
    "results = []"
   ]
  },
  {
   "cell_type": "code",
   "execution_count": null,
   "metadata": {},
   "outputs": [],
   "source": [
    "for i in range(10):\n",
    "    try:\n",
    "        values = np.random.choice( original, size=5, replace=False)\n",
    "    except:\n",
    "        values = np.random.choice( original, size=4, replace=False)\n",
    "    original = list(set(original).difference(values))\n",
    "    results.append( values )"
   ]
  },
  {
   "cell_type": "code",
   "execution_count": 6,
   "metadata": {},
   "outputs": [],
   "source": [
    "import random\n",
    "\n",
    "def chunks(l, n):\n",
    "    \"\"\"Yield successive n-sized chunks from l.\"\"\"\n",
    "    for i in range(0, len(l), n):\n",
    "        yield l[i:i + n]\n"
   ]
  },
  {
   "cell_type": "code",
   "execution_count": 7,
   "metadata": {},
   "outputs": [],
   "source": [
    "grupos = list(chunks( np.arange(0, 24), 4))"
   ]
  },
  {
   "cell_type": "code",
   "execution_count": 8,
   "metadata": {},
   "outputs": [],
   "source": [
    "import pandas as pd"
   ]
  },
  {
   "cell_type": "code",
   "execution_count": 9,
   "metadata": {},
   "outputs": [],
   "source": [
    "data1 = pd.read_excel( r\"C:\\Users\\Anzony\\Downloads\\ListaParticipantes_2023 Curso de Capac (2).xls\" )"
   ]
  },
  {
   "cell_type": "code",
   "execution_count": 14,
   "metadata": {},
   "outputs": [],
   "source": [
    "df2 = data1.loc[:, ['Código', 'Apellidos y nombres']].copy()"
   ]
  },
  {
   "cell_type": "code",
   "execution_count": 17,
   "metadata": {},
   "outputs": [
    {
     "name": "stderr",
     "output_type": "stream",
     "text": [
      "<ipython-input-17-3dfd324ba68f>:4: FutureWarning: The frame.append method is deprecated and will be removed from pandas in a future version. Use pandas.concat instead.\n",
      "  data1 = df2.append(s,ignore_index=True)\n"
     ]
    }
   ],
   "source": [
    "s = pd.Series([None,None],index=['Código', 'Apellidos y nombres'])\n",
    "\n",
    "# Appending empty series to df\n",
    "data1 = df2.append(s,ignore_index=True)"
   ]
  },
  {
   "cell_type": "code",
   "execution_count": 18,
   "metadata": {},
   "outputs": [],
   "source": [
    "data1['Grupos'] = \"\" \n",
    "\n",
    "i = 1\n",
    "for gr in grupos:\n",
    "    data1.iloc[ gr, -1 ] = f\"Grupo {i}\"\n",
    "    i = i + 1"
   ]
  },
  {
   "cell_type": "code",
   "execution_count": 21,
   "metadata": {},
   "outputs": [],
   "source": [
    "groups = data1.loc[:, [ 'Apellidos y nombres', 'Grupos' ]] \\\n",
    "                .assign(order= data1.groupby(['Grupos']).cumcount()) \\\n",
    "                .pivot( index = ['order'] , columns = ['Grupos']) \\\n",
    "                .replace( np.nan, \"\") \n"
   ]
  },
  {
   "cell_type": "code",
   "execution_count": 22,
   "metadata": {},
   "outputs": [
    {
     "data": {
      "text/html": [
       "<div>\n",
       "<style scoped>\n",
       "    .dataframe tbody tr th:only-of-type {\n",
       "        vertical-align: middle;\n",
       "    }\n",
       "\n",
       "    .dataframe tbody tr th {\n",
       "        vertical-align: top;\n",
       "    }\n",
       "\n",
       "    .dataframe thead tr th {\n",
       "        text-align: left;\n",
       "    }\n",
       "\n",
       "    .dataframe thead tr:last-of-type th {\n",
       "        text-align: right;\n",
       "    }\n",
       "</style>\n",
       "<table border=\"1\" class=\"dataframe\">\n",
       "  <thead>\n",
       "    <tr>\n",
       "      <th></th>\n",
       "      <th colspan=\"6\" halign=\"left\">Apellidos y nombres</th>\n",
       "    </tr>\n",
       "    <tr>\n",
       "      <th>Grupos</th>\n",
       "      <th>Grupo 1</th>\n",
       "      <th>Grupo 2</th>\n",
       "      <th>Grupo 3</th>\n",
       "      <th>Grupo 4</th>\n",
       "      <th>Grupo 5</th>\n",
       "      <th>Grupo 6</th>\n",
       "    </tr>\n",
       "    <tr>\n",
       "      <th>order</th>\n",
       "      <th></th>\n",
       "      <th></th>\n",
       "      <th></th>\n",
       "      <th></th>\n",
       "      <th></th>\n",
       "      <th></th>\n",
       "    </tr>\n",
       "  </thead>\n",
       "  <tbody>\n",
       "    <tr>\n",
       "      <th>0</th>\n",
       "      <td>ORELLANA QUISPE, CRISTIAN NASSER</td>\n",
       "      <td>SUAÑA ZEGARRA, ADRIAN ANDRE</td>\n",
       "      <td>VIDAL VIDAL, ROCIO GABRIELA</td>\n",
       "      <td>CALDAS VELASQUEZ, JOSUE DANIEL</td>\n",
       "      <td>MELÉNDEZ APONTE, JUAN DIEGO</td>\n",
       "      <td>INGARUCA RIVERA, GRETTEL ALEXANDRA</td>\n",
       "    </tr>\n",
       "    <tr>\n",
       "      <th>1</th>\n",
       "      <td>CAMACHO GAVIDIA, ABEL FERNANDO</td>\n",
       "      <td>LAMA MAVILA, HECTOR ANDRE</td>\n",
       "      <td>BOYCO ORAMS, ALEJANDRO</td>\n",
       "      <td>SALAS NUÑEZ BORJA, FABIO MANUEL</td>\n",
       "      <td>CRISTIAN SERRANO, ARONE</td>\n",
       "      <td>HUERTA ESPINOZA, YAJAIRA ALEXANDRA</td>\n",
       "    </tr>\n",
       "    <tr>\n",
       "      <th>2</th>\n",
       "      <td>TINTAYA ORIHUELA, MEIR ALVARO</td>\n",
       "      <td>MEZA HINOJO, GUSTAVO</td>\n",
       "      <td>RIEGA ESCALANTE, STEPHY ROSARIO</td>\n",
       "      <td>CALVO PORTOCARRERO, GABRIELA ISABEL</td>\n",
       "      <td>NÚÑEZ HUAMÁN, CÉSAR AGUSTO</td>\n",
       "      <td>HUANCA MARTINEZ, JORGE ALBERTO</td>\n",
       "    </tr>\n",
       "    <tr>\n",
       "      <th>3</th>\n",
       "      <td>PALOMINO SEGUÍN, AFRANIA</td>\n",
       "      <td>JACOBS LUQUE, NICOLAS</td>\n",
       "      <td>PEREZ GONZALES, JUAN CARLOS</td>\n",
       "      <td>IBAÑEZ ABANTO, ANGEL MAURICIO</td>\n",
       "      <td>SOTO PACHERRES, RODRIGO FRANCO</td>\n",
       "      <td></td>\n",
       "    </tr>\n",
       "  </tbody>\n",
       "</table>\n",
       "</div>"
      ],
      "text/plain": [
       "                     Apellidos y nombres                               \\\n",
       "Grupos                           Grupo 1                      Grupo 2   \n",
       "order                                                                   \n",
       "0       ORELLANA QUISPE, CRISTIAN NASSER  SUAÑA ZEGARRA, ADRIAN ANDRE   \n",
       "1         CAMACHO GAVIDIA, ABEL FERNANDO    LAMA MAVILA, HECTOR ANDRE   \n",
       "2          TINTAYA ORIHUELA, MEIR ALVARO         MEZA HINOJO, GUSTAVO   \n",
       "3               PALOMINO SEGUÍN, AFRANIA        JACOBS LUQUE, NICOLAS   \n",
       "\n",
       "                                                                              \\\n",
       "Grupos                          Grupo 3                              Grupo 4   \n",
       "order                                                                          \n",
       "0           VIDAL VIDAL, ROCIO GABRIELA       CALDAS VELASQUEZ, JOSUE DANIEL   \n",
       "1                BOYCO ORAMS, ALEJANDRO      SALAS NUÑEZ BORJA, FABIO MANUEL   \n",
       "2       RIEGA ESCALANTE, STEPHY ROSARIO  CALVO PORTOCARRERO, GABRIELA ISABEL   \n",
       "3           PEREZ GONZALES, JUAN CARLOS        IBAÑEZ ABANTO, ANGEL MAURICIO   \n",
       "\n",
       "                                                                            \n",
       "Grupos                         Grupo 5                             Grupo 6  \n",
       "order                                                                       \n",
       "0          MELÉNDEZ APONTE, JUAN DIEGO  INGARUCA RIVERA, GRETTEL ALEXANDRA  \n",
       "1              CRISTIAN SERRANO, ARONE  HUERTA ESPINOZA, YAJAIRA ALEXANDRA  \n",
       "2           NÚÑEZ HUAMÁN, CÉSAR AGUSTO      HUANCA MARTINEZ, JORGE ALBERTO  \n",
       "3       SOTO PACHERRES, RODRIGO FRANCO                                      "
      ]
     },
     "execution_count": 22,
     "metadata": {},
     "output_type": "execute_result"
    }
   ],
   "source": [
    "groups"
   ]
  },
  {
   "cell_type": "code",
   "execution_count": 23,
   "metadata": {},
   "outputs": [],
   "source": [
    "col1, col2 = zip(*groups.columns)"
   ]
  },
  {
   "cell_type": "code",
   "execution_count": 24,
   "metadata": {},
   "outputs": [],
   "source": [
    "groups.columns = list(col2)"
   ]
  },
  {
   "cell_type": "code",
   "execution_count": 25,
   "metadata": {},
   "outputs": [
    {
     "data": {
      "text/plain": [
       "Index(['Código', 'Apellidos y nombres', 'Grupos'], dtype='object')"
      ]
     },
     "execution_count": 25,
     "metadata": {},
     "output_type": "execute_result"
    }
   ],
   "source": [
    "data1.columns"
   ]
  },
  {
   "cell_type": "code",
   "execution_count": 26,
   "metadata": {},
   "outputs": [],
   "source": [
    "data1.loc[:, : ].to_excel(r\"C:\\Users\\Anzony\\Downloads/alumnos_diplomado.xlsx\", index = False )"
   ]
  },
  {
   "cell_type": "code",
   "execution_count": 80,
   "metadata": {},
   "outputs": [],
   "source": [
    "groups.iloc[:, 0:5].to_html( r\"..\\_data/groups2022_2_pt1.html\", index = False )"
   ]
  },
  {
   "cell_type": "code",
   "execution_count": 29,
   "metadata": {},
   "outputs": [],
   "source": [
    "groups.iloc[:, :].to_html( r\"C:\\Users\\Anzony\\Documents\\GitHub\\Diplomado_PUCP/groups2022_2_pt2.html\", index = False )"
   ]
  },
  {
   "cell_type": "code",
   "execution_count": 28,
   "metadata": {},
   "outputs": [
    {
     "data": {
      "text/html": [
       "<div>\n",
       "<style scoped>\n",
       "    .dataframe tbody tr th:only-of-type {\n",
       "        vertical-align: middle;\n",
       "    }\n",
       "\n",
       "    .dataframe tbody tr th {\n",
       "        vertical-align: top;\n",
       "    }\n",
       "\n",
       "    .dataframe thead th {\n",
       "        text-align: right;\n",
       "    }\n",
       "</style>\n",
       "<table border=\"1\" class=\"dataframe\">\n",
       "  <thead>\n",
       "    <tr style=\"text-align: right;\">\n",
       "      <th></th>\n",
       "      <th>Grupo 1</th>\n",
       "      <th>Grupo 2</th>\n",
       "      <th>Grupo 3</th>\n",
       "      <th>Grupo 4</th>\n",
       "      <th>Grupo 5</th>\n",
       "      <th>Grupo 6</th>\n",
       "    </tr>\n",
       "    <tr>\n",
       "      <th>order</th>\n",
       "      <th></th>\n",
       "      <th></th>\n",
       "      <th></th>\n",
       "      <th></th>\n",
       "      <th></th>\n",
       "      <th></th>\n",
       "    </tr>\n",
       "  </thead>\n",
       "  <tbody>\n",
       "    <tr>\n",
       "      <th>0</th>\n",
       "      <td>ORELLANA QUISPE, CRISTIAN NASSER</td>\n",
       "      <td>SUAÑA ZEGARRA, ADRIAN ANDRE</td>\n",
       "      <td>VIDAL VIDAL, ROCIO GABRIELA</td>\n",
       "      <td>CALDAS VELASQUEZ, JOSUE DANIEL</td>\n",
       "      <td>MELÉNDEZ APONTE, JUAN DIEGO</td>\n",
       "      <td>INGARUCA RIVERA, GRETTEL ALEXANDRA</td>\n",
       "    </tr>\n",
       "    <tr>\n",
       "      <th>1</th>\n",
       "      <td>CAMACHO GAVIDIA, ABEL FERNANDO</td>\n",
       "      <td>LAMA MAVILA, HECTOR ANDRE</td>\n",
       "      <td>BOYCO ORAMS, ALEJANDRO</td>\n",
       "      <td>SALAS NUÑEZ BORJA, FABIO MANUEL</td>\n",
       "      <td>CRISTIAN SERRANO, ARONE</td>\n",
       "      <td>HUERTA ESPINOZA, YAJAIRA ALEXANDRA</td>\n",
       "    </tr>\n",
       "    <tr>\n",
       "      <th>2</th>\n",
       "      <td>TINTAYA ORIHUELA, MEIR ALVARO</td>\n",
       "      <td>MEZA HINOJO, GUSTAVO</td>\n",
       "      <td>RIEGA ESCALANTE, STEPHY ROSARIO</td>\n",
       "      <td>CALVO PORTOCARRERO, GABRIELA ISABEL</td>\n",
       "      <td>NÚÑEZ HUAMÁN, CÉSAR AGUSTO</td>\n",
       "      <td>HUANCA MARTINEZ, JORGE ALBERTO</td>\n",
       "    </tr>\n",
       "    <tr>\n",
       "      <th>3</th>\n",
       "      <td>PALOMINO SEGUÍN, AFRANIA</td>\n",
       "      <td>JACOBS LUQUE, NICOLAS</td>\n",
       "      <td>PEREZ GONZALES, JUAN CARLOS</td>\n",
       "      <td>IBAÑEZ ABANTO, ANGEL MAURICIO</td>\n",
       "      <td>SOTO PACHERRES, RODRIGO FRANCO</td>\n",
       "      <td></td>\n",
       "    </tr>\n",
       "  </tbody>\n",
       "</table>\n",
       "</div>"
      ],
      "text/plain": [
       "                                Grupo 1                      Grupo 2  \\\n",
       "order                                                                  \n",
       "0      ORELLANA QUISPE, CRISTIAN NASSER  SUAÑA ZEGARRA, ADRIAN ANDRE   \n",
       "1        CAMACHO GAVIDIA, ABEL FERNANDO    LAMA MAVILA, HECTOR ANDRE   \n",
       "2         TINTAYA ORIHUELA, MEIR ALVARO         MEZA HINOJO, GUSTAVO   \n",
       "3              PALOMINO SEGUÍN, AFRANIA        JACOBS LUQUE, NICOLAS   \n",
       "\n",
       "                               Grupo 3                              Grupo 4  \\\n",
       "order                                                                         \n",
       "0          VIDAL VIDAL, ROCIO GABRIELA       CALDAS VELASQUEZ, JOSUE DANIEL   \n",
       "1               BOYCO ORAMS, ALEJANDRO      SALAS NUÑEZ BORJA, FABIO MANUEL   \n",
       "2      RIEGA ESCALANTE, STEPHY ROSARIO  CALVO PORTOCARRERO, GABRIELA ISABEL   \n",
       "3          PEREZ GONZALES, JUAN CARLOS        IBAÑEZ ABANTO, ANGEL MAURICIO   \n",
       "\n",
       "                              Grupo 5                             Grupo 6  \n",
       "order                                                                      \n",
       "0         MELÉNDEZ APONTE, JUAN DIEGO  INGARUCA RIVERA, GRETTEL ALEXANDRA  \n",
       "1             CRISTIAN SERRANO, ARONE  HUERTA ESPINOZA, YAJAIRA ALEXANDRA  \n",
       "2          NÚÑEZ HUAMÁN, CÉSAR AGUSTO      HUANCA MARTINEZ, JORGE ALBERTO  \n",
       "3      SOTO PACHERRES, RODRIGO FRANCO                                      "
      ]
     },
     "execution_count": 28,
     "metadata": {},
     "output_type": "execute_result"
    }
   ],
   "source": [
    "groups"
   ]
  }
 ],
 "metadata": {
  "hide_input": false,
  "kernelspec": {
   "display_name": "Python 3",
   "language": "python",
   "name": "python3"
  },
  "language_info": {
   "codemirror_mode": {
    "name": "ipython",
    "version": 3
   },
   "file_extension": ".py",
   "mimetype": "text/x-python",
   "name": "python",
   "nbconvert_exporter": "python",
   "pygments_lexer": "ipython3",
   "version": "3.8.6"
  },
  "toc": {
   "base_numbering": 1,
   "nav_menu": {},
   "number_sections": true,
   "sideBar": true,
   "skip_h1_title": false,
   "title_cell": "Table of Contents",
   "title_sidebar": "Contents",
   "toc_cell": false,
   "toc_position": {},
   "toc_section_display": true,
   "toc_window_display": false
  }
 },
 "nbformat": 4,
 "nbformat_minor": 4
}

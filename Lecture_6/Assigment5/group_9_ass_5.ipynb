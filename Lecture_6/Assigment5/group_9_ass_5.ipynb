{
 "cells": [
  {
   "cell_type": "markdown",
   "metadata": {},
   "source": [
    "# Assigment 5\n",
    "\n",
    "This assigment will be graded if everything works well. I will run the script as once and everything should be done without errors and mistakes. I should be able to run your scripts in my computer and get all the results. **USE RELATIVE PATHS**. An error or exception or anything that breaks the code will means NO GRADE (0). Additionally, you are not able to modify any file handly. It also means NO GRADE (0). Comment everything you think will help others read your script. We expect 0 errors using GitHub. Everything will be graded!\n",
    "\n",
    "**ASK EVERYTHING! WE ARE HERE TO HELP YOU!**"
   ]
  },
  {
   "cell_type": "markdown",
   "metadata": {},
   "source": [
    "In this path **..\\_data\\sbs\\B_RawData\\bancos** you will find scraped data from [this link](https://www.sbs.gob.pe/app/pp/EstadisticasSAEEPortal/Paginas/TIActivaTipoCreditoEmpresa.aspx?tip=B). We get all the information of the last available day of every each month.\n",
    "\n",
    "1. Generate a function called **import_data_sbs_banks** that take as arguments `start_month`, `start_year`, `end_month` and `end_year`. This function should be able to import the files in **..\\_data\\sbs\\B_RawData\\bancos** taking into consideration these arguments. Additionally, it should work if it is only given the first two arguments `(start_mont, start_year)`. The function should `returns` a nested dictionary. The `main key` must be year and `second key` must be `month`. The values should be the dataframes."
   ]
  },
  {
   "cell_type": "code",
   "execution_count": null,
   "outputs": [],
   "source": [
    "import pandas as pd\n",
    "import numpy as np\n",
    "import os\n",
    "\n",
    "# Primero revisamos cuáles son los documentos que se tienen en la ubicación\n",
    "path = \"../../_data/sbs/B_RawData/bancos\"\n",
    "files = os.listdir(path)\n",
    "\n",
    "# Confirmamos si ha funcionado y observamos la data\n",
    "for name in files:\n",
    "    print(name)"
   ],
   "metadata": {
    "collapsed": false,
    "pycharm": {
     "is_executing": true
    }
   }
  },
  {
   "cell_type": "code",
   "execution_count": 15,
   "outputs": [],
   "source": [
    "# Creamos una función que permita importar desde la carpeta indicada las bases de datos. Ponemos como default el mes y año final para que funcione aun si no se indican\n",
    "def import_data_sbs_banks(start_month , start_year , end_month = 8, end_year = 2022):\n",
    "\n",
    "    dict_banks = {}                 # Generamos el diccionario final\n",
    "    dict_years = {}                 # Generamos el diccionario de cada año que será llenado para cada año\n",
    "    for anio in range(start_year, end_year + 1):    # Definimos los parámetros de loop en función de los argumentos de import_data_sbs_banks()\n",
    "        for mes in range(start_month, end_month + 1):   # Definimos los parámetros de loop en función de los argumentos de import_data_sbs_banks()\n",
    "            for dia in range(26,32):\n",
    "                try:\n",
    "                    df = pd.read_excel(r\"../../_data\\sbs\\B_RawData\\bancos\\table_clean_\"+str(dia)+\"_\"+str(mes)+\"_\"+str(anio)+\".xlsx\")\n",
    "                    locals()[f'df{mes}_{anio}'] = df                  #Generamos un nuevo df para cada año y mes\n",
    "                except:\n",
    "                    continue\n",
    "                # Generamos la key para cada mes incluido en el loop\n",
    "                if mes not in dict_years:\n",
    "                    dict_years[mes] = {}\n",
    "                else:\n",
    "                    continue\n",
    "                # Llenamos los values de los diccionarios con los dataframe\n",
    "                dict_years[mes]=locals()[f'df{mes}_{anio}']\n",
    "        # Generamos la key para cada año incluido en el loop\n",
    "        if anio not in dict_banks:\n",
    "            dict_banks[anio] = {}\n",
    "        else:\n",
    "            continue\n",
    "        # Llenamos el diccionario con los diccionarios generados en el loop previo\n",
    "        dict_banks[anio]=dict_years\n",
    "    # Definimos cuál es el resultado que se generará a partir de la función\n",
    "    return dict_banks\n"
   ],
   "metadata": {
    "collapsed": false
   }
  },
  {
   "cell_type": "code",
   "execution_count": 22,
   "outputs": [
    {
     "data": {
      "text/plain": "              Unnamed: 0                 COMERCIAL COMERCIAL.1  \\\n0                    NaN  Avances en Cta.Corriente  Sobregiros   \n1                    NaN  Avances en Cta.Corriente  Sobregiros   \n2                TRABAJO                         -           -   \n3                   BBVA                     24.82       48.76   \n4      BANCO DE COMERCIO                    138.18      138.18   \n5       BANCO DE CREDITO                     37.64       53.31   \n6        BANCO PICHINCHA                         -      113.09   \n7                 BANBIF                     23.14       68.81   \n8     STANDARD CHARTERED                         -           -   \n9     BANCO SUDAMERICANO                     50.86       57.39   \n10       WIESE SUDAMERIS                     14.07       44.81   \n11           BANK BOSTON                     64.96       82.12   \n12        BNP PARIBAS EL                         -       30.00   \n13     CITIBANK DEL PERU                         -       76.10   \n14             INTERBANK                      6.26       32.93   \n15               MIBANCO                         -           -   \n16  Promedio del Sistema                     24.61       53.36   \n\n                          COMERCIAL.2                       COMERCIAL.3  \\\n0   Dsctos. y préstamos hasta 30 días  Dsctos. y préstamos 31 - 90 días   \n1   Dsctos. y préstamos hasta 30 días  Dsctos. y préstamos 31 - 90 días   \n2                                   -                                 -   \n3                                5.45                              9.01   \n4                               46.25                             23.00   \n5                                4.91                              6.66   \n6                               12.31                             13.93   \n7                               14.23                             11.34   \n8                                   -                              6.44   \n9                               16.22                             11.35   \n10                              24.86                             10.37   \n11                               5.62                              5.72   \n12                                  -                                 -   \n13                               5.92                              7.89   \n14                               7.12                              4.86   \n15                                  -                             50.00   \n16                               5.58                              7.66   \n\n                          COMERCIAL.4                         COMERCIAL.5  \\\n0   Dsctos. y préstamos 91 - 180 días  Dsctos. y préstamos 181 - 360 días   \n1   Dsctos. y préstamos 91 - 180 días  Dsctos. y préstamos 181 - 360 días   \n2                                   -                                   -   \n3                               10.35                               12.31   \n4                               20.26                               23.00   \n5                                7.78                                7.95   \n6                               13.59                               15.50   \n7                               10.03                                8.29   \n8                                   -                                   -   \n9                               11.16                               35.46   \n10                               6.25                                6.52   \n11                               5.84                                   -   \n12                                  -                                   -   \n13                               9.27                               14.19   \n14                               5.98                                6.80   \n15                                  -                               46.22   \n16                               8.30                               10.25   \n\n                         COMERCIAL.6 A MICROEMPRESAS2  \\\n0   Dsctos. y préstamos más 360 días       Sobregiros   \n1   Dsctos. y préstamos más 360 días       Sobregiros   \n2                                  -                -   \n3                              11.18            49.00   \n4                                  -           138.18   \n5                              15.00                -   \n6                               9.00                -   \n7                              10.00                -   \n8                                  -                -   \n9                              40.00                -   \n10                             10.75           103.79   \n11                                 -                -   \n12                                 -                -   \n13                              3.30                -   \n14                              9.30                -   \n15                             43.14                -   \n16                             10.14            99.60   \n\n                    A MICROEMPRESAS2.1  ...                        CONSUMO  \\\n0   Dsctos. y préstamos hasta 360 días  ...            Tarjeta de crédito3   \n1   Dsctos. y préstamos hasta 360 días  ...  Tarjetas de crédito abiertas4   \n2                                35.70  ...                          70.54   \n3                                35.50  ...                          46.32   \n4                                    -  ...                          24.02   \n5                                47.61  ...                          34.17   \n6                                    -  ...                          51.11   \n7                                    -  ...                          25.00   \n8                                    -  ...                              -   \n9                                41.49  ...                          25.00   \n10                               48.19  ...                          39.04   \n11                                   -  ...                              -   \n12                                   -  ...                              -   \n13                                   -  ...                          59.93   \n14                                   -  ...                          37.97   \n15                               59.13  ...                              -   \n16                               47.80  ...                          42.67   \n\n                        CONSUMO.1            CONSUMO.2  \\\n0             Tarjeta de crédito3  Tarjeta de crédito3   \n1   Tarjetas de crédito cerradas5  Tarjetas de crédito   \n2                           74.57                73.44   \n3                               -                46.32   \n4                               -                24.02   \n5                               -                34.17   \n6                               -                51.11   \n7                               -                25.00   \n8                               -                    -   \n9                               -                25.00   \n10                          69.65                52.34   \n11                              -                    -   \n12                              -                    -   \n13                              -                59.93   \n14                          58.34                39.61   \n15                              -                    -   \n16                          70.78                48.46   \n\n                                      CONSUMO.3  \\\n0                      Préstamos hasta 360 días   \n1   Para préstamos menores o iguales a S/. 1800   \n2                                         42.16   \n3                                         21.47   \n4                                         24.92   \n5                                             -   \n6                                             -   \n7                                         21.33   \n8                                             -   \n9                                         25.48   \n10                                        90.54   \n11                                            -   \n12                                            -   \n13                                            -   \n14                                        27.76   \n15                                        73.97   \n16                                        47.03   \n\n                            CONSUMO.4                 CONSUMO.5  \\\n0            Préstamos hasta 360 días  Préstamos hasta 360 días   \n1   Para préstamos mayores a S/. 1800  Préstamos hasta 360 días   \n2                               42.81                     42.38   \n3                               19.34                     19.48   \n4                               18.49                     23.88   \n5                               17.86                     17.86   \n6                               19.74                     19.74   \n7                               20.70                     20.72   \n8                                   -                         -   \n9                               28.14                     26.79   \n10                              21.55                     67.85   \n11                                  -                         -   \n12                                  -                         -   \n13                                  -                         -   \n14                              28.17                     27.92   \n15                              58.94                     62.59   \n16                              42.08                     44.07   \n\n                                      CONSUMO.6  \\\n0                        Préstamos más 360 días   \n1   Para préstamos menores o iguales a S/. 1800   \n2                                         50.86   \n3                                         21.74   \n4                                         24.99   \n5                                         21.68   \n6                                             -   \n7                                         20.53   \n8                                             -   \n9                                         35.60   \n10                                        88.25   \n11                                            -   \n12                                            -   \n13                                            -   \n14                                        27.12   \n15                                        71.34   \n16                                        62.13   \n\n                            CONSUMO.7                  CONSUMO.8  HIPOTECARIO  \n0              Préstamos más 360 días     Préstamos más 360 días  HIPOTECARIO  \n1   Para préstamos mayores a S/. 1800  Préstamos más de 360 días  HIPOTECARIO  \n2                               48.96                      49.35            -  \n3                               21.75                      21.75        13.03  \n4                               25.01                      25.01            -  \n5                               23.71                      23.71            -  \n6                               28.46                      28.46            -  \n7                               19.88                      19.91            -  \n8                                   -                          -            -  \n9                               24.83                      25.18            -  \n10                              24.38                      37.07            -  \n11                                  -                          -            -  \n12                                  -                          -            -  \n13                                  -                          -            -  \n14                              27.59                      27.58            -  \n15                              46.31                      46.47        25.20  \n16                              27.60                      29.96        13.50  \n\n[17 rows x 21 columns]",
      "text/html": "<div>\n<style scoped>\n    .dataframe tbody tr th:only-of-type {\n        vertical-align: middle;\n    }\n\n    .dataframe tbody tr th {\n        vertical-align: top;\n    }\n\n    .dataframe thead th {\n        text-align: right;\n    }\n</style>\n<table border=\"1\" class=\"dataframe\">\n  <thead>\n    <tr style=\"text-align: right;\">\n      <th></th>\n      <th>Unnamed: 0</th>\n      <th>COMERCIAL</th>\n      <th>COMERCIAL.1</th>\n      <th>COMERCIAL.2</th>\n      <th>COMERCIAL.3</th>\n      <th>COMERCIAL.4</th>\n      <th>COMERCIAL.5</th>\n      <th>COMERCIAL.6</th>\n      <th>A MICROEMPRESAS2</th>\n      <th>A MICROEMPRESAS2.1</th>\n      <th>...</th>\n      <th>CONSUMO</th>\n      <th>CONSUMO.1</th>\n      <th>CONSUMO.2</th>\n      <th>CONSUMO.3</th>\n      <th>CONSUMO.4</th>\n      <th>CONSUMO.5</th>\n      <th>CONSUMO.6</th>\n      <th>CONSUMO.7</th>\n      <th>CONSUMO.8</th>\n      <th>HIPOTECARIO</th>\n    </tr>\n  </thead>\n  <tbody>\n    <tr>\n      <th>0</th>\n      <td>NaN</td>\n      <td>Avances en Cta.Corriente</td>\n      <td>Sobregiros</td>\n      <td>Dsctos. y préstamos hasta 30 días</td>\n      <td>Dsctos. y préstamos 31 - 90 días</td>\n      <td>Dsctos. y préstamos 91 - 180 días</td>\n      <td>Dsctos. y préstamos 181 - 360 días</td>\n      <td>Dsctos. y préstamos más 360 días</td>\n      <td>Sobregiros</td>\n      <td>Dsctos. y préstamos hasta 360 días</td>\n      <td>...</td>\n      <td>Tarjeta de crédito3</td>\n      <td>Tarjeta de crédito3</td>\n      <td>Tarjeta de crédito3</td>\n      <td>Préstamos hasta 360 días</td>\n      <td>Préstamos hasta 360 días</td>\n      <td>Préstamos hasta 360 días</td>\n      <td>Préstamos más 360 días</td>\n      <td>Préstamos más 360 días</td>\n      <td>Préstamos más 360 días</td>\n      <td>HIPOTECARIO</td>\n    </tr>\n    <tr>\n      <th>1</th>\n      <td>NaN</td>\n      <td>Avances en Cta.Corriente</td>\n      <td>Sobregiros</td>\n      <td>Dsctos. y préstamos hasta 30 días</td>\n      <td>Dsctos. y préstamos 31 - 90 días</td>\n      <td>Dsctos. y préstamos 91 - 180 días</td>\n      <td>Dsctos. y préstamos 181 - 360 días</td>\n      <td>Dsctos. y préstamos más 360 días</td>\n      <td>Sobregiros</td>\n      <td>Dsctos. y préstamos hasta 360 días</td>\n      <td>...</td>\n      <td>Tarjetas de crédito abiertas4</td>\n      <td>Tarjetas de crédito cerradas5</td>\n      <td>Tarjetas de crédito</td>\n      <td>Para préstamos menores o iguales a S/. 1800</td>\n      <td>Para préstamos mayores a S/. 1800</td>\n      <td>Préstamos hasta 360 días</td>\n      <td>Para préstamos menores o iguales a S/. 1800</td>\n      <td>Para préstamos mayores a S/. 1800</td>\n      <td>Préstamos más de 360 días</td>\n      <td>HIPOTECARIO</td>\n    </tr>\n    <tr>\n      <th>2</th>\n      <td>TRABAJO</td>\n      <td>-</td>\n      <td>-</td>\n      <td>-</td>\n      <td>-</td>\n      <td>-</td>\n      <td>-</td>\n      <td>-</td>\n      <td>-</td>\n      <td>35.70</td>\n      <td>...</td>\n      <td>70.54</td>\n      <td>74.57</td>\n      <td>73.44</td>\n      <td>42.16</td>\n      <td>42.81</td>\n      <td>42.38</td>\n      <td>50.86</td>\n      <td>48.96</td>\n      <td>49.35</td>\n      <td>-</td>\n    </tr>\n    <tr>\n      <th>3</th>\n      <td>BBVA</td>\n      <td>24.82</td>\n      <td>48.76</td>\n      <td>5.45</td>\n      <td>9.01</td>\n      <td>10.35</td>\n      <td>12.31</td>\n      <td>11.18</td>\n      <td>49.00</td>\n      <td>35.50</td>\n      <td>...</td>\n      <td>46.32</td>\n      <td>-</td>\n      <td>46.32</td>\n      <td>21.47</td>\n      <td>19.34</td>\n      <td>19.48</td>\n      <td>21.74</td>\n      <td>21.75</td>\n      <td>21.75</td>\n      <td>13.03</td>\n    </tr>\n    <tr>\n      <th>4</th>\n      <td>BANCO DE COMERCIO</td>\n      <td>138.18</td>\n      <td>138.18</td>\n      <td>46.25</td>\n      <td>23.00</td>\n      <td>20.26</td>\n      <td>23.00</td>\n      <td>-</td>\n      <td>138.18</td>\n      <td>-</td>\n      <td>...</td>\n      <td>24.02</td>\n      <td>-</td>\n      <td>24.02</td>\n      <td>24.92</td>\n      <td>18.49</td>\n      <td>23.88</td>\n      <td>24.99</td>\n      <td>25.01</td>\n      <td>25.01</td>\n      <td>-</td>\n    </tr>\n    <tr>\n      <th>5</th>\n      <td>BANCO DE CREDITO</td>\n      <td>37.64</td>\n      <td>53.31</td>\n      <td>4.91</td>\n      <td>6.66</td>\n      <td>7.78</td>\n      <td>7.95</td>\n      <td>15.00</td>\n      <td>-</td>\n      <td>47.61</td>\n      <td>...</td>\n      <td>34.17</td>\n      <td>-</td>\n      <td>34.17</td>\n      <td>-</td>\n      <td>17.86</td>\n      <td>17.86</td>\n      <td>21.68</td>\n      <td>23.71</td>\n      <td>23.71</td>\n      <td>-</td>\n    </tr>\n    <tr>\n      <th>6</th>\n      <td>BANCO PICHINCHA</td>\n      <td>-</td>\n      <td>113.09</td>\n      <td>12.31</td>\n      <td>13.93</td>\n      <td>13.59</td>\n      <td>15.50</td>\n      <td>9.00</td>\n      <td>-</td>\n      <td>-</td>\n      <td>...</td>\n      <td>51.11</td>\n      <td>-</td>\n      <td>51.11</td>\n      <td>-</td>\n      <td>19.74</td>\n      <td>19.74</td>\n      <td>-</td>\n      <td>28.46</td>\n      <td>28.46</td>\n      <td>-</td>\n    </tr>\n    <tr>\n      <th>7</th>\n      <td>BANBIF</td>\n      <td>23.14</td>\n      <td>68.81</td>\n      <td>14.23</td>\n      <td>11.34</td>\n      <td>10.03</td>\n      <td>8.29</td>\n      <td>10.00</td>\n      <td>-</td>\n      <td>-</td>\n      <td>...</td>\n      <td>25.00</td>\n      <td>-</td>\n      <td>25.00</td>\n      <td>21.33</td>\n      <td>20.70</td>\n      <td>20.72</td>\n      <td>20.53</td>\n      <td>19.88</td>\n      <td>19.91</td>\n      <td>-</td>\n    </tr>\n    <tr>\n      <th>8</th>\n      <td>STANDARD CHARTERED</td>\n      <td>-</td>\n      <td>-</td>\n      <td>-</td>\n      <td>6.44</td>\n      <td>-</td>\n      <td>-</td>\n      <td>-</td>\n      <td>-</td>\n      <td>-</td>\n      <td>...</td>\n      <td>-</td>\n      <td>-</td>\n      <td>-</td>\n      <td>-</td>\n      <td>-</td>\n      <td>-</td>\n      <td>-</td>\n      <td>-</td>\n      <td>-</td>\n      <td>-</td>\n    </tr>\n    <tr>\n      <th>9</th>\n      <td>BANCO SUDAMERICANO</td>\n      <td>50.86</td>\n      <td>57.39</td>\n      <td>16.22</td>\n      <td>11.35</td>\n      <td>11.16</td>\n      <td>35.46</td>\n      <td>40.00</td>\n      <td>-</td>\n      <td>41.49</td>\n      <td>...</td>\n      <td>25.00</td>\n      <td>-</td>\n      <td>25.00</td>\n      <td>25.48</td>\n      <td>28.14</td>\n      <td>26.79</td>\n      <td>35.60</td>\n      <td>24.83</td>\n      <td>25.18</td>\n      <td>-</td>\n    </tr>\n    <tr>\n      <th>10</th>\n      <td>WIESE SUDAMERIS</td>\n      <td>14.07</td>\n      <td>44.81</td>\n      <td>24.86</td>\n      <td>10.37</td>\n      <td>6.25</td>\n      <td>6.52</td>\n      <td>10.75</td>\n      <td>103.79</td>\n      <td>48.19</td>\n      <td>...</td>\n      <td>39.04</td>\n      <td>69.65</td>\n      <td>52.34</td>\n      <td>90.54</td>\n      <td>21.55</td>\n      <td>67.85</td>\n      <td>88.25</td>\n      <td>24.38</td>\n      <td>37.07</td>\n      <td>-</td>\n    </tr>\n    <tr>\n      <th>11</th>\n      <td>BANK BOSTON</td>\n      <td>64.96</td>\n      <td>82.12</td>\n      <td>5.62</td>\n      <td>5.72</td>\n      <td>5.84</td>\n      <td>-</td>\n      <td>-</td>\n      <td>-</td>\n      <td>-</td>\n      <td>...</td>\n      <td>-</td>\n      <td>-</td>\n      <td>-</td>\n      <td>-</td>\n      <td>-</td>\n      <td>-</td>\n      <td>-</td>\n      <td>-</td>\n      <td>-</td>\n      <td>-</td>\n    </tr>\n    <tr>\n      <th>12</th>\n      <td>BNP PARIBAS EL</td>\n      <td>-</td>\n      <td>30.00</td>\n      <td>-</td>\n      <td>-</td>\n      <td>-</td>\n      <td>-</td>\n      <td>-</td>\n      <td>-</td>\n      <td>-</td>\n      <td>...</td>\n      <td>-</td>\n      <td>-</td>\n      <td>-</td>\n      <td>-</td>\n      <td>-</td>\n      <td>-</td>\n      <td>-</td>\n      <td>-</td>\n      <td>-</td>\n      <td>-</td>\n    </tr>\n    <tr>\n      <th>13</th>\n      <td>CITIBANK DEL PERU</td>\n      <td>-</td>\n      <td>76.10</td>\n      <td>5.92</td>\n      <td>7.89</td>\n      <td>9.27</td>\n      <td>14.19</td>\n      <td>3.30</td>\n      <td>-</td>\n      <td>-</td>\n      <td>...</td>\n      <td>59.93</td>\n      <td>-</td>\n      <td>59.93</td>\n      <td>-</td>\n      <td>-</td>\n      <td>-</td>\n      <td>-</td>\n      <td>-</td>\n      <td>-</td>\n      <td>-</td>\n    </tr>\n    <tr>\n      <th>14</th>\n      <td>INTERBANK</td>\n      <td>6.26</td>\n      <td>32.93</td>\n      <td>7.12</td>\n      <td>4.86</td>\n      <td>5.98</td>\n      <td>6.80</td>\n      <td>9.30</td>\n      <td>-</td>\n      <td>-</td>\n      <td>...</td>\n      <td>37.97</td>\n      <td>58.34</td>\n      <td>39.61</td>\n      <td>27.76</td>\n      <td>28.17</td>\n      <td>27.92</td>\n      <td>27.12</td>\n      <td>27.59</td>\n      <td>27.58</td>\n      <td>-</td>\n    </tr>\n    <tr>\n      <th>15</th>\n      <td>MIBANCO</td>\n      <td>-</td>\n      <td>-</td>\n      <td>-</td>\n      <td>50.00</td>\n      <td>-</td>\n      <td>46.22</td>\n      <td>43.14</td>\n      <td>-</td>\n      <td>59.13</td>\n      <td>...</td>\n      <td>-</td>\n      <td>-</td>\n      <td>-</td>\n      <td>73.97</td>\n      <td>58.94</td>\n      <td>62.59</td>\n      <td>71.34</td>\n      <td>46.31</td>\n      <td>46.47</td>\n      <td>25.20</td>\n    </tr>\n    <tr>\n      <th>16</th>\n      <td>Promedio del Sistema</td>\n      <td>24.61</td>\n      <td>53.36</td>\n      <td>5.58</td>\n      <td>7.66</td>\n      <td>8.30</td>\n      <td>10.25</td>\n      <td>10.14</td>\n      <td>99.60</td>\n      <td>47.80</td>\n      <td>...</td>\n      <td>42.67</td>\n      <td>70.78</td>\n      <td>48.46</td>\n      <td>47.03</td>\n      <td>42.08</td>\n      <td>44.07</td>\n      <td>62.13</td>\n      <td>27.60</td>\n      <td>29.96</td>\n      <td>13.50</td>\n    </tr>\n  </tbody>\n</table>\n<p>17 rows × 21 columns</p>\n</div>"
     },
     "execution_count": 22,
     "metadata": {},
     "output_type": "execute_result"
    }
   ],
   "source": [
    "# Probamos si funciona nuestra función\n",
    "resultado = import_data_sbs_banks(1,2004, 12, 2010)\n",
    "\n",
    "# La utilidad de este tipo de diccionarios es que se puede llamar a las dataframe de la siguiente manera\n",
    "resultado[2010][12]"
   ],
   "metadata": {
    "collapsed": false
   }
  },
  {
   "cell_type": "markdown",
   "source": [],
   "metadata": {
    "collapsed": false
   }
  }
 ],
 "metadata": {
  "hide_input": false,
  "kernelspec": {
   "display_name": "Python 3",
   "language": "python",
   "name": "python3"
  },
  "language_info": {
   "codemirror_mode": {
    "name": "ipython",
    "version": 3
   },
   "file_extension": ".py",
   "mimetype": "text/x-python",
   "name": "python",
   "nbconvert_exporter": "python",
   "pygments_lexer": "ipython3",
   "version": "3.8.6"
  },
  "toc": {
   "base_numbering": 1,
   "nav_menu": {},
   "number_sections": true,
   "sideBar": true,
   "skip_h1_title": false,
   "title_cell": "Table of Contents",
   "title_sidebar": "Contents",
   "toc_cell": false,
   "toc_position": {},
   "toc_section_display": true,
   "toc_window_display": false
  }
 },
 "nbformat": 4,
 "nbformat_minor": 4
}

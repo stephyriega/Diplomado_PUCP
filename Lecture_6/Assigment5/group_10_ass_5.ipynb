{
 "cells": [
  {
   "cell_type": "markdown",
   "metadata": {},
   "source": [
    "# Assigment 5\n",
    "\n",
    "This assigment will be graded if everything works well. I will run the script as once and everything should be done without errors and mistakes. I should be able to run your scripts in my computer and get all the results. **USE RELATIVE PATHS**. An error or exception or anything that breaks the code will means NO GRADE (0). Additionally, you are not able to modify any file handly. It also means NO GRADE (0). Comment everything you think will help others read your script. We expect 0 errors using GitHub. Everything will be graded!\n",
    "\n",
    "**ASK EVERYTHING! WE ARE HERE TO HELP YOU!**"
   ]
  },
  {
   "cell_type": "markdown",
   "metadata": {},
   "source": [
    "In this path **..\\_data\\sbs\\B_RawData\\bancos** you will find scraped data from [this link](https://www.sbs.gob.pe/app/pp/EstadisticasSAEEPortal/Paginas/TIActivaTipoCreditoEmpresa.aspx?tip=B). We get all the information of the last available day of every each month.\n",
    "\n",
    "1. Generate a function called **import_data_sbs_banks** that take as arguments `start_month`, `start_year`, `end_month` and `end_year`. This function should be able to import the files in **..\\_data\\sbs\\B_RawData\\bancos** taking into consideration these arguments. Additionally, it should work if it is only given the first two arguments `(start_mont, start_year)`. The function should `returns` a nested dictionary. The `main key` must be year and `second key` must be `month`. The values should be the dataframes."
   ]
  },
  {
   "cell_type": "code",
   "execution_count": null,
   "metadata": {
    "vscode": {
     "languageId": "plaintext"
    }
   },
   "outputs": [],
   "source": [
    "#importamos paquetes\n",
    "import pandas as pd\n",
    "import numpy as np\n",
    "import os\n",
    "import glob\n"
   ]
  },
  {
   "cell_type": "code",
   "execution_count": null,
   "metadata": {
    "vscode": {
     "languageId": "plaintext"
    }
   },
   "outputs": [],
   "source": [
    "\n",
    "#se utiliza el método listdir() del paquete os, para que un directorio \n",
    "#visualizado mediante una ruta se pueda convertir en una lista de archivos. \n",
    "LISTA_ARCHIVOS = os.listdir(\"../../_data/sbs/B_RawData/bancos/\")"
   ]
  },
  {
   "cell_type": "code",
   "execution_count": null,
   "metadata": {
    "vscode": {
     "languageId": "plaintext"
    }
   },
   "outputs": [],
   "source": [
    "\n",
    "\n",
    "#del paquete datetime importamos la función datetime.\n",
    "from datetime import datetime \n",
    "\n",
    "#creamos las listas Dates, Mes y Año, vacías.\n",
    "Dates = []\n",
    "Mes = []\n",
    "Año = []\n",
    "\n",
    "#usamos for para decir: por cada archivo en LISTA_ARCHIVOS, asignamos la variable archivo_separado después\n",
    "#de quitar \".xlsx\" con el método .replace y separamos en donde se ubique \"_\" y se convierten en elementos de una lista.\n",
    "#se le asigna el valor archivo_separado[3] a la variable \"mes\".\n",
    "#se le asigna el valor archivo_separado[4] a la variable \"año\".\n",
    "#se le asigna el valor mes + \"/\" + año a la variable date. Ello se realiza para que los números de mes y año \n",
    "#se encuentren separados por una barra.\n",
    "#a la variable date se le convierte al tipo fecha (Date), para que se pueda leer en fecha y no como un número, \n",
    "#ello se realizo con el método strptime, que sirve para convertir.\n",
    "#a la lista Dates se le agrega los valores de date, mediante el método .append.\n",
    "#a la lista Mes se le agrega los valores de mes, mediante el método .append.\n",
    "#a la lista Año se le agrega los valores de año, mediante el método .append.\n",
    "#luego se imprimio las listas.\n",
    "\n",
    "for archivo in LISTA_ARCHIVOS:\n",
    "    archivo_separado = archivo.replace(\".xlsx\",\"\").split(\"_\")\n",
    "    \n",
    "    mes = archivo_separado[3]\n",
    "    año = archivo_separado[4]\n",
    "\n",
    "    date = mes + \"/\" + año \n",
    "    date = datetime.strptime(date, '%m/%Y')\n",
    "    \n",
    "    Dates.append(date)\n",
    "    Mes.append(mes)\n",
    "    Año.append(año)\n",
    "\n",
    "print(Mes)\n",
    "print(Año)\n",
    "print(Dates)"
   ]
  },
  {
   "cell_type": "code",
   "execution_count": null,
   "metadata": {
    "vscode": {
     "languageId": "plaintext"
    }
   },
   "outputs": [],
   "source": [
    "\n",
    "#se crea el diccionario df_dates, cuyas llaves asignadas son DATES, MES, AÑO y ARCHIVO.\n",
    "#se convierte el diccionario df_dates en un DataFrame llamado DF_DATES.\n",
    "#se imprime la nueva DataFrame.\n",
    "\n",
    "df_dates = {'DATES': Dates, 'MES':Mes, 'AÑO': Año, 'ARCHIVO': LISTA_ARCHIVOS}\n",
    "DF_DATES = pd.DataFrame(df_dates)\n",
    "print(DF_DATES)"
   ]
  },
  {
   "cell_type": "code",
   "execution_count": null,
   "metadata": {
    "vscode": {
     "languageId": "plaintext"
    }
   },
   "outputs": [],
   "source": [
    "\n",
    "\n",
    "#creamos una función.\n",
    "#se denomina un nombre a la función pro crear, un identificador. \n",
    "#se continúa con los parámetros entre paréntesis. Los cuales, se llamaran start_month, start_year, end_month y \n",
    "#end_year, estos dos últimos tendrán como opción los números 12 y 2023, en caso que no se llene dichos parámetros. \n",
    "#se continúa convirtiendo los parámetros en string, mediante la función str().\n",
    "#a los valores start_month y start_year se le asigna la variable start_date, estos valores estarán separados por un \"-\".\n",
    "#a los valores end_month y end_year se le asgina la variable end_date, estos valores estarán separados por un \"-\".\n",
    "#para utilizar el filtro de Pandas DataFrames en fechas, se llama a la columna DATES del DataFrame DF_DATES, de los cuales\n",
    "#se seleccionará la información mayor a start_date, e igual en el caso de end_date. Todo ello entre [] de DF_DATES. Finalmente, \n",
    "#se le denomina la variable DF_DATES1. \n",
    "#se crea un diccionario vacío.\n",
    "#por cada número y fila del DataFrame DF_DATES1, se itera las filas e índice, por medio del método .iterrows.\n",
    "#se le denomina mes a la fila de la columna MES. Y se convierte en entero el valor de la variables mes, con la función int().\n",
    "#se le denomina año a la fila de la columna AÑO. Y se convierte en entero el valor de la variable año, con la función int().\n",
    "#se le denomina archivo a la fila de la columna ARCHIVO. \n",
    "#se crea una nueva variable llamada leearchivo, en la cual se utilizo pandas y el método read_excel a la ruta + la variable\n",
    "#archivo, con el fin de poder leer el archivo.\n",
    "#se realiza una condición: si el año no está en el diccionario, se creará un diccionario con el nombre del número de año y \n",
    "#estará vacío. Y si el mes no está en dicho diccionario, se agregará el mes como llave y leerarchivo será su valor.\n",
    "#se devuelce el valor que obtenga el diccionario, bajo estas condiciones. \n",
    "\n",
    "def import_data_sbs_banks(start_month, start_year, end_month = 12, end_year = 2023):\n",
    "    start_month = str(start_month)\n",
    "    start_year = str(start_year)\n",
    "    start_date = start_year + \"-\" + start_month\n",
    "\n",
    "    end_month = str(end_month)\n",
    "    end_year = str(end_year)\n",
    "    end_date = end_year + \"-\" + end_month\n",
    "    \n",
    "    DF_DATES1 = DF_DATES[(DF_DATES['DATES'] > start_date) & (DF_DATES['DATES'] < end_date)] \n",
    "\n",
    "    diccionario = {}\n",
    "    for numero, fila in DF_DATES1.iterrows():\n",
    "        mes = fila[\"MES\"]\n",
    "        mes = int(mes)\n",
    "        \n",
    "        año = fila[\"AÑO\"]\n",
    "        año = int(año)\n",
    "        \n",
    "        archivo = fila[\"ARCHIVO\"]\n",
    "        leearchivo = pd.read_excel( \"../../_data/sbs/B_RawData/bancos/\" + archivo)\n",
    "        \n",
    "        if año not in diccionario:\n",
    "            diccionario[año] = {}\n",
    "        \n",
    "        if mes not in diccionario[año]:\n",
    "            diccionario[año][mes] = leearchivo\n",
    "\n",
    "    return(diccionario)\n",
    "\n"
   ]
  },
  {
   "cell_type": "code",
   "execution_count": null,
   "metadata": {
    "vscode": {
     "languageId": "plaintext"
    }
   },
   "outputs": [],
   "source": [
    "#ejemplo: la variable base_datos tiene como valot el resultado de la función import_data_sbs_banks de (5, 2017).\n",
    "#Posterior a ello, se llama a unos valores que se encuentran dentro de la información que posee base_datos. \n",
    "\n",
    "\n",
    "base_datos = import_data_sbs_banks(5, 2017)\n",
    "\n",
    "base_datos[2020][12]"
   ]
  }
 ],
 "metadata": {
  "hide_input": false,
  "kernelspec": {
   "display_name": "Python 3",
   "language": "python",
   "name": "python3"
  },
  "language_info": {
   "codemirror_mode": {
    "name": "ipython",
    "version": 3
   },
   "file_extension": ".py",
   "mimetype": "text/x-python",
   "name": "python",
   "nbconvert_exporter": "python",
   "pygments_lexer": "ipython3",
   "version": "3.8.6"
  },
  "toc": {
   "base_numbering": 1,
   "nav_menu": {},
   "number_sections": true,
   "sideBar": true,
   "skip_h1_title": false,
   "title_cell": "Table of Contents",
   "title_sidebar": "Contents",
   "toc_cell": false,
   "toc_position": {},
   "toc_section_display": true,
   "toc_window_display": false
  }
 },
 "nbformat": 4,
 "nbformat_minor": 4
}

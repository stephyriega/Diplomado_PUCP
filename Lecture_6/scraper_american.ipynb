{
 "cells": [
  {
   "cell_type": "code",
   "execution_count": 1,
   "metadata": {},
   "outputs": [],
   "source": [
    "from selenium import webdriver\n",
    "from webdriver_manager.chrome import ChromeDriverManager\n",
    "\n",
    "#Library\n",
    "# ---\n",
    "# For scrape\n",
    "from selenium import webdriver\n",
    "from webdriver_manager.chrome import ChromeDriverManager\n",
    "\n",
    "# Options driver\n",
    "from selenium.webdriver.chrome.options import Options\n",
    "\n",
    "# For dataframes\n",
    "import pandas as pd\n",
    "from pandas import json_normalize\n",
    "\n",
    "# For simulate human behavior.\n",
    "import time\n",
    "from time import sleep\n",
    "import random\n",
    "\n",
    "# Clear data\n",
    "import unidecode\n",
    "#unaccented_string = unidecode.unidecode(accented_string)\n",
    "\n",
    "# Manipulate Json files\n",
    "import json\n",
    "import re\n"
   ]
  },
  {
   "cell_type": "code",
   "execution_count": 2,
   "metadata": {},
   "outputs": [
    {
     "name": "stderr",
     "output_type": "stream",
     "text": [
      "\n",
      "\n",
      "====== WebDriver manager ======\n",
      "Current google-chrome version is 109.0.5414\n",
      "Get LATEST chromedriver version for 109.0.5414 google-chrome\n",
      "There is no [win32] chromedriver for browser  in cache\n",
      "Trying to download new driver from https://chromedriver.storage.googleapis.com/109.0.5414.74/chromedriver_win32.zip\n",
      "Driver has been saved in cache [C:\\Users\\Anzony\\.wdm\\drivers\\chromedriver\\win32\\109.0.5414.74]\n"
     ]
    }
   ],
   "source": [
    "# Setting\n",
    "options= Options()\n",
    "options.add_argument(\"--start-maximized\")\n",
    "\n",
    "driver = webdriver.Chrome(ChromeDriverManager().install(),options=options)"
   ]
  },
  {
   "cell_type": "code",
   "execution_count": 3,
   "metadata": {},
   "outputs": [],
   "source": [
    "# we open our page\n",
    "driver.get(\"https://www.aeaweb.org/journals/aer/issues\")"
   ]
  },
  {
   "cell_type": "code",
   "execution_count": 6,
   "metadata": {},
   "outputs": [
    {
     "data": {
      "text/plain": [
       "<selenium.webdriver.remote.webelement.WebElement (session=\"3abea7cd20007690cb669ad2e16a2a54\", element=\"bc6577f8-014b-49d0-9e40-73c68e5cf42d\")>"
      ]
     },
     "execution_count": 6,
     "metadata": {},
     "output_type": "execute_result"
    }
   ],
   "source": [
    "issues = driver.find_element_by_class_name(\"journal-preview-group\" )\n",
    "issues"
   ]
  },
  {
   "cell_type": "code",
   "execution_count": null,
   "metadata": {},
   "outputs": [],
   "source": [
    "urls_issues = []\n",
    "links_issues = issues.find_elements_by_tag_name('a')"
   ]
  },
  {
   "cell_type": "code",
   "execution_count": 8,
   "metadata": {},
   "outputs": [
    {
     "name": "stdout",
     "output_type": "stream",
     "text": [
      "February 2023 (Vol. 113, No.2 )\n",
      "January 2023 (Vol. 113, No.1 )\n",
      "December 2022 (Vol. 112, No.12 )\n",
      "November 2022 (Vol. 112, No.11 )\n",
      "October 2022 (Vol. 112, No.10 )\n",
      "September 2022 (Vol. 112, No.9 )\n",
      "August 2022 (Vol. 112, No.8 )\n",
      "July 2022 (Vol. 112, No.7 )\n",
      "June 2022 (Vol. 112, No.6 )\n",
      "May 2022 (Vol. 112, No.5 )\n",
      "April 2022 (Vol. 112, No.4 )\n",
      "March 2022 (Vol. 112, No.3 )\n",
      "February 2022 (Vol. 112, No.2 )\n",
      "January 2022 (Vol. 112, No.1 )\n",
      "December 2021 (Vol. 111, No.12 )\n",
      "November 2021 (Vol. 111, No.11 )\n",
      "October 2021 (Vol. 111, No.10 )\n",
      "September 2021 (Vol. 111, No.9 )\n",
      "August 2021 (Vol. 111, No.8 )\n",
      "July 2021 (Vol. 111, No.7 )\n",
      "June 2021 (Vol. 111, No.6 )\n",
      "May 2021 (Vol. 111, No.5 )\n",
      "April 2021 (Vol. 111, No.4 )\n",
      "March 2021 (Vol. 111, No.3 )\n",
      "February 2021 (Vol. 111, No.2 )\n",
      "January 2021 (Vol. 111, No.1 )\n",
      "December 2020 (Vol. 110, No.12 )\n",
      "November 2020 (Vol. 110, No.11 )\n",
      "October 2020 (Vol. 110, No.10 )\n",
      "September 2020 (Vol. 110, No.9 )\n",
      "August 2020 (Vol. 110, No.8 )\n",
      "July 2020 (Vol. 110, No.7 )\n",
      "June 2020 (Vol. 110, No.6 )\n",
      "May 2020 (Vol. 110, No.5 )\n",
      "April 2020 (Vol. 110, No.4 )\n",
      "March 2020 (Vol. 110, No.3 )\n",
      "February 2020 (Vol. 110, No.2 )\n",
      "January 2020 (Vol. 110, No.1 )\n",
      "December 2019 (Vol. 109, No.12 )\n",
      "November 2019 (Vol. 109, No.11 )\n",
      "October 2019 (Vol. 109, No.10 )\n",
      "September 2019 (Vol. 109, No.9 )\n",
      "August 2019 (Vol. 109, No.8 )\n",
      "July 2019 (Vol. 109, No.7 )\n",
      "June 2019 (Vol. 109, No.6 )\n",
      "May 2019 (Vol. 109, No.5 )\n",
      "April 2019 (Vol. 109, No.4 )\n",
      "March 2019 (Vol. 109, No.3 )\n",
      "February 2019 (Vol. 109, No.2 )\n",
      "January 2019 (Vol. 109, No.1 )\n",
      "December 2018 (Vol. 108, No.12 )\n",
      "November 2018 (Vol. 108, No.11 )\n",
      "October 2018 (Vol. 108, No.10 )\n",
      "September 2018 (Vol. 108, No.9 )\n",
      "August 2018 (Vol. 108, No.8 )\n",
      "July 2018 (Vol. 108, No.7 )\n",
      "June 2018 (Vol. 108, No.6 )\n",
      "April 2018 (Vol. 108, No.4-5 )\n",
      "March 2018 (Vol. 108, No.3 )\n",
      "February 2018 (Vol. 108, No.2 )\n",
      "January 2018 (Vol. 108, No.1 )\n",
      "December 2017 (Vol. 107, No.12 )\n",
      "November 2017 (Vol. 107, No.11 )\n",
      "October 2017 (Vol. 107, No.10 )\n",
      "September 2017 (Vol. 107, No.9 )\n",
      "August 2017 (Vol. 107, No.8 )\n",
      "July 2017 (Vol. 107, No.7 )\n",
      "June 2017 (Vol. 107, No.6 )\n",
      "May 2017 (Vol. 107, No.5 )\n",
      "April 2017 (Vol. 107, No.4 )\n",
      "March 2017 (Vol. 107, No.3 )\n",
      "February 2017 (Vol. 107, No.2 )\n",
      "January 2017 (Vol. 107, No.1 )\n",
      "December 2016 (Vol. 106, No.12 )\n",
      "November 2016 (Vol. 106, No.11 )\n",
      "October 2016 (Vol. 106, No.10 )\n",
      "September 2016 (Vol. 106, No.9 )\n",
      "August 2016 (Vol. 106, No.8 )\n",
      "July 2016 (Vol. 106, No.7 )\n",
      "June 2016 (Vol. 106, No.6 )\n",
      "May 2016 (Vol. 106, No.5 )\n",
      "April 2016 (Vol. 106, No.4 )\n",
      "March 2016 (Vol. 106, No.3 )\n",
      "February 2016 (Vol. 106, No.2 )\n",
      "January 2016 (Vol. 106, No.1 )\n",
      "December 2015 (Vol. 105, No.12 )\n",
      "November 2015 (Vol. 105, No.11 )\n",
      "October 2015 (Vol. 105, No.10 )\n",
      "September 2015 (Vol. 105, No.9 )\n",
      "August 2015 (Vol. 105, No.8 )\n",
      "July 2015 (Vol. 105, No.7 )\n",
      "June 2015 (Vol. 105, No.6 )\n",
      "May 2015 (Vol. 105, No.5 )\n",
      "April 2015 (Vol. 105, No.4 )\n",
      "March 2015 (Vol. 105, No.3 )\n",
      "February 2015 (Vol. 105, No.2 )\n",
      "January 2015 (Vol. 105, No.1 )\n",
      "December 2014 (Vol. 104, No.12 )\n",
      "November 2014 (Vol. 104, No.11 )\n",
      "October 2014 (Vol. 104, No.10 )\n",
      "September 2014 (Vol. 104, No.9 )\n",
      "August 2014 (Vol. 104, No.8 )\n",
      "July 2014 (Vol. 104, No.7 )\n",
      "June 2014 (Vol. 104, No.6 )\n",
      "May 2014 (Vol. 104, No.5 )\n",
      "April 2014 (Vol. 104, No.4 )\n",
      "March 2014 (Vol. 104, No.3 )\n",
      "February 2014 (Vol. 104, No.2 )\n",
      "January 2014 (Vol. 104, No.1 )\n",
      "December 2013 (Vol. 103, No.7 )\n",
      "October 2013 (Vol. 103, No.6 )\n",
      "August 2013 (Vol. 103, No.5 )\n",
      "June 2013 (Vol. 103, No.4 )\n",
      "May 2013 (Vol. 103, No.3 )\n",
      "April 2013 (Vol. 103, No.2 )\n",
      "February 2013 (Vol. 103, No.1 )\n",
      "December 2012 (Vol. 102, No.7 )\n",
      "October 2012 (Vol. 102, No.6 )\n",
      "August 2012 (Vol. 102, No.5 )\n",
      "June 2012 (Vol. 102, No.4 )\n",
      "May 2012 (Vol. 102, No.3 )\n",
      "April 2012 (Vol. 102, No.2 )\n",
      "February 2012 (Vol. 102, No.1 )\n",
      "December 2011 (Vol. 101, No.7 )\n",
      "October 2011 (Vol. 101, No.6 )\n",
      "August 2011 (Vol. 101, No.5 )\n",
      "June 2011 (Vol. 101, No.4 )\n",
      "May 2011 (Vol. 101, No.3 )\n",
      "April 2011 (Vol. 101, No.2 )\n",
      "February 2011 (Vol. 101, No.1 )\n",
      "December 2010 (Vol. 100, No.5 )\n",
      "September 2010 (Vol. 100, No.4 )\n",
      "June 2010 (Vol. 100, No.3 )\n",
      "May 2010 (Vol. 100, No.2 )\n",
      "March 2010 (Vol. 100, No.1 )\n",
      "December 2009 (Vol. 99, No.5 )\n",
      "September 2009 (Vol. 99, No.4 )\n",
      "June 2009 (Vol. 99, No.3 )\n",
      "May 2009 (Vol. 99, No.2 )\n",
      "March 2009 (Vol. 99, No.1 )\n",
      "December 2008 (Vol. 98, No.5 )\n",
      "September 2008 (Vol. 98, No.4 )\n",
      "June 2008 (Vol. 98, No.3 )\n",
      "May 2008 (Vol. 98, No.2 )\n",
      "March 2008 (Vol. 98, No.1 )\n",
      "December 2007 (Vol. 97, No.5 )\n",
      "September 2007 (Vol. 97, No.4 )\n",
      "June 2007 (Vol. 97, No.3 )\n",
      "May 2007 (Vol. 97, No.2 )\n",
      "March 2007 (Vol. 97, No.1 )\n",
      "December 2006 (Vol. 96, No.5 )\n",
      "September 2006 (Vol. 96, No.4 )\n",
      "June 2006 (Vol. 96, No.3 )\n",
      "May 2006 (Vol. 96, No.2 )\n",
      "March 2006 (Vol. 96, No.1 )\n",
      "December 2005 (Vol. 95, No.5 )\n",
      "September 2005 (Vol. 95, No.4 )\n",
      "June 2005 (Vol. 95, No.3 )\n",
      "May 2005 (Vol. 95, No.2 )\n",
      "March 2005 (Vol. 95, No.1 )\n",
      "December 2004 (Vol. 94, No.5 )\n",
      "September 2004 (Vol. 94, No.4 )\n",
      "June 2004 (Vol. 94, No.3 )\n",
      "May 2004 (Vol. 94, No.2 )\n",
      "March 2004 (Vol. 94, No.1 )\n",
      "December 2003 (Vol. 93, No.5 )\n",
      "September 2003 (Vol. 93, No.4 )\n",
      "June 2003 (Vol. 93, No.3 )\n",
      "May 2003 (Vol. 93, No.2 )\n",
      "March 2003 (Vol. 93, No.1 )\n",
      "December 2002 (Vol. 92, No.5 )\n",
      "September 2002 (Vol. 92, No.4 )\n",
      "June 2002 (Vol. 92, No.3 )\n",
      "May 2002 (Vol. 92, No.2 )\n",
      "March 2002 (Vol. 92, No.1 )\n",
      "December 2001 (Vol. 91, No.5 )\n",
      "September 2001 (Vol. 91, No.4 )\n",
      "June 2001 (Vol. 91, No.3 )\n",
      "May 2001 (Vol. 91, No.2 )\n",
      "March 2001 (Vol. 91, No.1 )\n",
      "December 2000 (Vol. 90, No.5 )\n",
      "September 2000 (Vol. 90, No.4 )\n",
      "June 2000 (Vol. 90, No.3 )\n",
      "May 2000 (Vol. 90, No.2 )\n",
      "March 2000 (Vol. 90, No.1 )\n",
      "December 1999 (Vol. 89, No.5 )\n",
      "September 1999 (Vol. 89, No.4 )\n",
      "June 1999 (Vol. 89, No.3 )\n",
      "May 1999 (Vol. 89, No.2 )\n",
      "March 1999 (Vol. 89, No.1 )\n"
     ]
    }
   ],
   "source": [
    "for link_issue in links_issues:\n",
    "    print(link_issue.text)\n",
    "    urls_issues.append(link_issue.get_attribute('href'))"
   ]
  },
  {
   "cell_type": "code",
   "execution_count": 9,
   "metadata": {},
   "outputs": [],
   "source": [
    "driver.get(urls_issues[0])"
   ]
  },
  {
   "cell_type": "code",
   "execution_count": 11,
   "metadata": {},
   "outputs": [
    {
     "data": {
      "text/plain": [
       "'Vol. 113 No. 2 February 2023'"
      ]
     },
     "execution_count": 11,
     "metadata": {},
     "output_type": "execute_result"
    }
   ],
   "source": [
    "volumen = driver.find_element_by_xpath('//h2[contains(@class,\"issue\")]').text\n",
    "volumen"
   ]
  },
  {
   "cell_type": "code",
   "execution_count": 12,
   "metadata": {},
   "outputs": [
    {
     "data": {
      "text/plain": [
       "'Vol. 113'"
      ]
     },
     "execution_count": 12,
     "metadata": {},
     "output_type": "execute_result"
    }
   ],
   "source": [
    "volumen_extra = re.search(r'(?<=).*(?= No. )', volumen )[0]\n",
    "volumen_extra"
   ]
  },
  {
   "cell_type": "code",
   "execution_count": 14,
   "metadata": {},
   "outputs": [
    {
     "data": {
      "text/plain": [
       "'2 February 2023'"
      ]
     },
     "execution_count": 14,
     "metadata": {},
     "output_type": "execute_result"
    }
   ],
   "source": [
    "month = driver.find_element_by_xpath('//h2[contains(@class,\"issue\")]').text\n",
    "month_date = re.search(r'(?<= No. ).*(?=)', month  )[0]\n",
    "month_date"
   ]
  },
  {
   "cell_type": "code",
   "execution_count": 15,
   "metadata": {},
   "outputs": [
    {
     "data": {
      "text/plain": [
       "<selenium.webdriver.remote.webelement.WebElement (session=\"3abea7cd20007690cb669ad2e16a2a54\", element=\"c6817624-a3dd-422c-acb5-06abad7061fd\")>"
      ]
     },
     "execution_count": 15,
     "metadata": {},
     "output_type": "execute_result"
    }
   ],
   "source": [
    "paper = driver.find_element_by_class_name( \"journal-article-group\" )\n",
    "paper"
   ]
  },
  {
   "cell_type": "code",
   "execution_count": 16,
   "metadata": {},
   "outputs": [],
   "source": [
    "links_paper = paper.find_elements_by_tag_name('a')"
   ]
  },
  {
   "cell_type": "code",
   "execution_count": 17,
   "metadata": {},
   "outputs": [
    {
     "name": "stdout",
     "output_type": "stream",
     "text": [
      "Technological Change and the Consequences of Job Loss\n",
      "Trade with Correlation\n",
      "Constrained-Efficient Capital Reallocation\n",
      "Enabling or Limiting Cognitive Flexibility? Evidence of Demand for Moral Commitment\n",
      "Droughts, Deluges, and (River) Diversions: Valuing Market-Based Water Reallocation\n",
      "Technology Gaps, Trade, and Income\n",
      "Electronic Food Vouchers: Evidence from an At-Scale Experiment in Indonesia\n",
      "The Voice of Monetary Policy\n"
     ]
    }
   ],
   "source": [
    "urls_papers = []\n",
    "for link_paper in links_paper [1:] :\n",
    "    print(link_paper.text)\n",
    "    urls_papers.append(link_paper.get_attribute('href'))"
   ]
  },
  {
   "cell_type": "code",
   "execution_count": 25,
   "metadata": {},
   "outputs": [],
   "source": [
    "driver.get( f\"{urls_papers[0]}\" )"
   ]
  },
  {
   "cell_type": "code",
   "execution_count": 19,
   "metadata": {},
   "outputs": [],
   "source": [
    "page = {}"
   ]
  },
  {
   "cell_type": "code",
   "execution_count": 26,
   "metadata": {},
   "outputs": [],
   "source": [
    "#VOLUMEN \n",
    "page['VOLUMEN'] = volumen_extra\n",
    "\n",
    "#MONTH\n",
    "page['MONTH'] = month_date"
   ]
  },
  {
   "cell_type": "code",
   "execution_count": 27,
   "metadata": {},
   "outputs": [
    {
     "name": "stdout",
     "output_type": "stream",
     "text": [
      "Technological Change and the Consequences of Job Loss\n"
     ]
    },
    {
     "data": {
      "text/plain": [
       "{'VOLUMEN': 'Vol. 113',\n",
       " 'MONTH': '2 February 2023',\n",
       " 'TITLE': 'Technological Change and the Consequences of Job Loss',\n",
       " 'AUTORS': 'NA'}"
      ]
     },
     "execution_count": 27,
     "metadata": {},
     "output_type": "execute_result"
    }
   ],
   "source": [
    "#TITLE\n",
    "try:\n",
    "    title =driver.find_element_by_xpath('/html/body/main/div/section/h1').text\n",
    "    print(title)\n",
    "except:\n",
    "    title = \"NA\"\n",
    "\n",
    "page['TITLE']= title\n",
    "page"
   ]
  },
  {
   "cell_type": "code",
   "execution_count": 28,
   "metadata": {},
   "outputs": [
    {
     "name": "stdout",
     "output_type": "stream",
     "text": [
      "J. Carter Braxton,Bledi Taska\n"
     ]
    },
    {
     "data": {
      "text/plain": [
       "{'VOLUMEN': 'Vol. 113',\n",
       " 'MONTH': '2 February 2023',\n",
       " 'TITLE': 'Technological Change and the Consequences of Job Loss',\n",
       " 'AUTORS': 'J. Carter Braxton,Bledi Taska'}"
      ]
     },
     "execution_count": 28,
     "metadata": {},
     "output_type": "execute_result"
    }
   ],
   "source": [
    "# AUTORES\n",
    "try:  \n",
    "    autor = driver.find_element_by_class_name(\"attribution\" ).text\n",
    "    autores_extr = unidecode.unidecode( autor ).replace('\\n',',')\n",
    "    autores_extr_1 = re.search(r'^(?<=).*(?=,AMERICAN)', autores_extr )[0]\n",
    "    print( autores_extr_1 )\n",
    "\n",
    "except :\n",
    "    autores_extr_1 =\"NA\"\n",
    "\n",
    "page['AUTORS'] = autores_extr_1\n",
    "page"
   ]
  },
  {
   "cell_type": "code",
   "execution_count": 29,
   "metadata": {},
   "outputs": [
    {
     "data": {
      "text/plain": [
       "'J. Carter Braxton\\nBledi Taska\\nAMERICAN ECONOMIC REVIEW\\nVOL. 113, NO. 2, FEBRUARY 2023\\n(pp. 279-316)'"
      ]
     },
     "execution_count": 29,
     "metadata": {},
     "output_type": "execute_result"
    }
   ],
   "source": [
    "autor"
   ]
  },
  {
   "cell_type": "code",
   "execution_count": 30,
   "metadata": {},
   "outputs": [
    {
     "data": {
      "text/plain": [
       "{'VOLUMEN': 'Vol. 113',\n",
       " 'MONTH': '2 February 2023',\n",
       " 'TITLE': 'Technological Change and the Consequences of Job Loss',\n",
       " 'AUTORS': 'J. Carter Braxton,Bledi Taska'}"
      ]
     },
     "execution_count": 30,
     "metadata": {},
     "output_type": "execute_result"
    }
   ],
   "source": [
    "page"
   ]
  },
  {
   "cell_type": "code",
   "execution_count": 31,
   "metadata": {},
   "outputs": [
    {
     "name": "stdout",
     "output_type": "stream",
     "text": [
      "We examine the role of technological change in explaining the large and persistent decline in earnings following job loss. Using detailed skill requirements from the near universe of online vacancies, we estimate technological change by occupation and find that technological change accounts for 45 percent of the decline in earnings after job loss. Technological change lowers earnings after job loss by requiring workers to have new skills to perform newly created jobs in their prior occupation. When workers lack the required skills, they move to occupations where their skills are still employable but are paid a lower wage.\n"
     ]
    }
   ],
   "source": [
    "# ABSTRACT\n",
    "try:\n",
    "    abstract = driver.find_element_by_xpath('//*[@id=\"article-information\"]/section[1]').text\n",
    "    abstract_extr = abstract.split(\"\\n\")\n",
    "    abstract_extr_1 = abstract_extr[1] \n",
    "    print(abstract_extr_1)\n",
    "except :\n",
    "    abstract_extr_1 = \"NA\"\n",
    "\n",
    "page['ABSTRACT'] = abstract_extr_1 "
   ]
  },
  {
   "cell_type": "code",
   "execution_count": 32,
   "metadata": {},
   "outputs": [
    {
     "data": {
      "text/plain": [
       "{'VOLUMEN': 'Vol. 113',\n",
       " 'MONTH': '2 February 2023',\n",
       " 'TITLE': 'Technological Change and the Consequences of Job Loss',\n",
       " 'AUTORS': 'J. Carter Braxton,Bledi Taska',\n",
       " 'ABSTRACT': 'We examine the role of technological change in explaining the large and persistent decline in earnings following job loss. Using detailed skill requirements from the near universe of online vacancies, we estimate technological change by occupation and find that technological change accounts for 45 percent of the decline in earnings after job loss. Technological change lowers earnings after job loss by requiring workers to have new skills to perform newly created jobs in their prior occupation. When workers lack the required skills, they move to occupations where their skills are still employable but are paid a lower wage.'}"
      ]
     },
     "execution_count": 32,
     "metadata": {},
     "output_type": "execute_result"
    }
   ],
   "source": [
    "page"
   ]
  },
  {
   "cell_type": "code",
   "execution_count": 34,
   "metadata": {},
   "outputs": [
    {
     "data": {
      "text/plain": [
       "{'VOLUMEN': 'Vol. 113',\n",
       " 'MONTH': '2 February 2023',\n",
       " 'TITLE': 'Technological Change and the Consequences of Job Loss',\n",
       " 'AUTORS': 'J. Carter Braxton,Bledi Taska',\n",
       " 'ABSTRACT': 'We examine the role of technological change in explaining the large and persistent decline in earnings following job loss. Using detailed skill requirements from the near universe of online vacancies, we estimate technological change by occupation and find that technological change accounts for 45 percent of the decline in earnings after job loss. Technological change lowers earnings after job loss by requiring workers to have new skills to perform newly created jobs in their prior occupation. When workers lack the required skills, they move to occupations where their skills are still employable but are paid a lower wage.',\n",
       " 'DOI': 'DOI: 10.1257/aer.20210182'}"
      ]
     },
     "execution_count": 34,
     "metadata": {},
     "output_type": "execute_result"
    }
   ],
   "source": [
    "# DOI\n",
    "try:\n",
    "    doi=driver.find_element_by_xpath('//span[@class=\"doi\"]').text\n",
    "except :\n",
    "    doi = \"NA\"\n",
    "\n",
    "page[\"DOI\"] = doi\n",
    "page"
   ]
  },
  {
   "cell_type": "code",
   "execution_count": 35,
   "metadata": {},
   "outputs": [
    {
     "data": {
      "text/plain": [
       "{'VOLUMEN': 'Vol. 113',\n",
       " 'MONTH': '2 February 2023',\n",
       " 'TITLE': 'Technological Change and the Consequences of Job Loss',\n",
       " 'AUTORS': 'J. Carter Braxton,Bledi Taska',\n",
       " 'ABSTRACT': 'We examine the role of technological change in explaining the large and persistent decline in earnings following job loss. Using detailed skill requirements from the near universe of online vacancies, we estimate technological change by occupation and find that technological change accounts for 45 percent of the decline in earnings after job loss. Technological change lowers earnings after job loss by requiring workers to have new skills to perform newly created jobs in their prior occupation. When workers lack the required skills, they move to occupations where their skills are still employable but are paid a lower wage.',\n",
       " 'DOI': 'DOI: 10.1257/aer.20210182',\n",
       " 'PAGE_FIRST': '279'}"
      ]
     },
     "execution_count": 35,
     "metadata": {},
     "output_type": "execute_result"
    }
   ],
   "source": [
    "# PAGE FIRST\n",
    "try:\n",
    "\n",
    "    page_first = driver.find_element_by_xpath('//li[@class=\"pages\"]').text\n",
    "    page_first_extr = re.search(r'(?<=. ).*(?=-)', page_first)[0]\n",
    "\n",
    "except :\n",
    "    page_first = \"NA\"\n",
    "\n",
    "page['PAGE_FIRST'] = page_first_extr\n",
    "page"
   ]
  },
  {
   "cell_type": "code",
   "execution_count": 36,
   "metadata": {},
   "outputs": [
    {
     "data": {
      "text/plain": [
       "{'VOLUMEN': 'Vol. 113',\n",
       " 'MONTH': '2 February 2023',\n",
       " 'TITLE': 'Technological Change and the Consequences of Job Loss',\n",
       " 'AUTORS': 'J. Carter Braxton,Bledi Taska',\n",
       " 'ABSTRACT': 'We examine the role of technological change in explaining the large and persistent decline in earnings following job loss. Using detailed skill requirements from the near universe of online vacancies, we estimate technological change by occupation and find that technological change accounts for 45 percent of the decline in earnings after job loss. Technological change lowers earnings after job loss by requiring workers to have new skills to perform newly created jobs in their prior occupation. When workers lack the required skills, they move to occupations where their skills are still employable but are paid a lower wage.',\n",
       " 'DOI': 'DOI: 10.1257/aer.20210182',\n",
       " 'PAGE_FIRST': '279',\n",
       " 'PAGE_END': '316',\n",
       " 'CITACION': 'Braxton, J. Carter, and Bledi Taska. 2023. \"Technological Change and the Consequences of Job Loss.\" American Economic Review, 113 (2): 279-316.'}"
      ]
     },
     "execution_count": 36,
     "metadata": {},
     "output_type": "execute_result"
    }
   ],
   "source": [
    "# PAGE END\n",
    "try:\n",
    "\n",
    "    page_end = driver.find_element_by_xpath('//li[@class=\"pages\"]').text\n",
    "    page_end_extr = re.search(r'(?<=.-).*(?=.)', page_end )[0]\n",
    "\n",
    "\n",
    "except :\n",
    "    page_end = \"NA \"\n",
    "\n",
    "page['PAGE_END'] = page_end_extr\n",
    "\n",
    "\n",
    "# CITACION \n",
    "try:\n",
    "\n",
    "    citacion = driver.find_element_by_xpath('//section[@class=\"article-information citation\"]').text\n",
    "    citacion_extra = citacion.split(\"\\n\")\n",
    "    citacion_extra_1 = citacion_extra[1]\n",
    "except :\n",
    "    citacion = \"NA\"\n",
    "\n",
    "page['CITACION'] = citacion_extra_1\n",
    "page"
   ]
  },
  {
   "cell_type": "code",
   "execution_count": 37,
   "metadata": {},
   "outputs": [
    {
     "data": {
      "text/plain": [
       "{'VOLUMEN': 'Vol. 113',\n",
       " 'MONTH': '2 February 2023',\n",
       " 'TITLE': 'Technological Change and the Consequences of Job Loss',\n",
       " 'AUTORS': 'J. Carter Braxton,Bledi Taska',\n",
       " 'ABSTRACT': 'We examine the role of technological change in explaining the large and persistent decline in earnings following job loss. Using detailed skill requirements from the near universe of online vacancies, we estimate technological change by occupation and find that technological change accounts for 45 percent of the decline in earnings after job loss. Technological change lowers earnings after job loss by requiring workers to have new skills to perform newly created jobs in their prior occupation. When workers lack the required skills, they move to occupations where their skills are still employable but are paid a lower wage.',\n",
       " 'DOI': 'DOI: 10.1257/aer.20210182',\n",
       " 'PAGE_FIRST': '279',\n",
       " 'PAGE_END': '316',\n",
       " 'CITACION': 'Braxton, J. Carter, and Bledi Taska. 2023. \"Technological Change and the Consequences of Job Loss.\" American Economic Review, 113 (2): 279-316.'}"
      ]
     },
     "execution_count": 37,
     "metadata": {},
     "output_type": "execute_result"
    }
   ],
   "source": [
    "#Additional Materials\n",
    "try : \n",
    "    additi_mate = driver.find_element_by_id(\"additionalMaterials\")\n",
    "    links_additional = additi_mate.find_elements_by_tag_name('a')\n",
    "\n",
    "    extra_info_value = \"\"\n",
    "    extra_info = { }\n",
    "    for link_additional in links_additional:\n",
    "\n",
    "        href = link_additional.get_attribute( 'href' )\n",
    "        text = link_additional.text\n",
    "        extra_info_value = f\"{text} : {href} \\n {extra_info_value}\" \n",
    "except :\n",
    "    additi_mate = \"NA\"\n",
    "    \n",
    "page"
   ]
  },
  {
   "cell_type": "code",
   "execution_count": 7,
   "metadata": {
    "scrolled": true
   },
   "outputs": [
    {
     "name": "stdout",
     "output_type": "stream",
     "text": [
      "Vol. 112\n",
      "7 July 2022\n",
      "Monopsony in the US Labor Market\n",
      "Chen Yeh,Claudia Macaluso,Brad Hershbein\n",
      "This paper quantifies employer market power in US manufacturing and how it has changed over time. Using administrative data, we estimate plant-level markdowns—the ratio between a plant's marginal revenue product of labor and its wage. We find most manufacturing plants operate in a monopsonistic environment, with an average markdown of 1.53, implying a worker earning only 65 cents on the marginal dollar generated. To investigate long-term trends for the entire sector, we propose a novel, theoretically grounded measure for the aggregate markdown. We find that it decreased between the late 1970s and the early 2000s, but has been sharply increasing since.\n",
      "J24 Human Capital; Skills; Occupational Choice; Labor Productivity, J31 Wage Level and Structure; Wage Differentials, J38 Wages, Compensation, and Labor Costs: Public Policy, J42 Monopsony; Segmented Labor Markets, L13 Oligopoly and Other Imperfect Markets, L60 Industry Studies: Manufacturing: General\n",
      "Productivity Shocks, Long-Term Contracts, and Earnings Dynamics\n",
      "Neele Balke,Thibaut Lamadon\n",
      "This paper examines how employer- and worker-specific productivity shocks transmit to earnings and employment. We develop an equilibrium search model and characterize the optimal contract offered by firms. Risk-neutral firms provide partial insurance against shocks to risk-averse workers and offer contingent contracts, where payments are backloaded in good times and frontloaded in bad times. The model is estimated on matched employer-employee data from Sweden. Firms absorb persistent worker and firm shocks, with respective passthrough values of 26 and 10 percent. We evaluate the effects of redistributive policies and find that 30 percent of government insurance is undone by crowding out firm insurance.\n",
      "D86 Economics of Contract: Theory, H23 Taxation and Subsidies: Externalities; Redistributive Effects; Environmental Taxes and Subsidies, J24 Human Capital; Skills; Occupational Choice; Labor Productivity, J31 Wage Level and Structure; Wage Differentials, J41 Labor Contracts, J62 Job, Occupational, and Intergenerational Mobility; Promotion\n",
      "Heterogeneous Global Booms and Busts\n",
      "Maryam Farboodi,Peter Kondor\n",
      "We investigate the heterogeneous boom and bust patterns across countries that emerge as a result of global shocks. Our analysis sheds light on the emergence of core and periphery countries, and the joint determination of the depth of recessions and tightness of credit across countries. The model implies that interest rates are similar across core and periphery countries in booms, with larger credit and output growth in periphery countries. However, a common global shock that leads to a credit crunch across the globe gives rise to a sharper spike in interest rates and a deeper recession in periphery countries, while a credit flight to the core alleviates the adverse consequences in these countries.\n",
      "E21 Macroeconomics: Consumption; Saving; Wealth, E32 Business Fluctuations; Cycles, E43 Interest Rates: Determination, Term Structure, and Effects, E44 Financial Markets and the Macroeconomy, F44 International Business Cycles, G01 Financial Crises, G15 International Financial Markets\n",
      "Using the Retail Distribution of Sellers to Impute Expenditure Shares\n",
      "Alexis Antoniades,Robert C. Feenstra,Mingzhi (Jimmy) Xu\n",
      "Many price indices must be constructed without quantity data at the elementary level. The paper shows that for some consumer goods in the United States and other countries, one can approximate expenditure shares using weights derived from the retail distribution of sellers. These weights are based on the share of outlets selling an item, or the share of outlets adjusted by the total number of items sold in each. Relative to using no weights, the paper finds that using such imputed weights substantially reduces bias in the frequency of price changes, in annual inflation, and in price comparisons across countries.\n",
      "E31 Price Level; Inflation; Deflation, L11 Production, Pricing, and Market Structure; Size Distribution of Firms, L81 Retail and Wholesale Trade; e-Commerce, O11 Macroeconomic Analyses of Economic Development, O14 Industrialization; Manufacturing and Service Industries; Choice of Technology\n",
      "When Choices Are Mistakes\n",
      "Kirby Nielsen,John Rehbeck\n",
      "Using a laboratory experiment, we identify whether decision-makers consider it a mistake to violate canonical choice axioms. To do this, we incentivize subjects to report axioms they want their decisions to satisfy. Then, subjects make lottery choices which might conflict with their axiom preferences. In instances of conflict, we give subjects the opportunity to re-evaluate their decisions. We find that many individuals want to follow canonical axioms and revise their choices to be consistent with the axioms. In a shorter online experiment, we show correlations of mistakes with response times and measures of cognition.\n",
      "C91 Design of Experiments: Laboratory, Individual, D12 Consumer Economics: Empirical Analysis, D44 Auctions, D91 Micro-Based Behavioral Economics: Role and Effects of Psychological, Emotional, Social, and Cognitive Factors on Decision Making\n",
      "Belief Distortions and Macroeconomic Fluctuations\n",
      "Francesco Bianchi,Sydney C. Ludvigson,Sai Ma\n",
      "This paper combines a data-rich environment with a machine learning algorithm to provide new estimates of time-varying systematic expectational errors (\"belief distortions\") embedded in survey responses. We find sizable distortions even for professional forecasters, with all respondent-types overweighting the implicit judgmental component of their forecasts relative to what can be learned from publicly available information. Forecasts of inflation and GDP growth oscillate between optimism and pessimism by large margins, with belief distortions evolving dynamically in response to cyclical shocks. The results suggest that artificial intelligence algorithms can be productively deployed to correct errors in human judgment and improve predictive accuracy.\n",
      "C45 Neural Networks and Related Topics, D83 Search; Learning; Information and Knowledge; Communication; Belief; Unawareness, E23 Macroeconomics: Production, E27 Macroeconomics: Consumption, Saving, Production, Employment, and Investment: Forecasting and Simulation: Models and Applications, E31 Price Level; Inflation; Deflation, E32 Business Fluctuations; Cycles, E37 Prices, Business Fluctuations, and Cycles: Forecasting and Simulation: Models and Applications\n",
      "Factor Market Failures and the Adoption of Irrigation in Rwanda\n",
      "Maria Jones,Florence Kondylis,John Loeser,Jeremy Magruder\n",
      "Factor market failures can limit adoption of profitable technologies. We leverage a plot-level spatial regression discontinuity design in the context of irrigation use by farmers provided free access to water. Using irrigation boosts profits by 43–62 percent. Yet, farmers only irrigate 30 percent of plots because of labor costs. We demonstrate inefficient irrigation use, by showing farmers irrigating one plot reduce their irrigation use on other plots. This inefficiency is largest for smaller households and wealthier households, suggesting labor market frictions constrain use of irrigation.\n",
      "D24 Production; Cost; Capital; Capital, Total Factor, and Multifactor Productivity; Capacity, O13 Economic Development: Agriculture; Natural Resources; Energy; Environment; Other Primary Products, Q12 Micro Analysis of Farm Firms, Farm Households, and Farm Input Markets, Q15 Land Ownership and Tenure; Land Reform; Land Use; Irrigation; Agriculture and Environment, Q16 Agricultural R&D; Agricultural Technology; Biofuels; Agricultural Extension Services\n",
      "Monetary Policy with Opinionated Markets\n",
      "Ricardo J. Caballero,Alp Simsek\n",
      "We build a model in which the Fed and the market disagree about future aggregate demand. The market anticipates monetary policy \"mistakes,\" which affect current demand and induce the Fed to partially accommodate the market's view. The Fed expects to implement its view gradually. Announcements that reveal an unexpected change in the Fed's belief provide a microfoundation for monetary policy shocks. Tantrum shocks arise when the market misinterprets the Fed's belief and overreacts to its announcement. Uncertainty about tantrums motivates further gradualism and communication. Finally, disagreements affect the market's expected inflation and induce a policy trade-off similar to \"cost-push\" shocks.\n",
      "D83 Search; Learning; Information and Knowledge; Communication; Belief; Unawareness, E12 General Aggregative Models: Keynes; Keynesian; Post-Keynesian, E31 Price Level; Inflation; Deflation, E43 Interest Rates: Determination, Term Structure, and Effects, E44 Financial Markets and the Macroeconomy, E52 Monetary Policy, E58 Central Banks and Their Policies\n"
     ]
    },
    {
     "name": "stdout",
     "output_type": "stream",
     "text": [
      "Estimating Spillovers from Publicly Funded R&D: Evidence from the US Department of Energy\n",
      "Kyle R. Myers,Lauren Lanahan\n",
      "We quantify the magnitude of R&D spillovers created by grants to small firms from the US Department of Energy. Our empirical strategy leverages variation due to state-specific matching policies, and we develop a new approach to measuring both geographic and technological spillovers that does not rely on an observable paper trail. Our estimates suggest that for every patent produced by grant recipients, three more are produced by others who benefit from spillovers. Sixty percent of these spillovers occur within the United States, and many of them occur in technological areas substantially different from those targeted by the grants.\n",
      "H81 Governmental Loans; Loan Guarantees; Credits; Grants; Bailouts, L25 Firm Performance: Size, Diversification, and Scope, O33 Technological Change: Choices and Consequences; Diffusion Processes, O34 Intellectual Property and Intellectual Capital, Q40 Energy: General\n",
      "Digital Addiction\n",
      "Hunt Allcott,Matthew Gentzkow,Lena Song\n",
      "Many have argued that digital technologies such as smartphones and social media are addictive. We develop an economic model of digital addiction and estimate it using a randomized experiment. Temporary incentives to reduce social media use have persistent effects, suggesting social media are habit forming. Allowing people to set limits on their future screen time substantially reduces use, suggesting self-control problems. Additional evidence suggests people are inattentive to habit formation and partially unaware of self-control problems. Looking at these facts through the lens of our model suggests that self-control problems cause 31 percent of social media use.\n",
      "D12 Consumer Economics: Empirical Analysis, D61 Allocative Efficiency; Cost-Benefit Analysis, D90 Micro-Based Behavioral Economics: General, D91 Micro-Based Behavioral Economics: Role and Effects of Psychological, Emotional, Social, and Cognitive Factors on Decision Making, I31 General Welfare; Well-Being, L86 Information and Internet Services; Computer Software, O33 Technological Change: Choices and Consequences; Diffusion Processes\n",
      "Vol. 112\n",
      "6 June 2022\n",
      "Design-Based Research in Empirical Microeconomics\n",
      "David Card\n",
      "I briefly review the emergence of \"design-based\" research methods in labor economics in the 1980s and early 1990s. These methods were seen as a partial solution to the problems of credible inference identified by Ashenfelter (1974), Leamer (1978), Hendry (1980), and others. Designed-based studies typically use a simplified one-equation model of the outcome of interest—in contrast to model-based studies that specify a data generating process for all factors determining the outcome. I discuss some of the strengths and weaknesses of the design-based approach and the value of such research in the field.\n",
      "C20 Single Equation Models; Single Variables: General, J01 Labor Economics: General, J24 Human Capital; Skills; Occupational Choice; Labor Productivity, J31 Wage Level and Structure; Wage Differentials, J38 Wages, Compensation, and Labor Costs: Public Policy, J51 Trade Unions: Objectives, Structure, and Effects, J53 Labor-Management Relations; Industrial Jurisprudence\n",
      "The Welfare Effects of Peer Entry: The Case of Airbnb and the Accommodation Industry\n",
      "Chiara Farronato,Andrey Fradkin\n",
      "We study the welfare effects of enabling peer supply through Airbnb in the accommodation industry. We present a model of competition between flexible and dedicated sellers (peer hosts and hotels) who provide differentiated products. We estimate this model using data from major US cities and quantify the welfare effects of Airbnb on travelers, hosts, and hotels. The welfare gains are concentrated in specific locations (New York) and times (New Year's Eve) when hotel capacity is constrained. This occurs because peer hosts are responsive to market conditions, expand supply as hotels fill up, and keep hotel prices down as a result.\n",
      "L11 Production, Pricing, and Market Structure; Size Distribution of Firms, L83 Sports; Gambling; Restaurants; Recreation; Tourism, L86 Information and Internet Services; Computer Software, L88 Industry Studies: Services: Government Policy, Z31 Tourism: Industry Studies\n",
      "Aggregating Distributional Treatment Effects: A Bayesian Hierarchical Analysis of the Microcredit Literature\n",
      "Rachael Meager\n",
      "Expanding credit access in developing contexts could help some households while harming others. Microcredit studies show different effects at different quantiles of household profit, including some negative effects; yet these findings also differ across studies. I develop new Bayesian hierarchical models to aggregate the evidence on these distributional effects for mixture-type outcomes such as household profit. Applying them to microcredit, I find a precise zero effect from the fifth to seventy-fifth quantiles, and uncertain yet large effects on the upper tails, particularly for households with business experience. These quantile estimates are more reliable than averages because the data are fat tailed.\n",
      "G21 Banks; Depository Institutions; Micro Finance Institutions; Mortgages, G51 Household Finance: Household Saving, Borrowing, Debt, and Wealth, L25 Firm Performance: Size, Diversification, and Scope, O16 Economic Development: Financial Markets; Saving and Capital Investment; Corporate Finance and Governance, P34 Socialist Institutions and Their Transitions: Financial Economics\n",
      "Offshore Profit Shifting and Aggregate Measurement: Balance of Payments, Foreign Investment, Productivity, and the Labor Share\n",
      "Fatih Guvenen,Raymond J. Mataloni Jr.,Dylan G. Rassier,Kim J. Ruhl\n",
      "We show how offshore profit shifting by US multinational enterprises affects several key measures of the US economy. Profits shifted out of the United States grew rapidly from the mid-1990s to 2010 and have since waned. From 1982–2016, on average, 38 percent of income attributed to US direct investment abroad is reattributable to the United States. We find that adjusting for profit shifting shrinks the trade deficit, decreases the return on US foreign direct investment abroad, boosts productivity growth rates in the late 1990s and early 2000s, and lowers labor's share of income.\n",
      "E23 Macroeconomics: Production, E25 Aggregate Factor Income Distribution, F14 Empirical Studies of Trade, F23 Multinational Firms; International Business, H25 Business Taxes and Subsidies including sales and value-added (VAT), H87 International Fiscal Issues; International Public Goods, L25 Firm Performance: Size, Diversification, and Scope\n",
      "Migrants and Firms: Evidence from China\n",
      "Clement Imbert,Marlon Seror,Yifan Zhang,Yanos Zylberberg\n",
      "How does rural-urban migration shape urban production in developing countries? We use longitudinal data on Chinese manufacturing firms between 2000 and 2006, and exploit exogenous variation in rural-urban migration induced by agricultural income shocks for identification. We find that, when immigration increases, manufacturing production becomes more labor intensive and productivity declines. We investigate the reorganization of production using patent applications and product information. We show that rural-urban migration induces both labor-oriented technological change and the adoption of labor intensive product varieties.\n",
      "D24 Production; Cost; Capital; Capital, Total Factor, and Multifactor Productivity; Capacity, L23 Organization of Production, L60 Industry Studies: Manufacturing: General, O33 Technological Change: Choices and Consequences; Diffusion Processes, P25 Socialist Systems and Transitional Economies: Urban, Rural, and Regional Economics, P31 Socialist Enterprises and Their Transitions, R23 Urban, Rural, Regional, Real Estate, and Transportation Economics: Regional Migration; Regional Labor Markets; Population; Neighborhood Characteristics\n"
     ]
    },
    {
     "ename": "KeyboardInterrupt",
     "evalue": "",
     "output_type": "error",
     "traceback": [
      "\u001b[1;31m---------------------------------------------------------------------------\u001b[0m",
      "\u001b[1;31mKeyboardInterrupt\u001b[0m                         Traceback (most recent call last)",
      "\u001b[1;32m<ipython-input-7-98479a5a7450>\u001b[0m in \u001b[0;36m<module>\u001b[1;34m\u001b[0m\n\u001b[0;32m     25\u001b[0m \u001b[1;33m\u001b[0m\u001b[0m\n\u001b[0;32m     26\u001b[0m     \u001b[1;32mfor\u001b[0m \u001b[0murl_paper\u001b[0m \u001b[1;32min\u001b[0m \u001b[0murls_papers\u001b[0m\u001b[1;33m:\u001b[0m\u001b[1;33m\u001b[0m\u001b[1;33m\u001b[0m\u001b[0m\n\u001b[1;32m---> 27\u001b[1;33m         \u001b[0mdriver\u001b[0m\u001b[1;33m.\u001b[0m\u001b[0mget\u001b[0m\u001b[1;33m(\u001b[0m\u001b[0murl_paper\u001b[0m\u001b[1;33m)\u001b[0m\u001b[1;33m\u001b[0m\u001b[1;33m\u001b[0m\u001b[0m\n\u001b[0m\u001b[0;32m     28\u001b[0m \u001b[1;33m\u001b[0m\u001b[0m\n\u001b[0;32m     29\u001b[0m         \u001b[0mpage\u001b[0m \u001b[1;33m=\u001b[0m \u001b[1;33m{\u001b[0m\u001b[1;33m}\u001b[0m\u001b[1;33m\u001b[0m\u001b[1;33m\u001b[0m\u001b[0m\n",
      "\u001b[1;32mc:\\python\\python38\\lib\\site-packages\\selenium\\webdriver\\remote\\webdriver.py\u001b[0m in \u001b[0;36mget\u001b[1;34m(self, url)\u001b[0m\n\u001b[0;32m    331\u001b[0m         \u001b[0mLoads\u001b[0m \u001b[0ma\u001b[0m \u001b[0mweb\u001b[0m \u001b[0mpage\u001b[0m \u001b[1;32min\u001b[0m \u001b[0mthe\u001b[0m \u001b[0mcurrent\u001b[0m \u001b[0mbrowser\u001b[0m \u001b[0msession\u001b[0m\u001b[1;33m.\u001b[0m\u001b[1;33m\u001b[0m\u001b[1;33m\u001b[0m\u001b[0m\n\u001b[0;32m    332\u001b[0m         \"\"\"\n\u001b[1;32m--> 333\u001b[1;33m         \u001b[0mself\u001b[0m\u001b[1;33m.\u001b[0m\u001b[0mexecute\u001b[0m\u001b[1;33m(\u001b[0m\u001b[0mCommand\u001b[0m\u001b[1;33m.\u001b[0m\u001b[0mGET\u001b[0m\u001b[1;33m,\u001b[0m \u001b[1;33m{\u001b[0m\u001b[1;34m'url'\u001b[0m\u001b[1;33m:\u001b[0m \u001b[0murl\u001b[0m\u001b[1;33m}\u001b[0m\u001b[1;33m)\u001b[0m\u001b[1;33m\u001b[0m\u001b[1;33m\u001b[0m\u001b[0m\n\u001b[0m\u001b[0;32m    334\u001b[0m \u001b[1;33m\u001b[0m\u001b[0m\n\u001b[0;32m    335\u001b[0m     \u001b[1;33m@\u001b[0m\u001b[0mproperty\u001b[0m\u001b[1;33m\u001b[0m\u001b[1;33m\u001b[0m\u001b[0m\n",
      "\u001b[1;32mc:\\python\\python38\\lib\\site-packages\\selenium\\webdriver\\remote\\webdriver.py\u001b[0m in \u001b[0;36mexecute\u001b[1;34m(self, driver_command, params)\u001b[0m\n\u001b[0;32m    317\u001b[0m \u001b[1;33m\u001b[0m\u001b[0m\n\u001b[0;32m    318\u001b[0m         \u001b[0mparams\u001b[0m \u001b[1;33m=\u001b[0m \u001b[0mself\u001b[0m\u001b[1;33m.\u001b[0m\u001b[0m_wrap_value\u001b[0m\u001b[1;33m(\u001b[0m\u001b[0mparams\u001b[0m\u001b[1;33m)\u001b[0m\u001b[1;33m\u001b[0m\u001b[1;33m\u001b[0m\u001b[0m\n\u001b[1;32m--> 319\u001b[1;33m         \u001b[0mresponse\u001b[0m \u001b[1;33m=\u001b[0m \u001b[0mself\u001b[0m\u001b[1;33m.\u001b[0m\u001b[0mcommand_executor\u001b[0m\u001b[1;33m.\u001b[0m\u001b[0mexecute\u001b[0m\u001b[1;33m(\u001b[0m\u001b[0mdriver_command\u001b[0m\u001b[1;33m,\u001b[0m \u001b[0mparams\u001b[0m\u001b[1;33m)\u001b[0m\u001b[1;33m\u001b[0m\u001b[1;33m\u001b[0m\u001b[0m\n\u001b[0m\u001b[0;32m    320\u001b[0m         \u001b[1;32mif\u001b[0m \u001b[0mresponse\u001b[0m\u001b[1;33m:\u001b[0m\u001b[1;33m\u001b[0m\u001b[1;33m\u001b[0m\u001b[0m\n\u001b[0;32m    321\u001b[0m             \u001b[0mself\u001b[0m\u001b[1;33m.\u001b[0m\u001b[0merror_handler\u001b[0m\u001b[1;33m.\u001b[0m\u001b[0mcheck_response\u001b[0m\u001b[1;33m(\u001b[0m\u001b[0mresponse\u001b[0m\u001b[1;33m)\u001b[0m\u001b[1;33m\u001b[0m\u001b[1;33m\u001b[0m\u001b[0m\n",
      "\u001b[1;32mc:\\python\\python38\\lib\\site-packages\\selenium\\webdriver\\remote\\remote_connection.py\u001b[0m in \u001b[0;36mexecute\u001b[1;34m(self, command, params)\u001b[0m\n\u001b[0;32m    372\u001b[0m         \u001b[0mdata\u001b[0m \u001b[1;33m=\u001b[0m \u001b[0mutils\u001b[0m\u001b[1;33m.\u001b[0m\u001b[0mdump_json\u001b[0m\u001b[1;33m(\u001b[0m\u001b[0mparams\u001b[0m\u001b[1;33m)\u001b[0m\u001b[1;33m\u001b[0m\u001b[1;33m\u001b[0m\u001b[0m\n\u001b[0;32m    373\u001b[0m         \u001b[0murl\u001b[0m \u001b[1;33m=\u001b[0m \u001b[1;34m'%s%s'\u001b[0m \u001b[1;33m%\u001b[0m \u001b[1;33m(\u001b[0m\u001b[0mself\u001b[0m\u001b[1;33m.\u001b[0m\u001b[0m_url\u001b[0m\u001b[1;33m,\u001b[0m \u001b[0mpath\u001b[0m\u001b[1;33m)\u001b[0m\u001b[1;33m\u001b[0m\u001b[1;33m\u001b[0m\u001b[0m\n\u001b[1;32m--> 374\u001b[1;33m         \u001b[1;32mreturn\u001b[0m \u001b[0mself\u001b[0m\u001b[1;33m.\u001b[0m\u001b[0m_request\u001b[0m\u001b[1;33m(\u001b[0m\u001b[0mcommand_info\u001b[0m\u001b[1;33m[\u001b[0m\u001b[1;36m0\u001b[0m\u001b[1;33m]\u001b[0m\u001b[1;33m,\u001b[0m \u001b[0murl\u001b[0m\u001b[1;33m,\u001b[0m \u001b[0mbody\u001b[0m\u001b[1;33m=\u001b[0m\u001b[0mdata\u001b[0m\u001b[1;33m)\u001b[0m\u001b[1;33m\u001b[0m\u001b[1;33m\u001b[0m\u001b[0m\n\u001b[0m\u001b[0;32m    375\u001b[0m \u001b[1;33m\u001b[0m\u001b[0m\n\u001b[0;32m    376\u001b[0m     \u001b[1;32mdef\u001b[0m \u001b[0m_request\u001b[0m\u001b[1;33m(\u001b[0m\u001b[0mself\u001b[0m\u001b[1;33m,\u001b[0m \u001b[0mmethod\u001b[0m\u001b[1;33m,\u001b[0m \u001b[0murl\u001b[0m\u001b[1;33m,\u001b[0m \u001b[0mbody\u001b[0m\u001b[1;33m=\u001b[0m\u001b[1;32mNone\u001b[0m\u001b[1;33m)\u001b[0m\u001b[1;33m:\u001b[0m\u001b[1;33m\u001b[0m\u001b[1;33m\u001b[0m\u001b[0m\n",
      "\u001b[1;32mc:\\python\\python38\\lib\\site-packages\\selenium\\webdriver\\remote\\remote_connection.py\u001b[0m in \u001b[0;36m_request\u001b[1;34m(self, method, url, body)\u001b[0m\n\u001b[0;32m    395\u001b[0m \u001b[1;33m\u001b[0m\u001b[0m\n\u001b[0;32m    396\u001b[0m         \u001b[1;32mif\u001b[0m \u001b[0mself\u001b[0m\u001b[1;33m.\u001b[0m\u001b[0mkeep_alive\u001b[0m\u001b[1;33m:\u001b[0m\u001b[1;33m\u001b[0m\u001b[1;33m\u001b[0m\u001b[0m\n\u001b[1;32m--> 397\u001b[1;33m             \u001b[0mresp\u001b[0m \u001b[1;33m=\u001b[0m \u001b[0mself\u001b[0m\u001b[1;33m.\u001b[0m\u001b[0m_conn\u001b[0m\u001b[1;33m.\u001b[0m\u001b[0mrequest\u001b[0m\u001b[1;33m(\u001b[0m\u001b[0mmethod\u001b[0m\u001b[1;33m,\u001b[0m \u001b[0murl\u001b[0m\u001b[1;33m,\u001b[0m \u001b[0mbody\u001b[0m\u001b[1;33m=\u001b[0m\u001b[0mbody\u001b[0m\u001b[1;33m,\u001b[0m \u001b[0mheaders\u001b[0m\u001b[1;33m=\u001b[0m\u001b[0mheaders\u001b[0m\u001b[1;33m)\u001b[0m\u001b[1;33m\u001b[0m\u001b[1;33m\u001b[0m\u001b[0m\n\u001b[0m\u001b[0;32m    398\u001b[0m \u001b[1;33m\u001b[0m\u001b[0m\n\u001b[0;32m    399\u001b[0m             \u001b[0mstatuscode\u001b[0m \u001b[1;33m=\u001b[0m \u001b[0mresp\u001b[0m\u001b[1;33m.\u001b[0m\u001b[0mstatus\u001b[0m\u001b[1;33m\u001b[0m\u001b[1;33m\u001b[0m\u001b[0m\n",
      "\u001b[1;32mc:\\python\\python38\\lib\\site-packages\\urllib3\\request.py\u001b[0m in \u001b[0;36mrequest\u001b[1;34m(self, method, url, fields, headers, **urlopen_kw)\u001b[0m\n\u001b[0;32m     76\u001b[0m             )\n\u001b[0;32m     77\u001b[0m         \u001b[1;32melse\u001b[0m\u001b[1;33m:\u001b[0m\u001b[1;33m\u001b[0m\u001b[1;33m\u001b[0m\u001b[0m\n\u001b[1;32m---> 78\u001b[1;33m             return self.request_encode_body(\n\u001b[0m\u001b[0;32m     79\u001b[0m                 \u001b[0mmethod\u001b[0m\u001b[1;33m,\u001b[0m \u001b[0murl\u001b[0m\u001b[1;33m,\u001b[0m \u001b[0mfields\u001b[0m\u001b[1;33m=\u001b[0m\u001b[0mfields\u001b[0m\u001b[1;33m,\u001b[0m \u001b[0mheaders\u001b[0m\u001b[1;33m=\u001b[0m\u001b[0mheaders\u001b[0m\u001b[1;33m,\u001b[0m \u001b[1;33m**\u001b[0m\u001b[0murlopen_kw\u001b[0m\u001b[1;33m\u001b[0m\u001b[1;33m\u001b[0m\u001b[0m\n\u001b[0;32m     80\u001b[0m             )\n",
      "\u001b[1;32mc:\\python\\python38\\lib\\site-packages\\urllib3\\request.py\u001b[0m in \u001b[0;36mrequest_encode_body\u001b[1;34m(self, method, url, fields, headers, encode_multipart, multipart_boundary, **urlopen_kw)\u001b[0m\n\u001b[0;32m    168\u001b[0m         \u001b[0mextra_kw\u001b[0m\u001b[1;33m.\u001b[0m\u001b[0mupdate\u001b[0m\u001b[1;33m(\u001b[0m\u001b[0murlopen_kw\u001b[0m\u001b[1;33m)\u001b[0m\u001b[1;33m\u001b[0m\u001b[1;33m\u001b[0m\u001b[0m\n\u001b[0;32m    169\u001b[0m \u001b[1;33m\u001b[0m\u001b[0m\n\u001b[1;32m--> 170\u001b[1;33m         \u001b[1;32mreturn\u001b[0m \u001b[0mself\u001b[0m\u001b[1;33m.\u001b[0m\u001b[0murlopen\u001b[0m\u001b[1;33m(\u001b[0m\u001b[0mmethod\u001b[0m\u001b[1;33m,\u001b[0m \u001b[0murl\u001b[0m\u001b[1;33m,\u001b[0m \u001b[1;33m**\u001b[0m\u001b[0mextra_kw\u001b[0m\u001b[1;33m)\u001b[0m\u001b[1;33m\u001b[0m\u001b[1;33m\u001b[0m\u001b[0m\n\u001b[0m",
      "\u001b[1;32mc:\\python\\python38\\lib\\site-packages\\urllib3\\poolmanager.py\u001b[0m in \u001b[0;36murlopen\u001b[1;34m(self, method, url, redirect, **kw)\u001b[0m\n\u001b[0;32m    373\u001b[0m             \u001b[0mresponse\u001b[0m \u001b[1;33m=\u001b[0m \u001b[0mconn\u001b[0m\u001b[1;33m.\u001b[0m\u001b[0murlopen\u001b[0m\u001b[1;33m(\u001b[0m\u001b[0mmethod\u001b[0m\u001b[1;33m,\u001b[0m \u001b[0murl\u001b[0m\u001b[1;33m,\u001b[0m \u001b[1;33m**\u001b[0m\u001b[0mkw\u001b[0m\u001b[1;33m)\u001b[0m\u001b[1;33m\u001b[0m\u001b[1;33m\u001b[0m\u001b[0m\n\u001b[0;32m    374\u001b[0m         \u001b[1;32melse\u001b[0m\u001b[1;33m:\u001b[0m\u001b[1;33m\u001b[0m\u001b[1;33m\u001b[0m\u001b[0m\n\u001b[1;32m--> 375\u001b[1;33m             \u001b[0mresponse\u001b[0m \u001b[1;33m=\u001b[0m \u001b[0mconn\u001b[0m\u001b[1;33m.\u001b[0m\u001b[0murlopen\u001b[0m\u001b[1;33m(\u001b[0m\u001b[0mmethod\u001b[0m\u001b[1;33m,\u001b[0m \u001b[0mu\u001b[0m\u001b[1;33m.\u001b[0m\u001b[0mrequest_uri\u001b[0m\u001b[1;33m,\u001b[0m \u001b[1;33m**\u001b[0m\u001b[0mkw\u001b[0m\u001b[1;33m)\u001b[0m\u001b[1;33m\u001b[0m\u001b[1;33m\u001b[0m\u001b[0m\n\u001b[0m\u001b[0;32m    376\u001b[0m \u001b[1;33m\u001b[0m\u001b[0m\n\u001b[0;32m    377\u001b[0m         \u001b[0mredirect_location\u001b[0m \u001b[1;33m=\u001b[0m \u001b[0mredirect\u001b[0m \u001b[1;32mand\u001b[0m \u001b[0mresponse\u001b[0m\u001b[1;33m.\u001b[0m\u001b[0mget_redirect_location\u001b[0m\u001b[1;33m(\u001b[0m\u001b[1;33m)\u001b[0m\u001b[1;33m\u001b[0m\u001b[1;33m\u001b[0m\u001b[0m\n",
      "\u001b[1;32mc:\\python\\python38\\lib\\site-packages\\urllib3\\connectionpool.py\u001b[0m in \u001b[0;36murlopen\u001b[1;34m(self, method, url, body, headers, retries, redirect, assert_same_host, timeout, pool_timeout, release_conn, chunked, body_pos, **response_kw)\u001b[0m\n\u001b[0;32m    697\u001b[0m \u001b[1;33m\u001b[0m\u001b[0m\n\u001b[0;32m    698\u001b[0m             \u001b[1;31m# Make the request on the httplib connection object.\u001b[0m\u001b[1;33m\u001b[0m\u001b[1;33m\u001b[0m\u001b[1;33m\u001b[0m\u001b[0m\n\u001b[1;32m--> 699\u001b[1;33m             httplib_response = self._make_request(\n\u001b[0m\u001b[0;32m    700\u001b[0m                 \u001b[0mconn\u001b[0m\u001b[1;33m,\u001b[0m\u001b[1;33m\u001b[0m\u001b[1;33m\u001b[0m\u001b[0m\n\u001b[0;32m    701\u001b[0m                 \u001b[0mmethod\u001b[0m\u001b[1;33m,\u001b[0m\u001b[1;33m\u001b[0m\u001b[1;33m\u001b[0m\u001b[0m\n",
      "\u001b[1;32mc:\\python\\python38\\lib\\site-packages\\urllib3\\connectionpool.py\u001b[0m in \u001b[0;36m_make_request\u001b[1;34m(self, conn, method, url, timeout, chunked, **httplib_request_kw)\u001b[0m\n\u001b[0;32m    443\u001b[0m                     \u001b[1;31m# Python 3 (including for exceptions like SystemExit).\u001b[0m\u001b[1;33m\u001b[0m\u001b[1;33m\u001b[0m\u001b[1;33m\u001b[0m\u001b[0m\n\u001b[0;32m    444\u001b[0m                     \u001b[1;31m# Otherwise it looks like a bug in the code.\u001b[0m\u001b[1;33m\u001b[0m\u001b[1;33m\u001b[0m\u001b[1;33m\u001b[0m\u001b[0m\n\u001b[1;32m--> 445\u001b[1;33m                     \u001b[0msix\u001b[0m\u001b[1;33m.\u001b[0m\u001b[0mraise_from\u001b[0m\u001b[1;33m(\u001b[0m\u001b[0me\u001b[0m\u001b[1;33m,\u001b[0m \u001b[1;32mNone\u001b[0m\u001b[1;33m)\u001b[0m\u001b[1;33m\u001b[0m\u001b[1;33m\u001b[0m\u001b[0m\n\u001b[0m\u001b[0;32m    446\u001b[0m         \u001b[1;32mexcept\u001b[0m \u001b[1;33m(\u001b[0m\u001b[0mSocketTimeout\u001b[0m\u001b[1;33m,\u001b[0m \u001b[0mBaseSSLError\u001b[0m\u001b[1;33m,\u001b[0m \u001b[0mSocketError\u001b[0m\u001b[1;33m)\u001b[0m \u001b[1;32mas\u001b[0m \u001b[0me\u001b[0m\u001b[1;33m:\u001b[0m\u001b[1;33m\u001b[0m\u001b[1;33m\u001b[0m\u001b[0m\n\u001b[0;32m    447\u001b[0m             \u001b[0mself\u001b[0m\u001b[1;33m.\u001b[0m\u001b[0m_raise_timeout\u001b[0m\u001b[1;33m(\u001b[0m\u001b[0merr\u001b[0m\u001b[1;33m=\u001b[0m\u001b[0me\u001b[0m\u001b[1;33m,\u001b[0m \u001b[0murl\u001b[0m\u001b[1;33m=\u001b[0m\u001b[0murl\u001b[0m\u001b[1;33m,\u001b[0m \u001b[0mtimeout_value\u001b[0m\u001b[1;33m=\u001b[0m\u001b[0mread_timeout\u001b[0m\u001b[1;33m)\u001b[0m\u001b[1;33m\u001b[0m\u001b[1;33m\u001b[0m\u001b[0m\n",
      "\u001b[1;32mc:\\python\\python38\\lib\\site-packages\\urllib3\\packages\\six.py\u001b[0m in \u001b[0;36mraise_from\u001b[1;34m(value, from_value)\u001b[0m\n",
      "\u001b[1;32mc:\\python\\python38\\lib\\site-packages\\urllib3\\connectionpool.py\u001b[0m in \u001b[0;36m_make_request\u001b[1;34m(self, conn, method, url, timeout, chunked, **httplib_request_kw)\u001b[0m\n\u001b[0;32m    438\u001b[0m                 \u001b[1;31m# Python 3\u001b[0m\u001b[1;33m\u001b[0m\u001b[1;33m\u001b[0m\u001b[1;33m\u001b[0m\u001b[0m\n\u001b[0;32m    439\u001b[0m                 \u001b[1;32mtry\u001b[0m\u001b[1;33m:\u001b[0m\u001b[1;33m\u001b[0m\u001b[1;33m\u001b[0m\u001b[0m\n\u001b[1;32m--> 440\u001b[1;33m                     \u001b[0mhttplib_response\u001b[0m \u001b[1;33m=\u001b[0m \u001b[0mconn\u001b[0m\u001b[1;33m.\u001b[0m\u001b[0mgetresponse\u001b[0m\u001b[1;33m(\u001b[0m\u001b[1;33m)\u001b[0m\u001b[1;33m\u001b[0m\u001b[1;33m\u001b[0m\u001b[0m\n\u001b[0m\u001b[0;32m    441\u001b[0m                 \u001b[1;32mexcept\u001b[0m \u001b[0mBaseException\u001b[0m \u001b[1;32mas\u001b[0m \u001b[0me\u001b[0m\u001b[1;33m:\u001b[0m\u001b[1;33m\u001b[0m\u001b[1;33m\u001b[0m\u001b[0m\n\u001b[0;32m    442\u001b[0m                     \u001b[1;31m# Remove the TypeError from the exception chain in\u001b[0m\u001b[1;33m\u001b[0m\u001b[1;33m\u001b[0m\u001b[1;33m\u001b[0m\u001b[0m\n",
      "\u001b[1;32mc:\\python\\python38\\lib\\http\\client.py\u001b[0m in \u001b[0;36mgetresponse\u001b[1;34m(self)\u001b[0m\n\u001b[0;32m   1345\u001b[0m         \u001b[1;32mtry\u001b[0m\u001b[1;33m:\u001b[0m\u001b[1;33m\u001b[0m\u001b[1;33m\u001b[0m\u001b[0m\n\u001b[0;32m   1346\u001b[0m             \u001b[1;32mtry\u001b[0m\u001b[1;33m:\u001b[0m\u001b[1;33m\u001b[0m\u001b[1;33m\u001b[0m\u001b[0m\n\u001b[1;32m-> 1347\u001b[1;33m                 \u001b[0mresponse\u001b[0m\u001b[1;33m.\u001b[0m\u001b[0mbegin\u001b[0m\u001b[1;33m(\u001b[0m\u001b[1;33m)\u001b[0m\u001b[1;33m\u001b[0m\u001b[1;33m\u001b[0m\u001b[0m\n\u001b[0m\u001b[0;32m   1348\u001b[0m             \u001b[1;32mexcept\u001b[0m \u001b[0mConnectionError\u001b[0m\u001b[1;33m:\u001b[0m\u001b[1;33m\u001b[0m\u001b[1;33m\u001b[0m\u001b[0m\n\u001b[0;32m   1349\u001b[0m                 \u001b[0mself\u001b[0m\u001b[1;33m.\u001b[0m\u001b[0mclose\u001b[0m\u001b[1;33m(\u001b[0m\u001b[1;33m)\u001b[0m\u001b[1;33m\u001b[0m\u001b[1;33m\u001b[0m\u001b[0m\n",
      "\u001b[1;32mc:\\python\\python38\\lib\\http\\client.py\u001b[0m in \u001b[0;36mbegin\u001b[1;34m(self)\u001b[0m\n\u001b[0;32m    305\u001b[0m         \u001b[1;31m# read until we get a non-100 response\u001b[0m\u001b[1;33m\u001b[0m\u001b[1;33m\u001b[0m\u001b[1;33m\u001b[0m\u001b[0m\n\u001b[0;32m    306\u001b[0m         \u001b[1;32mwhile\u001b[0m \u001b[1;32mTrue\u001b[0m\u001b[1;33m:\u001b[0m\u001b[1;33m\u001b[0m\u001b[1;33m\u001b[0m\u001b[0m\n\u001b[1;32m--> 307\u001b[1;33m             \u001b[0mversion\u001b[0m\u001b[1;33m,\u001b[0m \u001b[0mstatus\u001b[0m\u001b[1;33m,\u001b[0m \u001b[0mreason\u001b[0m \u001b[1;33m=\u001b[0m \u001b[0mself\u001b[0m\u001b[1;33m.\u001b[0m\u001b[0m_read_status\u001b[0m\u001b[1;33m(\u001b[0m\u001b[1;33m)\u001b[0m\u001b[1;33m\u001b[0m\u001b[1;33m\u001b[0m\u001b[0m\n\u001b[0m\u001b[0;32m    308\u001b[0m             \u001b[1;32mif\u001b[0m \u001b[0mstatus\u001b[0m \u001b[1;33m!=\u001b[0m \u001b[0mCONTINUE\u001b[0m\u001b[1;33m:\u001b[0m\u001b[1;33m\u001b[0m\u001b[1;33m\u001b[0m\u001b[0m\n\u001b[0;32m    309\u001b[0m                 \u001b[1;32mbreak\u001b[0m\u001b[1;33m\u001b[0m\u001b[1;33m\u001b[0m\u001b[0m\n",
      "\u001b[1;32mc:\\python\\python38\\lib\\http\\client.py\u001b[0m in \u001b[0;36m_read_status\u001b[1;34m(self)\u001b[0m\n\u001b[0;32m    266\u001b[0m \u001b[1;33m\u001b[0m\u001b[0m\n\u001b[0;32m    267\u001b[0m     \u001b[1;32mdef\u001b[0m \u001b[0m_read_status\u001b[0m\u001b[1;33m(\u001b[0m\u001b[0mself\u001b[0m\u001b[1;33m)\u001b[0m\u001b[1;33m:\u001b[0m\u001b[1;33m\u001b[0m\u001b[1;33m\u001b[0m\u001b[0m\n\u001b[1;32m--> 268\u001b[1;33m         \u001b[0mline\u001b[0m \u001b[1;33m=\u001b[0m \u001b[0mstr\u001b[0m\u001b[1;33m(\u001b[0m\u001b[0mself\u001b[0m\u001b[1;33m.\u001b[0m\u001b[0mfp\u001b[0m\u001b[1;33m.\u001b[0m\u001b[0mreadline\u001b[0m\u001b[1;33m(\u001b[0m\u001b[0m_MAXLINE\u001b[0m \u001b[1;33m+\u001b[0m \u001b[1;36m1\u001b[0m\u001b[1;33m)\u001b[0m\u001b[1;33m,\u001b[0m \u001b[1;34m\"iso-8859-1\"\u001b[0m\u001b[1;33m)\u001b[0m\u001b[1;33m\u001b[0m\u001b[1;33m\u001b[0m\u001b[0m\n\u001b[0m\u001b[0;32m    269\u001b[0m         \u001b[1;32mif\u001b[0m \u001b[0mlen\u001b[0m\u001b[1;33m(\u001b[0m\u001b[0mline\u001b[0m\u001b[1;33m)\u001b[0m \u001b[1;33m>\u001b[0m \u001b[0m_MAXLINE\u001b[0m\u001b[1;33m:\u001b[0m\u001b[1;33m\u001b[0m\u001b[1;33m\u001b[0m\u001b[0m\n\u001b[0;32m    270\u001b[0m             \u001b[1;32mraise\u001b[0m \u001b[0mLineTooLong\u001b[0m\u001b[1;33m(\u001b[0m\u001b[1;34m\"status line\"\u001b[0m\u001b[1;33m)\u001b[0m\u001b[1;33m\u001b[0m\u001b[1;33m\u001b[0m\u001b[0m\n",
      "\u001b[1;32mc:\\python\\python38\\lib\\socket.py\u001b[0m in \u001b[0;36mreadinto\u001b[1;34m(self, b)\u001b[0m\n\u001b[0;32m    667\u001b[0m         \u001b[1;32mwhile\u001b[0m \u001b[1;32mTrue\u001b[0m\u001b[1;33m:\u001b[0m\u001b[1;33m\u001b[0m\u001b[1;33m\u001b[0m\u001b[0m\n\u001b[0;32m    668\u001b[0m             \u001b[1;32mtry\u001b[0m\u001b[1;33m:\u001b[0m\u001b[1;33m\u001b[0m\u001b[1;33m\u001b[0m\u001b[0m\n\u001b[1;32m--> 669\u001b[1;33m                 \u001b[1;32mreturn\u001b[0m \u001b[0mself\u001b[0m\u001b[1;33m.\u001b[0m\u001b[0m_sock\u001b[0m\u001b[1;33m.\u001b[0m\u001b[0mrecv_into\u001b[0m\u001b[1;33m(\u001b[0m\u001b[0mb\u001b[0m\u001b[1;33m)\u001b[0m\u001b[1;33m\u001b[0m\u001b[1;33m\u001b[0m\u001b[0m\n\u001b[0m\u001b[0;32m    670\u001b[0m             \u001b[1;32mexcept\u001b[0m \u001b[0mtimeout\u001b[0m\u001b[1;33m:\u001b[0m\u001b[1;33m\u001b[0m\u001b[1;33m\u001b[0m\u001b[0m\n\u001b[0;32m    671\u001b[0m                 \u001b[0mself\u001b[0m\u001b[1;33m.\u001b[0m\u001b[0m_timeout_occurred\u001b[0m \u001b[1;33m=\u001b[0m \u001b[1;32mTrue\u001b[0m\u001b[1;33m\u001b[0m\u001b[1;33m\u001b[0m\u001b[0m\n",
      "\u001b[1;31mKeyboardInterrupt\u001b[0m: "
     ]
    }
   ],
   "source": [
    "# The main dictionary\n",
    "all_info = {}\n",
    "all_info['DATA_ISSUES']=[]\n",
    "for url_issues in urls_issues[:3]:\n",
    "    driver.get(url_issues)\n",
    "    \n",
    "    # volumen y month \n",
    "    volumen = driver.find_element_by_xpath('//h2[contains(@class,\"issue\")]').text\n",
    "    volumen_extra = re.search(r'(?<=).*(?= No. )', volumen ) [0]\n",
    "    month = driver.find_element_by_xpath('//h2[contains(@class,\"issue\")]').text\n",
    "    month_extra = re.search(r'(?<= No. ).*(?=)', month  ) [0]\n",
    "    \n",
    "    print(volumen_extra)\n",
    "    print(month_extra)\n",
    "\n",
    "    paper = driver.find_element_by_class_name( \"journal-article-group\" )\n",
    "    links_paper = paper.find_elements_by_tag_name('a')\n",
    "    \n",
    "    urls_papers = []\n",
    "\n",
    "    for link_paper in links_paper [1:] :\n",
    "\n",
    "        urls_papers.append(link_paper.get_attribute('href'))\n",
    "        \n",
    "     \n",
    "    for url_paper in urls_papers:\n",
    "        driver.get(url_paper)\n",
    "        \n",
    "        page = {}\n",
    "        \n",
    "        #VOLUMEN \n",
    "        page['VOLUMEN'] = volumen_extra\n",
    "        \n",
    "        #MONTH\n",
    "        page['MONTH'] = month_extra\n",
    "        \n",
    "        #TITLE\n",
    "        try:\n",
    "            title =driver.find_element_by_xpath('/html/body/main/div/section/h1').text\n",
    "            print(title)\n",
    "        except:\n",
    "            title = \"NA\"\n",
    "\n",
    "        page['TITLE']= title\n",
    "            \n",
    "        \n",
    "        # AUTORES\n",
    "        try:  \n",
    "            autor = driver.find_element_by_class_name(\"attribution\" ).text\n",
    "            autores_extr = unidecode.unidecode( autor ).replace('\\n',',')\n",
    "            autores_extr_1 = re.search(r'^(?<=).*(?=,AMERICAN)', autores_extr )[0]\n",
    "            print( autores_extr_1 )\n",
    "\n",
    "        except :\n",
    "            autores_extr_1 =\"NA\"\n",
    "        \n",
    "        page['AUTORS'] = autores_extr_1\n",
    "\n",
    "        # ABSTRACT\n",
    "        try:\n",
    "            abstract = driver.find_element_by_xpath('//*[@id=\"article-information\"]/section[1]').text\n",
    "            abstract_extr = abstract.split(\"\\n\")\n",
    "            abstract_extr_1 = abstract_extr[1] \n",
    "            print(abstract_extr_1)\n",
    "        except :\n",
    "            abstract_extr_1 = \"NA\"\n",
    "        \n",
    "        page['ABSTRACT'] = abstract_extr_1 \n",
    "\n",
    "        # JEL Classification\n",
    "        try:\n",
    "            j_e_class = driver.find_element_by_xpath('//ul[@class=\"jel-codes\"]').text\n",
    "            j_e_class = unidecode.unidecode(j_e_class).replace('\\n',', ')\n",
    "            print(j_e_class)\n",
    "        except :\n",
    "            j_e_class = \"NA\"\n",
    "            \n",
    "        page['JEL_CLASIFFICATION'] = j_e_class\n",
    "            \n",
    "        \n",
    "        # DOI\n",
    "        \n",
    "        try:\n",
    "            \n",
    "            doi=driver.find_element_by_xpath('//span[@class=\"doi\"]').text\n",
    "        except :\n",
    "            doi = \"NA\"\n",
    "\n",
    "        page[\"DOI\"] = doi\n",
    "        \n",
    "\n",
    "        # PAGE FIRST\n",
    "        try:\n",
    "            \n",
    "            page_first = driver.find_element_by_xpath('//li[@class=\"pages\"]').text\n",
    "            page_first_extr = re.search(r'(?<=. ).*(?=-)', page_first)[0]\n",
    "            \n",
    "        except :\n",
    "            page_first = \"NA\"\n",
    "        \n",
    "        page['PAGE_FIRST'] = page_first_extr\n",
    "        \n",
    "\n",
    "        # PAGE END\n",
    "        try:\n",
    "            \n",
    "            page_end = driver.find_element_by_xpath('//li[@class=\"pages\"]').text\n",
    "            page_end_extr = re.search(r'(?<=.-).*(?=.)', page_end )[0]\n",
    "            \n",
    "            \n",
    "        except :\n",
    "            page_end = \"NA \"\n",
    "        \n",
    "        page['PAGE_END'] = page_end_extr\n",
    "        \n",
    "\n",
    "        # CITACION \n",
    "        try:\n",
    "            \n",
    "            citacion = driver.find_element_by_xpath('//section[@class=\"article-information citation\"]').text\n",
    "            citacion_extra = citacion.split(\"\\n\")\n",
    "            citacion_extra_1 = citacion_extra[1]\n",
    "        except :\n",
    "            citacion = \"NA\"\n",
    "        \n",
    "        page['CITACION'] = citacion_extra_1\n",
    "        \n",
    "        #Additional Materials\n",
    "        try : \n",
    "            additi_mate = driver.find_element_by_id(\"additionalMaterials\")\n",
    "            links_additional = additi_mate.find_elements_by_tag_name('a')\n",
    "\n",
    "            extra_info_value = \"\"\n",
    "            extra_info = { }\n",
    "            for link_additional in links_additional:\n",
    "\n",
    "                href = link_additional.get_attribute( 'href' )\n",
    "                text = link_additional.text\n",
    "                extra_info_value = f\"{text} : {href} \\n {extra_info_value}\" \n",
    "        except :\n",
    "            additi_mate = \"NA\"\n",
    "\n",
    "            \n",
    "        page['additional_materials'] = extra_info_value\n",
    "\n",
    "        all_info['DATA_ISSUES'].append( page )"
   ]
  },
  {
   "cell_type": "code",
   "execution_count": 8,
   "metadata": {},
   "outputs": [
    {
     "data": {
      "text/html": [
       "<div>\n",
       "<style scoped>\n",
       "    .dataframe tbody tr th:only-of-type {\n",
       "        vertical-align: middle;\n",
       "    }\n",
       "\n",
       "    .dataframe tbody tr th {\n",
       "        vertical-align: top;\n",
       "    }\n",
       "\n",
       "    .dataframe thead th {\n",
       "        text-align: right;\n",
       "    }\n",
       "</style>\n",
       "<table border=\"1\" class=\"dataframe\">\n",
       "  <thead>\n",
       "    <tr style=\"text-align: right;\">\n",
       "      <th></th>\n",
       "      <th>VOLUMEN</th>\n",
       "      <th>MONTH</th>\n",
       "      <th>TITLE</th>\n",
       "      <th>AUTORS</th>\n",
       "      <th>ABSTRACT</th>\n",
       "      <th>JEL_CLASIFFICATION</th>\n",
       "      <th>DOI</th>\n",
       "      <th>PAGE_FIRST</th>\n",
       "      <th>PAGE_END</th>\n",
       "      <th>CITACION</th>\n",
       "      <th>additional_materials</th>\n",
       "    </tr>\n",
       "  </thead>\n",
       "  <tbody>\n",
       "    <tr>\n",
       "      <th>0</th>\n",
       "      <td>Vol. 112</td>\n",
       "      <td>7 July 2022</td>\n",
       "      <td>Monopsony in the US Labor Market</td>\n",
       "      <td>Chen Yeh,Claudia Macaluso,Brad Hershbein</td>\n",
       "      <td>This paper quantifies employer market power in...</td>\n",
       "      <td>J24 Human Capital; Skills; Occupational Choice...</td>\n",
       "      <td>DOI: 10.1257/aer.20200025</td>\n",
       "      <td>2099</td>\n",
       "      <td>2138</td>\n",
       "      <td>Yeh, Chen, Claudia Macaluso, and Brad Hershbei...</td>\n",
       "      <td>Author Disclosure Statement(s) (267.64 KB) : h...</td>\n",
       "    </tr>\n",
       "    <tr>\n",
       "      <th>1</th>\n",
       "      <td>Vol. 112</td>\n",
       "      <td>7 July 2022</td>\n",
       "      <td>Productivity Shocks, Long-Term Contracts, and ...</td>\n",
       "      <td>Neele Balke,Thibaut Lamadon</td>\n",
       "      <td>This paper examines how employer- and worker-s...</td>\n",
       "      <td>D86 Economics of Contract: Theory, H23 Taxatio...</td>\n",
       "      <td>DOI: 10.1257/aer.20161622</td>\n",
       "      <td>2139</td>\n",
       "      <td>77</td>\n",
       "      <td>Balke, Neele, and Thibaut Lamadon. 2022. \"Prod...</td>\n",
       "      <td>Author Disclosure Statement(s) (61.76 KB) : ht...</td>\n",
       "    </tr>\n",
       "    <tr>\n",
       "      <th>2</th>\n",
       "      <td>Vol. 112</td>\n",
       "      <td>7 July 2022</td>\n",
       "      <td>Heterogeneous Global Booms and Busts</td>\n",
       "      <td>Maryam Farboodi,Peter Kondor</td>\n",
       "      <td>We investigate the heterogeneous boom and bust...</td>\n",
       "      <td>E21 Macroeconomics: Consumption; Saving; Wealt...</td>\n",
       "      <td>DOI: 10.1257/aer.20181830</td>\n",
       "      <td>2178</td>\n",
       "      <td>2212</td>\n",
       "      <td>Farboodi, Maryam, and Péter Kondor. 2022. \"Het...</td>\n",
       "      <td>Author Disclosure Statement(s) (977.42 KB) : h...</td>\n",
       "    </tr>\n",
       "    <tr>\n",
       "      <th>3</th>\n",
       "      <td>Vol. 112</td>\n",
       "      <td>7 July 2022</td>\n",
       "      <td>Using the Retail Distribution of Sellers to Im...</td>\n",
       "      <td>Alexis Antoniades,Robert C. Feenstra,Mingzhi (...</td>\n",
       "      <td>Many price indices must be constructed without...</td>\n",
       "      <td>E31 Price Level; Inflation; Deflation, L11 Pro...</td>\n",
       "      <td>DOI: 10.1257/aer.20190896</td>\n",
       "      <td>2213</td>\n",
       "      <td>36</td>\n",
       "      <td>Antoniades, Alexis, Robert C. Feenstra, and Mi...</td>\n",
       "      <td>Author Disclosure Statement(s) (226.67 KB) : h...</td>\n",
       "    </tr>\n",
       "    <tr>\n",
       "      <th>4</th>\n",
       "      <td>Vol. 112</td>\n",
       "      <td>7 July 2022</td>\n",
       "      <td>When Choices Are Mistakes</td>\n",
       "      <td>Kirby Nielsen,John Rehbeck</td>\n",
       "      <td>Using a laboratory experiment, we identify whe...</td>\n",
       "      <td>C91 Design of Experiments: Laboratory, Individ...</td>\n",
       "      <td>DOI: 10.1257/aer.20201550</td>\n",
       "      <td>2237</td>\n",
       "      <td>68</td>\n",
       "      <td>Nielsen, Kirby, and John Rehbeck. 2022. \"When ...</td>\n",
       "      <td>Author Disclosure Statement(s) (126.38 KB) : h...</td>\n",
       "    </tr>\n",
       "    <tr>\n",
       "      <th>5</th>\n",
       "      <td>Vol. 112</td>\n",
       "      <td>7 July 2022</td>\n",
       "      <td>Belief Distortions and Macroeconomic Fluctuations</td>\n",
       "      <td>Francesco Bianchi,Sydney C. Ludvigson,Sai Ma</td>\n",
       "      <td>This paper combines a data-rich environment wi...</td>\n",
       "      <td>C45 Neural Networks and Related Topics, D83 Se...</td>\n",
       "      <td>DOI: 10.1257/aer.20201713</td>\n",
       "      <td>2269</td>\n",
       "      <td>2315</td>\n",
       "      <td>Bianchi, Francesco, Sydney C. Ludvigson, and S...</td>\n",
       "      <td>Author Disclosure Statement(s) (15.27 KB) : ht...</td>\n",
       "    </tr>\n",
       "    <tr>\n",
       "      <th>6</th>\n",
       "      <td>Vol. 112</td>\n",
       "      <td>7 July 2022</td>\n",
       "      <td>Factor Market Failures and the Adoption of Irr...</td>\n",
       "      <td>Maria Jones,Florence Kondylis,John Loeser,Jere...</td>\n",
       "      <td>Factor market failures can limit adoption of p...</td>\n",
       "      <td>D24 Production; Cost; Capital; Capital, Total ...</td>\n",
       "      <td>DOI: 10.1257/aer.20210059</td>\n",
       "      <td>2316</td>\n",
       "      <td>52</td>\n",
       "      <td>Jones, Maria, Florence Kondylis, John Loeser, ...</td>\n",
       "      <td>Author Disclosure Statement(s) (465.72 KB) : h...</td>\n",
       "    </tr>\n",
       "    <tr>\n",
       "      <th>7</th>\n",
       "      <td>Vol. 112</td>\n",
       "      <td>7 July 2022</td>\n",
       "      <td>Monetary Policy with Opinionated Markets</td>\n",
       "      <td>Ricardo J. Caballero,Alp Simsek</td>\n",
       "      <td>We build a model in which the Fed and the mark...</td>\n",
       "      <td>D83 Search; Learning; Information and Knowledg...</td>\n",
       "      <td>DOI: 10.1257/aer.20210271</td>\n",
       "      <td>2353</td>\n",
       "      <td>92</td>\n",
       "      <td>Caballero, Ricardo J., and Alp Simsek. 2022. \"...</td>\n",
       "      <td>Author Disclosure Statement(s) (86.44 KB) : ht...</td>\n",
       "    </tr>\n",
       "    <tr>\n",
       "      <th>8</th>\n",
       "      <td>Vol. 112</td>\n",
       "      <td>7 July 2022</td>\n",
       "      <td>Estimating Spillovers from Publicly Funded R&amp;D...</td>\n",
       "      <td>Kyle R. Myers,Lauren Lanahan</td>\n",
       "      <td>We quantify the magnitude of R&amp;D spillovers cr...</td>\n",
       "      <td>H81 Governmental Loans; Loan Guarantees; Credi...</td>\n",
       "      <td>DOI: 10.1257/aer.20210678</td>\n",
       "      <td>2393</td>\n",
       "      <td>2423</td>\n",
       "      <td>Myers, Kyle R., and Lauren Lanahan. 2022. \"Est...</td>\n",
       "      <td>Author Disclosure Statement(s) (73.53 KB) : ht...</td>\n",
       "    </tr>\n",
       "    <tr>\n",
       "      <th>9</th>\n",
       "      <td>Vol. 112</td>\n",
       "      <td>7 July 2022</td>\n",
       "      <td>Digital Addiction</td>\n",
       "      <td>Hunt Allcott,Matthew Gentzkow,Lena Song</td>\n",
       "      <td>Many have argued that digital technologies suc...</td>\n",
       "      <td>D12 Consumer Economics: Empirical Analysis, D6...</td>\n",
       "      <td>DOI: 10.1257/aer.20210867</td>\n",
       "      <td>2424</td>\n",
       "      <td>63</td>\n",
       "      <td>Allcott, Hunt, Matthew Gentzkow, and Lena Song...</td>\n",
       "      <td>Author Disclosure Statement(s) (349.27 KB) : h...</td>\n",
       "    </tr>\n",
       "    <tr>\n",
       "      <th>10</th>\n",
       "      <td>Vol. 112</td>\n",
       "      <td>6 June 2022</td>\n",
       "      <td>Design-Based Research in Empirical Microeconomics</td>\n",
       "      <td>David Card</td>\n",
       "      <td>I briefly review the emergence of \"design-base...</td>\n",
       "      <td>C20 Single Equation Models; Single Variables: ...</td>\n",
       "      <td>DOI: 10.1257/aer.112.6.1773</td>\n",
       "      <td>1773</td>\n",
       "      <td>81</td>\n",
       "      <td>Card, David. 2022. \"Design-Based Research in E...</td>\n",
       "      <td>Author Disclosure Statement(s) (349.27 KB) : h...</td>\n",
       "    </tr>\n",
       "    <tr>\n",
       "      <th>11</th>\n",
       "      <td>Vol. 112</td>\n",
       "      <td>6 June 2022</td>\n",
       "      <td>The Welfare Effects of Peer Entry: The Case of...</td>\n",
       "      <td>Chiara Farronato,Andrey Fradkin</td>\n",
       "      <td>We study the welfare effects of enabling peer ...</td>\n",
       "      <td>L11 Production, Pricing, and Market Structure;...</td>\n",
       "      <td>DOI: 10.1257/aer.20180260</td>\n",
       "      <td>1782</td>\n",
       "      <td>1817</td>\n",
       "      <td>Farronato, Chiara, and Andrey Fradkin. 2022. \"...</td>\n",
       "      <td>Author Disclosure Statement(s) (66.33 KB) : ht...</td>\n",
       "    </tr>\n",
       "    <tr>\n",
       "      <th>12</th>\n",
       "      <td>Vol. 112</td>\n",
       "      <td>6 June 2022</td>\n",
       "      <td>Aggregating Distributional Treatment Effects: ...</td>\n",
       "      <td>Rachael Meager</td>\n",
       "      <td>Expanding credit access in developing contexts...</td>\n",
       "      <td>G21 Banks; Depository Institutions; Micro Fina...</td>\n",
       "      <td>DOI: 10.1257/aer.20181811</td>\n",
       "      <td>1818</td>\n",
       "      <td>47</td>\n",
       "      <td>Meager, Rachael. 2022. \"Aggregating Distributi...</td>\n",
       "      <td>Author Disclosure Statement(s) (60.98 KB) : ht...</td>\n",
       "    </tr>\n",
       "    <tr>\n",
       "      <th>13</th>\n",
       "      <td>Vol. 112</td>\n",
       "      <td>6 June 2022</td>\n",
       "      <td>Offshore Profit Shifting and Aggregate Measure...</td>\n",
       "      <td>Fatih Guvenen,Raymond J. Mataloni Jr.,Dylan G....</td>\n",
       "      <td>We show how offshore profit shifting by US mul...</td>\n",
       "      <td>E23 Macroeconomics: Production, E25 Aggregate ...</td>\n",
       "      <td>DOI: 10.1257/aer.20190285</td>\n",
       "      <td>1848</td>\n",
       "      <td>84</td>\n",
       "      <td>Guvenen, Fatih, Raymond J. Mataloni Jr., Dylan...</td>\n",
       "      <td>Author Disclosure Statement(s) (43.21 KB) : ht...</td>\n",
       "    </tr>\n",
       "    <tr>\n",
       "      <th>14</th>\n",
       "      <td>Vol. 112</td>\n",
       "      <td>6 June 2022</td>\n",
       "      <td>Migrants and Firms: Evidence from China</td>\n",
       "      <td>Clement Imbert,Marlon Seror,Yifan Zhang,Yanos ...</td>\n",
       "      <td>How does rural-urban migration shape urban pro...</td>\n",
       "      <td>D24 Production; Cost; Capital; Capital, Total ...</td>\n",
       "      <td>DOI: 10.1257/aer.20191234</td>\n",
       "      <td>1885</td>\n",
       "      <td>1914</td>\n",
       "      <td>Imbert, Clement, Marlon Seror, Yifan Zhang, an...</td>\n",
       "      <td>Author Disclosure Statement(s) (1.40 MB) : htt...</td>\n",
       "    </tr>\n",
       "  </tbody>\n",
       "</table>\n",
       "</div>"
      ],
      "text/plain": [
       "     VOLUMEN        MONTH                                              TITLE  \\\n",
       "0   Vol. 112  7 July 2022                   Monopsony in the US Labor Market   \n",
       "1   Vol. 112  7 July 2022  Productivity Shocks, Long-Term Contracts, and ...   \n",
       "2   Vol. 112  7 July 2022               Heterogeneous Global Booms and Busts   \n",
       "3   Vol. 112  7 July 2022  Using the Retail Distribution of Sellers to Im...   \n",
       "4   Vol. 112  7 July 2022                          When Choices Are Mistakes   \n",
       "5   Vol. 112  7 July 2022  Belief Distortions and Macroeconomic Fluctuations   \n",
       "6   Vol. 112  7 July 2022  Factor Market Failures and the Adoption of Irr...   \n",
       "7   Vol. 112  7 July 2022           Monetary Policy with Opinionated Markets   \n",
       "8   Vol. 112  7 July 2022  Estimating Spillovers from Publicly Funded R&D...   \n",
       "9   Vol. 112  7 July 2022                                  Digital Addiction   \n",
       "10  Vol. 112  6 June 2022  Design-Based Research in Empirical Microeconomics   \n",
       "11  Vol. 112  6 June 2022  The Welfare Effects of Peer Entry: The Case of...   \n",
       "12  Vol. 112  6 June 2022  Aggregating Distributional Treatment Effects: ...   \n",
       "13  Vol. 112  6 June 2022  Offshore Profit Shifting and Aggregate Measure...   \n",
       "14  Vol. 112  6 June 2022            Migrants and Firms: Evidence from China   \n",
       "\n",
       "                                               AUTORS  \\\n",
       "0            Chen Yeh,Claudia Macaluso,Brad Hershbein   \n",
       "1                         Neele Balke,Thibaut Lamadon   \n",
       "2                        Maryam Farboodi,Peter Kondor   \n",
       "3   Alexis Antoniades,Robert C. Feenstra,Mingzhi (...   \n",
       "4                          Kirby Nielsen,John Rehbeck   \n",
       "5        Francesco Bianchi,Sydney C. Ludvigson,Sai Ma   \n",
       "6   Maria Jones,Florence Kondylis,John Loeser,Jere...   \n",
       "7                     Ricardo J. Caballero,Alp Simsek   \n",
       "8                        Kyle R. Myers,Lauren Lanahan   \n",
       "9             Hunt Allcott,Matthew Gentzkow,Lena Song   \n",
       "10                                         David Card   \n",
       "11                    Chiara Farronato,Andrey Fradkin   \n",
       "12                                     Rachael Meager   \n",
       "13  Fatih Guvenen,Raymond J. Mataloni Jr.,Dylan G....   \n",
       "14  Clement Imbert,Marlon Seror,Yifan Zhang,Yanos ...   \n",
       "\n",
       "                                             ABSTRACT  \\\n",
       "0   This paper quantifies employer market power in...   \n",
       "1   This paper examines how employer- and worker-s...   \n",
       "2   We investigate the heterogeneous boom and bust...   \n",
       "3   Many price indices must be constructed without...   \n",
       "4   Using a laboratory experiment, we identify whe...   \n",
       "5   This paper combines a data-rich environment wi...   \n",
       "6   Factor market failures can limit adoption of p...   \n",
       "7   We build a model in which the Fed and the mark...   \n",
       "8   We quantify the magnitude of R&D spillovers cr...   \n",
       "9   Many have argued that digital technologies suc...   \n",
       "10  I briefly review the emergence of \"design-base...   \n",
       "11  We study the welfare effects of enabling peer ...   \n",
       "12  Expanding credit access in developing contexts...   \n",
       "13  We show how offshore profit shifting by US mul...   \n",
       "14  How does rural-urban migration shape urban pro...   \n",
       "\n",
       "                                   JEL_CLASIFFICATION  \\\n",
       "0   J24 Human Capital; Skills; Occupational Choice...   \n",
       "1   D86 Economics of Contract: Theory, H23 Taxatio...   \n",
       "2   E21 Macroeconomics: Consumption; Saving; Wealt...   \n",
       "3   E31 Price Level; Inflation; Deflation, L11 Pro...   \n",
       "4   C91 Design of Experiments: Laboratory, Individ...   \n",
       "5   C45 Neural Networks and Related Topics, D83 Se...   \n",
       "6   D24 Production; Cost; Capital; Capital, Total ...   \n",
       "7   D83 Search; Learning; Information and Knowledg...   \n",
       "8   H81 Governmental Loans; Loan Guarantees; Credi...   \n",
       "9   D12 Consumer Economics: Empirical Analysis, D6...   \n",
       "10  C20 Single Equation Models; Single Variables: ...   \n",
       "11  L11 Production, Pricing, and Market Structure;...   \n",
       "12  G21 Banks; Depository Institutions; Micro Fina...   \n",
       "13  E23 Macroeconomics: Production, E25 Aggregate ...   \n",
       "14  D24 Production; Cost; Capital; Capital, Total ...   \n",
       "\n",
       "                            DOI PAGE_FIRST PAGE_END  \\\n",
       "0     DOI: 10.1257/aer.20200025       2099     2138   \n",
       "1     DOI: 10.1257/aer.20161622       2139       77   \n",
       "2     DOI: 10.1257/aer.20181830       2178     2212   \n",
       "3     DOI: 10.1257/aer.20190896       2213       36   \n",
       "4     DOI: 10.1257/aer.20201550       2237       68   \n",
       "5     DOI: 10.1257/aer.20201713       2269     2315   \n",
       "6     DOI: 10.1257/aer.20210059       2316       52   \n",
       "7     DOI: 10.1257/aer.20210271       2353       92   \n",
       "8     DOI: 10.1257/aer.20210678       2393     2423   \n",
       "9     DOI: 10.1257/aer.20210867       2424       63   \n",
       "10  DOI: 10.1257/aer.112.6.1773       1773       81   \n",
       "11    DOI: 10.1257/aer.20180260       1782     1817   \n",
       "12    DOI: 10.1257/aer.20181811       1818       47   \n",
       "13    DOI: 10.1257/aer.20190285       1848       84   \n",
       "14    DOI: 10.1257/aer.20191234       1885     1914   \n",
       "\n",
       "                                             CITACION  \\\n",
       "0   Yeh, Chen, Claudia Macaluso, and Brad Hershbei...   \n",
       "1   Balke, Neele, and Thibaut Lamadon. 2022. \"Prod...   \n",
       "2   Farboodi, Maryam, and Péter Kondor. 2022. \"Het...   \n",
       "3   Antoniades, Alexis, Robert C. Feenstra, and Mi...   \n",
       "4   Nielsen, Kirby, and John Rehbeck. 2022. \"When ...   \n",
       "5   Bianchi, Francesco, Sydney C. Ludvigson, and S...   \n",
       "6   Jones, Maria, Florence Kondylis, John Loeser, ...   \n",
       "7   Caballero, Ricardo J., and Alp Simsek. 2022. \"...   \n",
       "8   Myers, Kyle R., and Lauren Lanahan. 2022. \"Est...   \n",
       "9   Allcott, Hunt, Matthew Gentzkow, and Lena Song...   \n",
       "10  Card, David. 2022. \"Design-Based Research in E...   \n",
       "11  Farronato, Chiara, and Andrey Fradkin. 2022. \"...   \n",
       "12  Meager, Rachael. 2022. \"Aggregating Distributi...   \n",
       "13  Guvenen, Fatih, Raymond J. Mataloni Jr., Dylan...   \n",
       "14  Imbert, Clement, Marlon Seror, Yifan Zhang, an...   \n",
       "\n",
       "                                 additional_materials  \n",
       "0   Author Disclosure Statement(s) (267.64 KB) : h...  \n",
       "1   Author Disclosure Statement(s) (61.76 KB) : ht...  \n",
       "2   Author Disclosure Statement(s) (977.42 KB) : h...  \n",
       "3   Author Disclosure Statement(s) (226.67 KB) : h...  \n",
       "4   Author Disclosure Statement(s) (126.38 KB) : h...  \n",
       "5   Author Disclosure Statement(s) (15.27 KB) : ht...  \n",
       "6   Author Disclosure Statement(s) (465.72 KB) : h...  \n",
       "7   Author Disclosure Statement(s) (86.44 KB) : ht...  \n",
       "8   Author Disclosure Statement(s) (73.53 KB) : ht...  \n",
       "9   Author Disclosure Statement(s) (349.27 KB) : h...  \n",
       "10  Author Disclosure Statement(s) (349.27 KB) : h...  \n",
       "11  Author Disclosure Statement(s) (66.33 KB) : ht...  \n",
       "12  Author Disclosure Statement(s) (60.98 KB) : ht...  \n",
       "13  Author Disclosure Statement(s) (43.21 KB) : ht...  \n",
       "14  Author Disclosure Statement(s) (1.40 MB) : htt...  "
      ]
     },
     "execution_count": 8,
     "metadata": {},
     "output_type": "execute_result"
    }
   ],
   "source": [
    "data = json_normalize(all_info['DATA_ISSUES'])\n",
    "data"
   ]
  },
  {
   "cell_type": "code",
   "execution_count": 19,
   "metadata": {},
   "outputs": [],
   "source": [
    "data.to_excel(r'datos_americam.xlsx')"
   ]
  }
 ],
 "metadata": {
  "hide_input": false,
  "kernelspec": {
   "display_name": "Python 3",
   "language": "python",
   "name": "python3"
  },
  "language_info": {
   "codemirror_mode": {
    "name": "ipython",
    "version": 3
   },
   "file_extension": ".py",
   "mimetype": "text/x-python",
   "name": "python",
   "nbconvert_exporter": "python",
   "pygments_lexer": "ipython3",
   "version": "3.8.6"
  },
  "toc": {
   "base_numbering": 1,
   "nav_menu": {},
   "number_sections": true,
   "sideBar": true,
   "skip_h1_title": false,
   "title_cell": "Table of Contents",
   "title_sidebar": "Contents",
   "toc_cell": false,
   "toc_position": {},
   "toc_section_display": true,
   "toc_window_display": false
  }
 },
 "nbformat": 4,
 "nbformat_minor": 5
}

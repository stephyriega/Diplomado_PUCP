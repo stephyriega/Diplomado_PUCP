{
 "cells": [
  {
   "cell_type": "markdown",
   "id": "5c831221",
   "metadata": {},
   "source": [
    "### Assigment 6"
   ]
  },
  {
   "cell_type": "code",
   "execution_count": null,
   "id": "639c2686",
   "metadata": {},
   "outputs": [],
   "source": [
    "import pickle\n",
    "import pandas as pd\n",
    "import numpy as np"
   ]
  }
 ],
 "metadata": {
  "kernelspec": {
   "display_name": "Python 3",
   "language": "python",
   "name": "python3"
  },
  "language_info": {
   "codemirror_mode": {
    "name": "ipython",
    "version": 3
   },
   "file_extension": ".py",
   "mimetype": "text/x-python",
   "name": "python",
   "nbconvert_exporter": "python",
   "pygments_lexer": "ipython3",
   "version": "3.8.8"
  }
 },
 "nbformat": 4,
 "nbformat_minor": 5
}

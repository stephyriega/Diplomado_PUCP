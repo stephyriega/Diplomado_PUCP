{
 "cells": [
  {
   "cell_type": "code",
   "execution_count": null,
   "id": "b34e32f6",
   "metadata": {},
   "outputs": [],
   "source": [
    "from selenium import webdriver\n",
    "from webdriver_manager.chrome import ChromeDriverManager\n",
    "from selenium.webdriver.support.ui import Select\n",
    "from selenium.webdriver.common.by import By"
   ]
  },
  {
   "cell_type": "code",
   "execution_count": 9,
   "id": "cb11f6ec",
   "metadata": {},
   "outputs": [],
   "source": [
    "#Packages\n",
    "import pandas as pd\n",
    "import os\n",
    "import urllib.request, json, csv\n",
    "import json\n",
    "import pprint\n",
    "import time\n",
    "import numpy as np\n",
    "import re\n",
    "import requests\n",
    "from tqdm import tqdm_notebook as tqdm\n",
    "import datetime\n",
    "import unicodedata\n",
    "import time\n",
    "import requests\n",
    "import chardet\n",
    "from datetime import datetime"
   ]
  },
  {
   "cell_type": "code",
   "execution_count": 10,
   "id": "e7a2f5f8",
   "metadata": {},
   "outputs": [],
   "source": [
    "url = 'https://www.sunedu.gob.pe/lista-universidades/'"
   ]
  },
  {
   "cell_type": "code",
   "execution_count": 11,
   "id": "c481b388",
   "metadata": {},
   "outputs": [
    {
     "name": "stderr",
     "output_type": "stream",
     "text": [
      "\n",
      "\n",
      "====== WebDriver manager ======\n",
      "Current google-chrome version is 97.0.4692\n",
      "Get LATEST chromedriver version for 97.0.4692 google-chrome\n",
      "Driver [C:\\Users\\susan\\.wdm\\drivers\\chromedriver\\win32\\97.0.4692.71\\chromedriver.exe] found in cache\n",
      "<ipython-input-11-c026f0c15647>:1: DeprecationWarning: executable_path has been deprecated, please pass in a Service object\n",
      "  driver = webdriver.Chrome(ChromeDriverManager().install())\n"
     ]
    }
   ],
   "source": [
    "driver = webdriver.Chrome(ChromeDriverManager().install())"
   ]
  },
  {
   "cell_type": "code",
   "execution_count": 13,
   "id": "513191da",
   "metadata": {},
   "outputs": [],
   "source": [
    "driver.get(url)\n",
    "driver.maximize_window()"
   ]
  },
  {
   "cell_type": "code",
   "execution_count": 15,
   "id": "3812c5c9",
   "metadata": {},
   "outputs": [],
   "source": [
    "univ_publicas = driver.find_element(By.XPATH, '/html/body/div[1]/div[3]/div/div/div[1]/div/div/div/div[1]/ul/li[1]/a')\n",
    "univ_publicas.click()"
   ]
  },
  {
   "cell_type": "code",
   "execution_count": 16,
   "id": "68054ca5",
   "metadata": {},
   "outputs": [
    {
     "name": "stdout",
     "output_type": "stream",
     "text": [
      "<selenium.webdriver.remote.webelement.WebElement (session=\"4be2d26bb257d0fc5569809d531e1b42\", element=\"0cc0de2f-568d-47d0-a405-6f324095259f\")>\n"
     ]
    }
   ],
   "source": [
    "print (univ_publicas)"
   ]
  },
  {
   "cell_type": "code",
   "execution_count": 18,
   "id": "00ec746b",
   "metadata": {},
   "outputs": [],
   "source": [
    "Tabla1 = driver.find_element(By.XPATH, '/html/body/div[1]/div[3]/div/div/div[1]/div/div/div/div[1]/div/div[1]/div')\n",
    "Tabla1_html = Tabla1.get_attribute('innerHTML')"
   ]
  },
  {
   "cell_type": "code",
   "execution_count": 24,
   "id": "8b353714",
   "metadata": {},
   "outputs": [],
   "source": [
    "Tabla_1 = pd.read_html( Tabla1_html )\n"
   ]
  },
  {
   "cell_type": "code",
   "execution_count": 23,
   "id": "fe925cbf",
   "metadata": {},
   "outputs": [],
   "source": [
    "univ_privadas = driver.find_element(By.XPATH, '/html/body/div[1]/div[3]/div/div/div[1]/div/div/div/div[1]/ul/li[2]/a')\n",
    "univ_privadas.click()"
   ]
  },
  {
   "cell_type": "code",
   "execution_count": 25,
   "id": "bcb4151e",
   "metadata": {},
   "outputs": [],
   "source": [
    "Tabla2 = driver.find_element(By.XPATH, '/html/body/div[1]/div[3]/div/div/div[1]/div/div/div/div[1]/div/div[2]/div')\n",
    "Tabla2_html = Tabla2.get_attribute('innerHTML')"
   ]
  },
  {
   "cell_type": "code",
   "execution_count": 27,
   "id": "3e02b490",
   "metadata": {},
   "outputs": [],
   "source": [
    "Tabla_2 = pd.read_html( Tabla2_html )"
   ]
  },
  {
   "cell_type": "code",
   "execution_count": null,
   "id": "09604a32",
   "metadata": {},
   "outputs": [],
   "source": []
  }
 ],
 "metadata": {
  "kernelspec": {
   "display_name": "Python 3",
   "language": "python",
   "name": "python3"
  },
  "language_info": {
   "codemirror_mode": {
    "name": "ipython",
    "version": 3
   },
   "file_extension": ".py",
   "mimetype": "text/x-python",
   "name": "python",
   "nbconvert_exporter": "python",
   "pygments_lexer": "ipython3",
   "version": "3.8.8"
  }
 },
 "nbformat": 4,
 "nbformat_minor": 5
}

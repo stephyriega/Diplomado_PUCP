{
 "cells": [
  {
   "cell_type": "markdown",
   "metadata": {},
   "source": [
    "# 8.2 Twitter API"
   ]
  },
  {
   "cell_type": "markdown",
   "metadata": {},
   "source": [
    "- <a href='#8.1.'>8.1. Generate Twitter API Key</a>\n",
    "- <a href='#8.2.'>8.2. Tweepy </a> \n",
    "     - <a href='#8.2.1.'>8.2.1. Get tweets in a date range </a> \n",
    "- <a href='#8.3.'>8.3. Request tweet </a>  \n",
    "     - <a href='#8.3.1.'>8.3.1. Getting ID of username - jmwooldridge</a> \n",
    "     - <a href='#8.3.2.'>Getting Tweets Timeline - jmwooldridge</a> \n",
    "- <a href='#8.4.'>8.4. References</a>  "
   ]
  },
  {
   "cell_type": "code",
   "execution_count": 2,
   "metadata": {},
   "outputs": [],
   "source": [
    "# For sending GET requests from the API\n",
    "import requests\n",
    "# For saving access tokens and for file management when creating and adding to the dataset\n",
    "import os\n",
    "# For dealing with json responses we receive from the API\n",
    "import json\n",
    "# For displaying the data after\n",
    "import pandas as pd\n",
    "# For saving the response data in CSV format\n",
    "import csv\n",
    "# For parsing the dates received from twitter in readable formats\n",
    "import datetime\n",
    "import dateutil.parser\n",
    "import unicodedata\n",
    "#To add wait time between requests\n",
    "import time"
   ]
  },
  {
   "cell_type": "markdown",
   "metadata": {},
   "source": [
    "## <a id='8.1.'>8.1. Generate Twitter API Key</a>"
   ]
  },
  {
   "cell_type": "markdown",
   "metadata": {},
   "source": [
    "All you need to do is create a project and connect an App through the developer portal and we are set to go!\n",
    "\n",
    "1. Go to the developer [portal dashboard](https://developer.twitter.com/en/portal/dashboard).\n",
    "2. Sign in with your developer account.\n",
    "3. Create a new project, give it a name, a use-case based on the goal you want to achieve, and a description.\n",
    "<img src=\"../_images/1_twitter.png\" />\n",
    "\n",
    "4. Assuming this is your first time, choose ‘create a new App instead’ and give your App a name in order to create a new App.\n",
    "<img src=\"../_images/2_twitter.png\" />\n",
    "\n",
    "5. If everything is successful, you should be able to see this page containing your keys and tokens, we will use one of these to access the API.\n",
    "<img src=\"../_images/3_twitter.png\" />"
   ]
  },
  {
   "cell_type": "markdown",
   "metadata": {},
   "source": [
    "### <a id='8.2.'>8.2. Tweepy </a> "
   ]
  },
  {
   "cell_type": "code",
   "execution_count": 4,
   "metadata": {},
   "outputs": [],
   "source": [
    "import tweepy\n",
    "consumer_key = \"Rr3sWjlZW6bdDlL2pRf1pbtia\"\n",
    "consumer_secret = \"mxhZpvR8BX96Sd347oCcNRDDjpdwHVxItwWE28ahKpiuQgvRe4\"\n",
    "auth = tweepy.OAuthHandler( consumer_key, consumer_secret )\n",
    "\n",
    "access_token = \"1270850339223343105-DLleC3HxuR45fyVJOJHsQ5YEaXv8kO\"\n",
    "access_token_secret = \"lNJ1iQVmHJIw0QZHaC19svWk2GbCthmzhsk4jXaVStmcM\"\n",
    "auth.set_access_token( access_token, access_token_secret )\n",
    "\n",
    "api = tweepy.API(auth)"
   ]
  },
  {
   "cell_type": "markdown",
   "metadata": {},
   "source": [
    "Get Timeline of user"
   ]
  },
  {
   "cell_type": "code",
   "execution_count": 43,
   "metadata": {},
   "outputs": [
    {
     "name": "stdout",
     "output_type": "stream",
     "text": [
      "I've been liking the app Obsidian to jot down ideas/notes/etc. I find it's also becoming a useful informal lab note… https://t.co/M4UzhfpS6N\n",
      "Sorry ICML area chairs my head got eaten by a lion so I can't write my reviews https://t.co/U5csOThPec\n",
      "Wasn’t that your wrestling gimmick ⁦@DaveDuFourNBA⁩? https://t.co/oqYhV6jsi3\n",
      "US educational institutions are mostly asset management firms with amateur sports program attached to them. https://t.co/7h9Y90gmMj\n",
      "@Cris_J_M @MovilidadJDV El objeto de estudio de la sociología es la acción social. Las hay de 4 tipos: la acción ra… https://t.co/gg6oXOgplm\n",
      "RT @CincinnatiZoo: Happy World Hippo Day! 🦛 Here's a look at everyone's favorite bloat: Fiona, Fritz, Bibi &amp; Tucker! https://t.co/STnqd5wkIM\n",
      "RT @larepublica_pe: 🚨 Gremio de universidades nacionales desconoce a Manuel Castillo como superintendente de la Sunedu\n",
      "\n",
      "Asociación de Unive…\n",
      "RT @BlancheMinerva: There's a lot of misinfo about this out there, so here's the definitive list of the largest open source LLMs in the wor…\n",
      "RT @Trajinante1987: #EnVivo | Inicia la caminata por Ventanilla, Pachacutec en rechazo a la dictadura cívico militar que tiene el control d…\n",
      "RT @PClimatologia: Interesante.\n",
      "\n",
      "Siempre nos sorprende @dr_xeo con sus gráficas.\n",
      "Hydro-Quebec, Canada’s largest hydroelectric utility, posted a record $3.4 billion profit last year after selling p… https://t.co/JtJMxaRMvY\n",
      "Interesting conversation ongoing about ag input/service … #PurdueFarmMgt https://t.co/lo6AetCjgS\n",
      "This paragraph is a clear description of a dynamic monopsony model.\n",
      "RT @yonhy_lescano: Este gobierno desleal, intolerante y torpe se pelea con otros gobernantes, se hace el tonto, dice que no puede cerrar el…\n",
      "'Please,' cried Frog, 'please go away!' But no one went away.\n",
      "Beware the Ides of March. https://t.co/rEpjPzgMah\n",
      "#PurdueFarmMgt pertinent to our class module on farm stress and mental health https://t.co/HG9Xp3VgYW\n",
      "The ideas that firms have *wage policies* leading to different pay for similar workers used to be in econ textbooks… https://t.co/OvlnAUzLnj\n",
      "RT @BrennpunktUA: General A.D. #Vad lügt bei #b2502 unverfroren. Er behauptet, der U.S. Generalstabschef #Milley würde seine eigene Einschä…\n",
      "So I was off Twitter, getting some actual work done, and only recently learned that there's suddenly a popular theo… https://t.co/jUvgTeEC2h\n"
     ]
    }
   ],
   "source": [
    "# Get Timeline\n",
    "public_tweets = api.home_timeline()\n",
    "for tweet in public_tweets:\n",
    "    print( tweet.text )"
   ]
  },
  {
   "cell_type": "markdown",
   "metadata": {},
   "source": [
    "Getting tweets from [Judea Pearl](https://twitter.com/yudapearl)."
   ]
  },
  {
   "cell_type": "code",
   "execution_count": 6,
   "metadata": {},
   "outputs": [],
   "source": [
    "userID = \"yudapearl\""
   ]
  },
  {
   "cell_type": "code",
   "execution_count": 45,
   "metadata": {},
   "outputs": [],
   "source": [
    "# Set uttils\n",
    "auth = tweepy.OAuthHandler(consumer_key, consumer_secret)\n",
    "auth.set_access_token(access_token, access_token_secret)\n",
    "\n",
    "# Set API\n",
    "api = tweepy.API(auth)\n",
    "\n",
    "# Get Tweets\n",
    "tweets_bi = api.user_timeline(screen_name = userID, \n",
    "                           # 200 is the maximum allowed count\n",
    "                           count = 100,\n",
    "                           include_rts = False,\n",
    "                           # Necessary to keep full_text \n",
    "                           # otherwise only the first 140 words are extracted\n",
    "                           tweet_mode = 'extended'\n",
    "                           )"
   ]
  },
  {
   "cell_type": "code",
   "execution_count": 46,
   "metadata": {},
   "outputs": [
    {
     "name": "stdout",
     "output_type": "stream",
     "text": [
      "1629587274651537410\n",
      "2023-02-25 21:00:57\n",
      "I bet there are many carefully conducted observational studies where, lacking causal models, researchers were unable to decide what factors need adjustments in order to obtain an unbiased estimates of causal effects.\n",
      "Time for modern re-analyses of precious data. https://t.co/H9AnXsaZIB\n"
     ]
    }
   ],
   "source": [
    "print( tweets_bi[0].id )\n",
    "print( tweets_bi[0].created_at )\n",
    "print( tweets_bi[0].full_text )"
   ]
  },
  {
   "cell_type": "code",
   "execution_count": 47,
   "metadata": {},
   "outputs": [
    {
     "name": "stdout",
     "output_type": "stream",
     "text": [
      "ID: 1629587274651537410\n",
      "2023-02-25 21:00:57\n",
      "I bet there are many carefully conducted observational studies where, lacking causal models, researchers were unable to decide what factors need adjustments in order to obtain an unbiased estimates of causal effects.\n",
      "Time for modern re-analyses of precious data. https://t.co/H9AnXsaZIB\n",
      "\n",
      "\n",
      "ID: 1629583134990958592\n",
      "2023-02-25 20:44:30\n",
      "This is an opportunity for the CUNY community to expose Saly Abd Alla ,disqualifications by focusing on her Zionophobic racism, rather than falling into the antisemitic rabbit hole. Focus, focus, focus. https://t.co/1hgjAF7bvI\n",
      "\n",
      "\n",
      "ID: 1629457161473650688\n",
      "2023-02-25 12:23:55\n",
      "America has changed, Mr. Ambassador. How can it be that Berkeley Law School would proclaim Zionist speakers unwanted, and CUNY's President would designate a BDS activist to head \"diversity and inclusion\"?\n",
      "America has changed. https://t.co/8l4FxYaJXa\n",
      "\n",
      "\n"
     ]
    }
   ],
   "source": [
    "for info in tweets_bi[:3]:\n",
    "     print(\"ID: {}\".format(info.id))\n",
    "     print(info.created_at)\n",
    "     print(info.full_text)\n",
    "     print(\"\\n\")"
   ]
  },
  {
   "cell_type": "code",
   "execution_count": 48,
   "metadata": {},
   "outputs": [
    {
     "data": {
      "text/plain": [
       "'I bet there are many carefully conducted observational studies where, lacking causal models, researchers were unable to decide what factors need adjustments in order to obtain an unbiased estimates of causal effects.\\nTime for modern re-analyses of precious data. https://t.co/H9AnXsaZIB'"
      ]
     },
     "execution_count": 48,
     "metadata": {},
     "output_type": "execute_result"
    }
   ],
   "source": [
    "tweets_bi[0].full_text"
   ]
  },
  {
   "cell_type": "code",
   "execution_count": 49,
   "metadata": {},
   "outputs": [
    {
     "data": {
      "text/html": [
       "<div>\n",
       "<style scoped>\n",
       "    .dataframe tbody tr th:only-of-type {\n",
       "        vertical-align: middle;\n",
       "    }\n",
       "\n",
       "    .dataframe tbody tr th {\n",
       "        vertical-align: top;\n",
       "    }\n",
       "\n",
       "    .dataframe thead th {\n",
       "        text-align: right;\n",
       "    }\n",
       "</style>\n",
       "<table border=\"1\" class=\"dataframe\">\n",
       "  <thead>\n",
       "    <tr style=\"text-align: right;\">\n",
       "      <th></th>\n",
       "      <th>id</th>\n",
       "      <th>created_at</th>\n",
       "      <th>favorite_count</th>\n",
       "      <th>retweet_count</th>\n",
       "      <th>text</th>\n",
       "    </tr>\n",
       "  </thead>\n",
       "  <tbody>\n",
       "    <tr>\n",
       "      <th>0</th>\n",
       "      <td>1629587274651537410</td>\n",
       "      <td>2023-02-25 21:00:57</td>\n",
       "      <td>6</td>\n",
       "      <td>1</td>\n",
       "      <td>I bet there are many carefully conducted obser...</td>\n",
       "    </tr>\n",
       "    <tr>\n",
       "      <th>1</th>\n",
       "      <td>1629583134990958592</td>\n",
       "      <td>2023-02-25 20:44:30</td>\n",
       "      <td>1</td>\n",
       "      <td>2</td>\n",
       "      <td>This is an opportunity for the CUNY community ...</td>\n",
       "    </tr>\n",
       "    <tr>\n",
       "      <th>2</th>\n",
       "      <td>1629457161473650688</td>\n",
       "      <td>2023-02-25 12:23:55</td>\n",
       "      <td>121</td>\n",
       "      <td>41</td>\n",
       "      <td>America has changed, Mr. Ambassador. How can i...</td>\n",
       "    </tr>\n",
       "  </tbody>\n",
       "</table>\n",
       "</div>"
      ],
      "text/plain": [
       "                    id          created_at  favorite_count  retweet_count  \\\n",
       "0  1629587274651537410 2023-02-25 21:00:57               6              1   \n",
       "1  1629583134990958592 2023-02-25 20:44:30               1              2   \n",
       "2  1629457161473650688 2023-02-25 12:23:55             121             41   \n",
       "\n",
       "                                                text  \n",
       "0  I bet there are many carefully conducted obser...  \n",
       "1  This is an opportunity for the CUNY community ...  \n",
       "2  America has changed, Mr. Ambassador. How can i...  "
      ]
     },
     "execution_count": 49,
     "metadata": {},
     "output_type": "execute_result"
    }
   ],
   "source": [
    "from pandas import DataFrame\n",
    "outtweets = [[tweet.id_str, \n",
    "              tweet.created_at, \n",
    "              tweet.favorite_count, \n",
    "              tweet.retweet_count, \n",
    "              tweet.full_text.encode(\"utf-8\").decode(\"utf-8\")] \n",
    "             for idx,tweet in enumerate(tweets_bi)]\n",
    "df = DataFrame(outtweets,columns=[\"id\",\"created_at\",\"favorite_count\",\"retweet_count\", \"text\"])\n",
    "df.to_csv( f'{userID}_tweets.csv', index = False )\n",
    "df.head(3)"
   ]
  },
  {
   "cell_type": "code",
   "execution_count": 50,
   "metadata": {},
   "outputs": [
    {
     "data": {
      "text/html": [
       "<div>\n",
       "<style scoped>\n",
       "    .dataframe tbody tr th:only-of-type {\n",
       "        vertical-align: middle;\n",
       "    }\n",
       "\n",
       "    .dataframe tbody tr th {\n",
       "        vertical-align: top;\n",
       "    }\n",
       "\n",
       "    .dataframe thead th {\n",
       "        text-align: right;\n",
       "    }\n",
       "</style>\n",
       "<table border=\"1\" class=\"dataframe\">\n",
       "  <thead>\n",
       "    <tr style=\"text-align: right;\">\n",
       "      <th></th>\n",
       "      <th>id</th>\n",
       "      <th>created_at</th>\n",
       "      <th>favorite_count</th>\n",
       "      <th>retweet_count</th>\n",
       "      <th>text</th>\n",
       "    </tr>\n",
       "  </thead>\n",
       "  <tbody>\n",
       "    <tr>\n",
       "      <th>0</th>\n",
       "      <td>1629587274651537410</td>\n",
       "      <td>2023-02-25 21:00:57</td>\n",
       "      <td>6</td>\n",
       "      <td>1</td>\n",
       "      <td>I bet there are many carefully conducted obser...</td>\n",
       "    </tr>\n",
       "    <tr>\n",
       "      <th>1</th>\n",
       "      <td>1629583134990958592</td>\n",
       "      <td>2023-02-25 20:44:30</td>\n",
       "      <td>1</td>\n",
       "      <td>2</td>\n",
       "      <td>This is an opportunity for the CUNY community ...</td>\n",
       "    </tr>\n",
       "    <tr>\n",
       "      <th>2</th>\n",
       "      <td>1629457161473650688</td>\n",
       "      <td>2023-02-25 12:23:55</td>\n",
       "      <td>121</td>\n",
       "      <td>41</td>\n",
       "      <td>America has changed, Mr. Ambassador. How can i...</td>\n",
       "    </tr>\n",
       "    <tr>\n",
       "      <th>3</th>\n",
       "      <td>1629451136053944322</td>\n",
       "      <td>2023-02-25 11:59:59</td>\n",
       "      <td>39</td>\n",
       "      <td>3</td>\n",
       "      <td>Sparks of light can be seen even on this \"Day ...</td>\n",
       "    </tr>\n",
       "    <tr>\n",
       "      <th>4</th>\n",
       "      <td>1629447735756881920</td>\n",
       "      <td>2023-02-25 11:46:28</td>\n",
       "      <td>5</td>\n",
       "      <td>3</td>\n",
       "      <td>Another nice feature of the @soboleffspaces - ...</td>\n",
       "    </tr>\n",
       "    <tr>\n",
       "      <th>...</th>\n",
       "      <td>...</td>\n",
       "      <td>...</td>\n",
       "      <td>...</td>\n",
       "      <td>...</td>\n",
       "      <td>...</td>\n",
       "    </tr>\n",
       "    <tr>\n",
       "      <th>83</th>\n",
       "      <td>1627636460487872513</td>\n",
       "      <td>2023-02-20 11:49:06</td>\n",
       "      <td>2</td>\n",
       "      <td>0</td>\n",
       "      <td>@HL327 @stephensenn @f2harrell @AngeloDalli @R...</td>\n",
       "    </tr>\n",
       "    <tr>\n",
       "      <th>84</th>\n",
       "      <td>1627610213565222916</td>\n",
       "      <td>2023-02-20 10:04:49</td>\n",
       "      <td>0</td>\n",
       "      <td>0</td>\n",
       "      <td>@HL327 @stephensenn @f2harrell @AngeloDalli @R...</td>\n",
       "    </tr>\n",
       "    <tr>\n",
       "      <th>85</th>\n",
       "      <td>1627577912462561282</td>\n",
       "      <td>2023-02-20 07:56:27</td>\n",
       "      <td>2</td>\n",
       "      <td>0</td>\n",
       "      <td>@stephensenn @HL327 @f2harrell @AngeloDalli @R...</td>\n",
       "    </tr>\n",
       "    <tr>\n",
       "      <th>86</th>\n",
       "      <td>1627571557186048000</td>\n",
       "      <td>2023-02-20 07:31:12</td>\n",
       "      <td>2</td>\n",
       "      <td>0</td>\n",
       "      <td>@sim0ngates @f2harrell @HL327 @stephensenn @An...</td>\n",
       "    </tr>\n",
       "    <tr>\n",
       "      <th>87</th>\n",
       "      <td>1627399456999235584</td>\n",
       "      <td>2023-02-19 20:07:20</td>\n",
       "      <td>0</td>\n",
       "      <td>0</td>\n",
       "      <td>@heckerma1 @PSpirtes I got a broken link, can ...</td>\n",
       "    </tr>\n",
       "  </tbody>\n",
       "</table>\n",
       "<p>88 rows × 5 columns</p>\n",
       "</div>"
      ],
      "text/plain": [
       "                     id          created_at  favorite_count  retweet_count  \\\n",
       "0   1629587274651537410 2023-02-25 21:00:57               6              1   \n",
       "1   1629583134990958592 2023-02-25 20:44:30               1              2   \n",
       "2   1629457161473650688 2023-02-25 12:23:55             121             41   \n",
       "3   1629451136053944322 2023-02-25 11:59:59              39              3   \n",
       "4   1629447735756881920 2023-02-25 11:46:28               5              3   \n",
       "..                  ...                 ...             ...            ...   \n",
       "83  1627636460487872513 2023-02-20 11:49:06               2              0   \n",
       "84  1627610213565222916 2023-02-20 10:04:49               0              0   \n",
       "85  1627577912462561282 2023-02-20 07:56:27               2              0   \n",
       "86  1627571557186048000 2023-02-20 07:31:12               2              0   \n",
       "87  1627399456999235584 2023-02-19 20:07:20               0              0   \n",
       "\n",
       "                                                 text  \n",
       "0   I bet there are many carefully conducted obser...  \n",
       "1   This is an opportunity for the CUNY community ...  \n",
       "2   America has changed, Mr. Ambassador. How can i...  \n",
       "3   Sparks of light can be seen even on this \"Day ...  \n",
       "4   Another nice feature of the @soboleffspaces - ...  \n",
       "..                                                ...  \n",
       "83  @HL327 @stephensenn @f2harrell @AngeloDalli @R...  \n",
       "84  @HL327 @stephensenn @f2harrell @AngeloDalli @R...  \n",
       "85  @stephensenn @HL327 @f2harrell @AngeloDalli @R...  \n",
       "86  @sim0ngates @f2harrell @HL327 @stephensenn @An...  \n",
       "87  @heckerma1 @PSpirtes I got a broken link, can ...  \n",
       "\n",
       "[88 rows x 5 columns]"
      ]
     },
     "execution_count": 50,
     "metadata": {},
     "output_type": "execute_result"
    }
   ],
   "source": [
    "df"
   ]
  },
  {
   "cell_type": "markdown",
   "metadata": {},
   "source": [
    "## <a id ='8.3.'>8.3. Request tweet </a>"
   ]
  },
  {
   "cell_type": "code",
   "execution_count": null,
   "metadata": {},
   "outputs": [],
   "source": [
    "\n",
    "# For sending GET requests from the API\n",
    "import requests\n",
    "# For saving access tokens and for file management when creating and adding to the dataset\n",
    "import os\n",
    "# For dealing with json responses we receive from the API\n",
    "import json\n",
    "# For displaying the data after\n",
    "import pandas as pd\n",
    "# For saving the response data in CSV format\n",
    "import csv\n",
    "# For parsing the dates received from twitter in readable formats\n",
    "import datetime\n",
    "import dateutil.parser\n",
    "import unicodedata\n",
    "#To add wait time between requests\n",
    "import time"
   ]
  },
  {
   "cell_type": "markdown",
   "metadata": {},
   "source": [
    "## <a id ='8.3.1.'>8.3.1. Getting ID of username - [jmwooldridge](https://twitter.com/jmwooldridge) </a> "
   ]
  },
  {
   "cell_type": "code",
   "execution_count": 24,
   "metadata": {},
   "outputs": [],
   "source": [
    "class request_id:\n",
    "    \n",
    "    def __init__( self, token):\n",
    "        self.token = token\n",
    "    \n",
    "    def create_url( self, user_name ):\n",
    "        # Specify the usernames that you want to lookup below\n",
    "        # You can enter up to 100 comma-separated values.\n",
    "        usernames = f\"usernames={ user_name }\"\n",
    "        user_fields = \"user.fields=description,created_at\"\n",
    "        # User fields are adjustable, options include:\n",
    "        # created_at, description, entities, id, location, name,\n",
    "        # pinned_tweet_id, profile_image_url, protected,\n",
    "        # public_metrics, url, username, verified, and withheld\n",
    "        url = \"https://api.twitter.com/2/users/by?{}&{}\".format(usernames, user_fields)\n",
    "        self.url = url\n",
    "\n",
    "\n",
    "    def bearer_oauth( self, r ):\n",
    "        \"\"\"\n",
    "        Method required by bearer token authentication.\n",
    "        \"\"\"\n",
    "\n",
    "        r.headers[\"Authorization\"] = f\"Bearer {self.token}\"\n",
    "        r.headers[\"User-Agent\"] = \"v2UserLookupPython\"\n",
    "        \n",
    "        self.r = r\n",
    "        return r\n",
    "\n",
    "\n",
    "    def connect_to_endpoint( self ):\n",
    "        url = self.url\n",
    "        response = requests.request(\"GET\", url, auth= self.bearer_oauth,)\n",
    "        print(response.status_code)\n",
    "        if response.status_code != 200:\n",
    "            raise Exception(\n",
    "                \"Request returned an error: {} {}\".format(\n",
    "                    response.status_code, response.text\n",
    "                )\n",
    "            )\n",
    "            \n",
    "        return response.json()"
   ]
  },
  {
   "cell_type": "markdown",
   "metadata": {},
   "source": [
    "Token"
   ]
  },
  {
   "cell_type": "code",
   "execution_count": 25,
   "metadata": {},
   "outputs": [],
   "source": [
    "Bearer_Token = \"AAAAAAAAAAAAAAAAAAAAAHqDOQEAAAAA13Ox6r2pGXSajjvKhZUT%2BksIvnk%3DhdyhLtNoNYKm50YORIqKDBakGh5JTvjl828R3mToJzFmWjb1CJ\"\n",
    "get_id_woold = request_id( Bearer_Token )"
   ]
  },
  {
   "cell_type": "markdown",
   "metadata": {},
   "source": [
    "Username"
   ]
  },
  {
   "cell_type": "code",
   "execution_count": 51,
   "metadata": {},
   "outputs": [
    {
     "name": "stdout",
     "output_type": "stream",
     "text": [
      "200\n"
     ]
    }
   ],
   "source": [
    "get_id_woold.create_url( 'jmwooldridge' )\n",
    "\n",
    "result = get_id_woold.connect_to_endpoint()"
   ]
  },
  {
   "cell_type": "markdown",
   "metadata": {},
   "source": [
    "Getting Data"
   ]
  },
  {
   "cell_type": "code",
   "execution_count": 52,
   "metadata": {},
   "outputs": [
    {
     "data": {
      "text/plain": [
       "'95230497'"
      ]
     },
     "execution_count": 52,
     "metadata": {},
     "output_type": "execute_result"
    }
   ],
   "source": [
    "id_woold = result['data'][0]['id']\n",
    "id_woold"
   ]
  },
  {
   "cell_type": "markdown",
   "metadata": {},
   "source": [
    "## <a id = '8.3.2.'>8.3.2. [Getting Tweets Timeline](https://developer.twitter.com/en/docs/twitter-api/tweets/timelines/introduction) - [jmwooldridge](https://twitter.com/jmwooldridge) </a> \n",
    "\n",
    "The endpoint can return the 3,200 most recent Tweets, Retweets, replies and Quote Tweets posted by the user. <br>\n",
    "The user Tweet timeline also supports the ability to specify `start_time` and `end_time` parameters to receive Tweets that were created within a certain window of time. "
   ]
  },
  {
   "cell_type": "code",
   "execution_count": 28,
   "metadata": {},
   "outputs": [],
   "source": [
    "def create_url(  user_id ):\n",
    "    # Replace with user ID below\n",
    "    return \"https://api.twitter.com/2/users/{}/tweets\".format(user_id)\n",
    "\n",
    "\n",
    "def get_params():\n",
    "    # Tweet fields are adjustable.\n",
    "    # Options include:\n",
    "    # attachments, author_id, context_annotations,\n",
    "    # conversation_id, created_at, entities, geo, id,\n",
    "    # in_reply_to_user_id, lang, non_public_metrics, organic_metrics,\n",
    "    # possibly_sensitive, promoted_metrics, public_metrics, referenced_tweets,\n",
    "    # source, text, and withheld\n",
    "    return {\"tweet.fields\": \"created_at\", \"max_results\" : 100 }\n",
    "\n",
    "\n",
    "def bearer_oauth(r):\n",
    "    \"\"\"\n",
    "    Method required by bearer token authentication.\n",
    "    \"\"\"\n",
    "    r.headers[\"Authorization\"] = f\"Bearer {bearer_token}\"\n",
    "    r.headers[\"User-Agent\"] = \"v2UserTweetsPython\"\n",
    "    return r\n",
    "\n",
    "\n",
    "def connect_to_endpoint(url, params, next_token = None ):\n",
    "    params['pagination_token'] = next_token\n",
    "    response = requests.request(\"GET\", url, auth=bearer_oauth, params=params)\n",
    "    print(response.status_code)\n",
    "    if response.status_code != 200:\n",
    "        raise Exception(\n",
    "            \"Request returned an error: {} {}\".format(\n",
    "                response.status_code, response.text\n",
    "            )\n",
    "        )\n",
    "    return response.json()"
   ]
  },
  {
   "cell_type": "code",
   "execution_count": 29,
   "metadata": {},
   "outputs": [],
   "source": [
    "bearer_token = 'AAAAAAAAAAAAAAAAAAAAAHqDOQEAAAAA13Ox6r2pGXSajjvKhZUT%2BksIvnk%3DhdyhLtNoNYKm50YORIqKDBakGh5JTvjl828R3mToJzFmWjb1CJ'"
   ]
  },
  {
   "cell_type": "code",
   "execution_count": 53,
   "metadata": {},
   "outputs": [
    {
     "name": "stdout",
     "output_type": "stream",
     "text": [
      "200\n"
     ]
    }
   ],
   "source": [
    "url = create_url( id_woold )\n",
    "param = get_params()\n",
    "result = connect_to_endpoint( url, param)"
   ]
  },
  {
   "cell_type": "code",
   "execution_count": 57,
   "metadata": {},
   "outputs": [
    {
     "data": {
      "text/plain": [
       "{'result_count': 100,\n",
       " 'newest_id': '1629595151675924480',\n",
       " 'oldest_id': '1624164394186727442',\n",
       " 'next_token': '7140dibdnow9c7btw4515z8c1bcjb3oy28yubpi2r6eya'}"
      ]
     },
     "execution_count": 57,
     "metadata": {},
     "output_type": "execute_result"
    }
   ],
   "source": [
    "result['meta']"
   ]
  },
  {
   "cell_type": "code",
   "execution_count": 54,
   "metadata": {},
   "outputs": [],
   "source": [
    "data = result['data']"
   ]
  },
  {
   "cell_type": "code",
   "execution_count": 58,
   "metadata": {},
   "outputs": [
    {
     "name": "stdout",
     "output_type": "stream",
     "text": [
      "200\n",
      "200\n",
      "200\n",
      "200\n",
      "200\n",
      "200\n",
      "200\n",
      "200\n",
      "200\n",
      "200\n",
      "200\n"
     ]
    }
   ],
   "source": [
    "next_token = 'next_token' in result['meta'].keys()\n",
    "page = 1\n",
    "while next_token == True:\n",
    "    try:\n",
    "        restult = connect_to_endpoint( url, param, result['meta']['next_token'] )\n",
    "        data = data + result['data']\n",
    "    except:\n",
    "        next_token = False\n",
    "    \n",
    "    if page > 10:\n",
    "        next_token = False\n",
    "    \n",
    "    page = page + 1"
   ]
  },
  {
   "cell_type": "code",
   "execution_count": 59,
   "metadata": {},
   "outputs": [],
   "source": [
    "df = pd.DataFrame( data )"
   ]
  },
  {
   "cell_type": "code",
   "execution_count": 60,
   "metadata": {},
   "outputs": [
    {
     "data": {
      "text/html": [
       "<div>\n",
       "<style scoped>\n",
       "    .dataframe tbody tr th:only-of-type {\n",
       "        vertical-align: middle;\n",
       "    }\n",
       "\n",
       "    .dataframe tbody tr th {\n",
       "        vertical-align: top;\n",
       "    }\n",
       "\n",
       "    .dataframe thead th {\n",
       "        text-align: right;\n",
       "    }\n",
       "</style>\n",
       "<table border=\"1\" class=\"dataframe\">\n",
       "  <thead>\n",
       "    <tr style=\"text-align: right;\">\n",
       "      <th></th>\n",
       "      <th>created_at</th>\n",
       "      <th>edit_history_tweet_ids</th>\n",
       "      <th>id</th>\n",
       "      <th>text</th>\n",
       "    </tr>\n",
       "  </thead>\n",
       "  <tbody>\n",
       "    <tr>\n",
       "      <th>0</th>\n",
       "      <td>2023-02-25T21:32:15.000Z</td>\n",
       "      <td>[1629595151675924480]</td>\n",
       "      <td>1629595151675924480</td>\n",
       "      <td>@RoxaBarrantes I wondered that. I think I’m on...</td>\n",
       "    </tr>\n",
       "    <tr>\n",
       "      <th>1</th>\n",
       "      <td>2023-02-25T16:59:18.000Z</td>\n",
       "      <td>[1629526462318653440]</td>\n",
       "      <td>1629526462318653440</td>\n",
       "      <td>@Stella33448324 Given my lack of sleep, I can’...</td>\n",
       "    </tr>\n",
       "    <tr>\n",
       "      <th>2</th>\n",
       "      <td>2023-02-25T16:57:39.000Z</td>\n",
       "      <td>[1629526045832658944]</td>\n",
       "      <td>1629526045832658944</td>\n",
       "      <td>@danilaserra_eco If I toss in my hate for 2023...</td>\n",
       "    </tr>\n",
       "    <tr>\n",
       "      <th>3</th>\n",
       "      <td>2023-02-25T16:41:50.000Z</td>\n",
       "      <td>[1629522068294496256]</td>\n",
       "      <td>1629522068294496256</td>\n",
       "      <td>It never rains in California \\nBut girl, don’t...</td>\n",
       "    </tr>\n",
       "    <tr>\n",
       "      <th>4</th>\n",
       "      <td>2023-02-25T14:04:47.000Z</td>\n",
       "      <td>[1629482542113107971]</td>\n",
       "      <td>1629482542113107971</td>\n",
       "      <td>@nikir1 Huh. I hit zero by applying any refund...</td>\n",
       "    </tr>\n",
       "    <tr>\n",
       "      <th>...</th>\n",
       "      <td>...</td>\n",
       "      <td>...</td>\n",
       "      <td>...</td>\n",
       "      <td>...</td>\n",
       "    </tr>\n",
       "    <tr>\n",
       "      <th>1195</th>\n",
       "      <td>2023-02-11T20:58:34.000Z</td>\n",
       "      <td>[1624513245024342018]</td>\n",
       "      <td>1624513245024342018</td>\n",
       "      <td>Not gonna lie: I thought my Poisson regression...</td>\n",
       "    </tr>\n",
       "    <tr>\n",
       "      <th>1196</th>\n",
       "      <td>2023-02-11T20:09:42.000Z</td>\n",
       "      <td>[1624500949262782468]</td>\n",
       "      <td>1624500949262782468</td>\n",
       "      <td>“Not my favorite #Caturday, but I’m hanging in...</td>\n",
       "    </tr>\n",
       "    <tr>\n",
       "      <th>1197</th>\n",
       "      <td>2023-02-11T15:11:43.000Z</td>\n",
       "      <td>[1624425960178155521]</td>\n",
       "      <td>1624425960178155521</td>\n",
       "      <td>@flynnpolsci Thanks for this! Neal also seems ...</td>\n",
       "    </tr>\n",
       "    <tr>\n",
       "      <th>1198</th>\n",
       "      <td>2023-02-11T02:10:54.000Z</td>\n",
       "      <td>[1624229461263630337]</td>\n",
       "      <td>1624229461263630337</td>\n",
       "      <td>@SHUWalshgym Strangest, most entertaining endi...</td>\n",
       "    </tr>\n",
       "    <tr>\n",
       "      <th>1199</th>\n",
       "      <td>2023-02-10T21:52:21.000Z</td>\n",
       "      <td>[1624164394186727442]</td>\n",
       "      <td>1624164394186727442</td>\n",
       "      <td>Not an easy week for Neal, who had to have a c...</td>\n",
       "    </tr>\n",
       "  </tbody>\n",
       "</table>\n",
       "<p>1200 rows × 4 columns</p>\n",
       "</div>"
      ],
      "text/plain": [
       "                    created_at edit_history_tweet_ids                   id  \\\n",
       "0     2023-02-25T21:32:15.000Z  [1629595151675924480]  1629595151675924480   \n",
       "1     2023-02-25T16:59:18.000Z  [1629526462318653440]  1629526462318653440   \n",
       "2     2023-02-25T16:57:39.000Z  [1629526045832658944]  1629526045832658944   \n",
       "3     2023-02-25T16:41:50.000Z  [1629522068294496256]  1629522068294496256   \n",
       "4     2023-02-25T14:04:47.000Z  [1629482542113107971]  1629482542113107971   \n",
       "...                        ...                    ...                  ...   \n",
       "1195  2023-02-11T20:58:34.000Z  [1624513245024342018]  1624513245024342018   \n",
       "1196  2023-02-11T20:09:42.000Z  [1624500949262782468]  1624500949262782468   \n",
       "1197  2023-02-11T15:11:43.000Z  [1624425960178155521]  1624425960178155521   \n",
       "1198  2023-02-11T02:10:54.000Z  [1624229461263630337]  1624229461263630337   \n",
       "1199  2023-02-10T21:52:21.000Z  [1624164394186727442]  1624164394186727442   \n",
       "\n",
       "                                                   text  \n",
       "0     @RoxaBarrantes I wondered that. I think I’m on...  \n",
       "1     @Stella33448324 Given my lack of sleep, I can’...  \n",
       "2     @danilaserra_eco If I toss in my hate for 2023...  \n",
       "3     It never rains in California \\nBut girl, don’t...  \n",
       "4     @nikir1 Huh. I hit zero by applying any refund...  \n",
       "...                                                 ...  \n",
       "1195  Not gonna lie: I thought my Poisson regression...  \n",
       "1196  “Not my favorite #Caturday, but I’m hanging in...  \n",
       "1197  @flynnpolsci Thanks for this! Neal also seems ...  \n",
       "1198  @SHUWalshgym Strangest, most entertaining endi...  \n",
       "1199  Not an easy week for Neal, who had to have a c...  \n",
       "\n",
       "[1200 rows x 4 columns]"
      ]
     },
     "execution_count": 60,
     "metadata": {},
     "output_type": "execute_result"
    }
   ],
   "source": [
    "df"
   ]
  },
  {
   "cell_type": "markdown",
   "metadata": {},
   "source": [
    "We are allowed to request only 3200 tweets."
   ]
  },
  {
   "cell_type": "markdown",
   "metadata": {},
   "source": [
    "## <a id='8.4.'>8.4. References</a>  "
   ]
  },
  {
   "cell_type": "markdown",
   "metadata": {},
   "source": [
    "https://towardsdatascience.com/an-extensive-guide-to-collecting-tweets-from-twitter-api-v2-for-academic-research-using-python-3-518fcb71df2a\n",
    "\n",
    "https://fairyonice.github.io/extract-someones-tweet-using-tweepy.html"
   ]
  }
 ],
 "metadata": {
  "hide_input": false,
  "kernelspec": {
   "display_name": "Python 3",
   "language": "python",
   "name": "python3"
  },
  "language_info": {
   "codemirror_mode": {
    "name": "ipython",
    "version": 3
   },
   "file_extension": ".py",
   "mimetype": "text/x-python",
   "name": "python",
   "nbconvert_exporter": "python",
   "pygments_lexer": "ipython3",
   "version": "3.8.6"
  },
  "toc": {
   "base_numbering": 1,
   "nav_menu": {},
   "number_sections": true,
   "sideBar": true,
   "skip_h1_title": false,
   "title_cell": "Table of Contents",
   "title_sidebar": "Contents",
   "toc_cell": false,
   "toc_position": {},
   "toc_section_display": true,
   "toc_window_display": false
  }
 },
 "nbformat": 4,
 "nbformat_minor": 4
}

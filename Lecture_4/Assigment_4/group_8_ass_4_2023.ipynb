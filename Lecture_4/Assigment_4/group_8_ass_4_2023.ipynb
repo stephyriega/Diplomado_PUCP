{
 "cells": [
  {
   "cell_type": "code",
   "execution_count": 1,
   "metadata": {},
   "outputs": [],
   "source": [
    "import pandas as pd\n",
    "import numpy as np\n",
    "from datetime import datetime, date\n",
    "import os, platform"
   ]
  },
  {
   "cell_type": "code",
   "execution_count": 4,
   "metadata": {},
   "outputs": [],
   "source": [
    "path = \"..\\\\..\\\\_data\\\\sbs\\\\B_RawData\\\\bancos\" # Relative path\n",
    "\n",
    "if 'linux' not in platform.system() or 'Darwin' not in platform.system():\n",
    "    path = \"../../_data/sbs/B_RawData/bancos\"\n",
    "\n",
    "all_files = [f for f in os.listdir(path) if f[-4:] == 'xlsx']"
   ]
  },
  {
   "cell_type": "code",
   "execution_count": 5,
   "metadata": {},
   "outputs": [],
   "source": [
    "def get_date(file):\n",
    "    str_date = '_'.join(file[0:-5].split('_')[2:5])\n",
    "    return datetime.strptime(str_date, '%d_%m_%Y').date()"
   ]
  },
  {
   "attachments": {},
   "cell_type": "markdown",
   "metadata": {},
   "source": [
    "## SOLUCIÓN PREGUNTA 1\n",
    "Importamos la data según sus distintos formatos"
   ]
  },
  {
   "attachments": {},
   "cell_type": "markdown",
   "metadata": {},
   "source": [
    "### Format 1\n",
    "Including data between 2002 to April 2008"
   ]
  },
  {
   "cell_type": "code",
   "execution_count": 6,
   "metadata": {},
   "outputs": [],
   "source": [
    "format_1_files = [\n",
    "    file for file in all_files \n",
    "    if date(2008, 4, 30) > get_date(file) > date(2002, 9, 30)\n",
    "]\n",
    "\n",
    "def sanitize_format_1(file):\n",
    "    df = pd.read_excel(f'{path}/{file}', sheet_name=\"Sheet1\", header=1, skiprows=1)\n",
    "    df = df.rename(\n",
    "        columns={\n",
    "            'Unnamed: 0': 'bank_name',\n",
    "            'Tarjetas de crédito': 'credit_card',\n",
    "            'HIPOTECARIO': 'mortgage'\n",
    "        }\n",
    "    )\n",
    "    df['date_info'] = get_date(file)\n",
    "    return df\n",
    "\n",
    "format_1_df = pd.concat([sanitize_format_1(file) for file in format_1_files], ignore_index=True)[['bank_name', 'credit_card', 'mortgage', 'date_info']]"
   ]
  },
  {
   "attachments": {},
   "cell_type": "markdown",
   "metadata": {},
   "source": [
    "### Format 2\n",
    "Including data between May 2008 to June 2010"
   ]
  },
  {
   "cell_type": "code",
   "execution_count": 7,
   "metadata": {},
   "outputs": [],
   "source": [
    "format_2_files = [\n",
    "    file for file in all_files \n",
    "    if date(2008, 5, 30) < get_date(file) < date(2010, 6, 1)\n",
    "]\n",
    "\n",
    "def sanitize_format_2(file):\n",
    "    first_table = pd.read_excel(f'{path}/{file}', sheet_name=\"Sheet1\", header=1, usecols=\"A:V\").drop(0)\n",
    "    first_table = first_table.rename(columns={'Tasa Anual (%)': 'bank_name'})\n",
    "    second_table = pd.read_excel(f'{path}/{file}', sheet_name=\"Sheet1\", skiprows= range(0, 3), usecols=\"W:AK\")\n",
    "    second_table = second_table.rename(\n",
    "        columns={\n",
    "            'Promedio': 'credit_card',\n",
    "            'PRÉSTAMOS HIPOTECARIOS': 'mortgage'\n",
    "        }\n",
    "    )\n",
    "    second_table['date_info'] = get_date(file)\n",
    "    return first_table.merge(second_table, left_index=True, right_index=True)\n",
    "\n",
    "format_2_df = pd.concat([sanitize_format_2(file) for file in format_2_files], ignore_index=True)[['bank_name', 'credit_card', 'mortgage', 'date_info']]"
   ]
  },
  {
   "attachments": {},
   "cell_type": "markdown",
   "metadata": {},
   "source": [
    "### Format 3\n",
    "Including data between Sept 2010 - 2015"
   ]
  },
  {
   "cell_type": "code",
   "execution_count": 8,
   "metadata": {
    "collapsed": false
   },
   "outputs": [],
   "source": [
    "format_3_files = [\n",
    "    file for file in all_files\n",
    "    if date(2010, 9, 10) < get_date(file) < date(2015, 12, 31)\n",
    "]\n",
    "\n",
    "def sanitize_format_3(file):\n",
    "    df = pd.read_excel(f'{path}/{file}', sheet_name=\"Sheet1\")\n",
    "    df.set_index('Tasa Anual (%)', inplace=True)\n",
    "    df = df.loc[~df.index.duplicated(keep='first')].T.iloc[:, :-2]\n",
    "    df['date_info'] = get_date(file) # Add date info\n",
    "    df = df.reset_index().rename_axis(None, axis=1).rename(\n",
    "        columns={\n",
    "            'index': 'bank_name',\n",
    "            'Tarjetas de Crédito': 'credit_card',\n",
    "            'Hipotecarios': 'mortgage'\n",
    "        })\n",
    "    df['bank_name'] = df['bank_name'].str.upper() # Clean bank names\n",
    "    return df\n",
    "format_3_df = pd.concat([sanitize_format_3(file) for file in format_3_files])[['bank_name', 'credit_card', 'mortgage', 'date_info']]"
   ]
  },
  {
   "cell_type": "markdown",
   "metadata": {
    "collapsed": false
   },
   "source": [
    "### Format 4\n",
    "Including data between 2016 to 2022 and 2001"
   ]
  },
  {
   "cell_type": "code",
   "execution_count": 9,
   "metadata": {
    "collapsed": false
   },
   "outputs": [],
   "source": [
    "format_4_files = [\n",
    "    file for file in all_files\n",
    "    if (date(2016, 1, 1) < get_date(file) < date(2022, 12, 31)) or get_date(file).year == 2001\n",
    "]\n",
    "\n",
    "def sanitize_format_4(file):\n",
    "    df = pd.read_excel(f'{path}/{file}', sheet_name=\"Sheet1\")\n",
    "    df.set_index('Tasa Anual (%)', inplace=True)\n",
    "    df = df.loc[~df.index.duplicated(keep='first')].T\n",
    "    df['date_info'] = get_date(file)\n",
    "    df = df.reset_index().rename_axis(None, axis=1).rename(\n",
    "        columns={\n",
    "            'index': 'bank_name',\n",
    "            'Tarjetas de Crédito': 'credit_card',\n",
    "            'Préstamos hipotecarios para vivienda': 'mortgage'\n",
    "        }\n",
    "    )\n",
    "    return df\n",
    "\n",
    "format_4_df = pd.concat([sanitize_format_4(file) for file in format_4_files])[['bank_name', 'credit_card', 'mortgage', 'date_info']]"
   ]
  },
  {
   "cell_type": "markdown",
   "metadata": {
    "collapsed": false
   },
   "source": [
    "### Format 5\n",
    "Including data between Jul - Aug 2010"
   ]
  },
  {
   "cell_type": "code",
   "execution_count": 10,
   "metadata": {
    "collapsed": false
   },
   "outputs": [],
   "source": [
    "format_5_files = [\n",
    "    file for file in all_files\n",
    "    if (7 <= get_date(file).month <= 8) and get_date(file).year == 2010\n",
    "]\n",
    "\n",
    "def sanitize_format_5(file):\n",
    "    first_table = pd.read_excel(f'{path}/{file}', sheet_name=\"Sheet1\", usecols=\"A:H\", skiprows=[1, 2])\n",
    "    first_table = first_table.rename(columns={'Tasa Anual (%)': 'bank_name'})\n",
    "    second_table = pd.read_excel(f'{path}/{file}', sheet_name=\"Sheet1\", skiprows= [1, 2, 3], usecols=\"U:AF\")\n",
    "    second_table = second_table.rename(\n",
    "        columns={\n",
    "            'CRÉDITOS DE CONSUMO.3': 'credit_card',\n",
    "            'PRÉSTAMOS HIPOTECARIOS': 'mortgage'\n",
    "        }\n",
    "    )\n",
    "    second_table['date_info'] = get_date(file)\n",
    "    return first_table.merge(second_table, left_index=True, right_index=True)\n",
    "\n",
    "format_5_df = pd.concat([sanitize_format_5(file) for file in format_5_files])[['bank_name', 'credit_card', 'mortgage', 'date_info']]"
   ]
  },
  {
   "attachments": {},
   "cell_type": "markdown",
   "metadata": {},
   "source": [
    "## SOLUCIÓN PREGUNTA 2 \n",
    "Unimos todas las bases de datos"
   ]
  },
  {
   "cell_type": "code",
   "execution_count": 11,
   "metadata": {
    "collapsed": false
   },
   "outputs": [],
   "source": [
    "db = pd.concat(\n",
    "    [format_1_df,\n",
    "    format_2_df,\n",
    "    format_3_df,\n",
    "    format_4_df,\n",
    "    format_5_df],\n",
    "    axis=0\n",
    ").reset_index(drop=True)"
   ]
  },
  {
   "cell_type": "markdown",
   "metadata": {
    "collapsed": false
   },
   "source": [
    "## Cleaning Numeric Values"
   ]
  },
  {
   "cell_type": "code",
   "execution_count": 12,
   "metadata": {
    "collapsed": false
   },
   "outputs": [],
   "source": [
    "db['credit_card'] = pd.to_numeric(db['credit_card'], errors='coerce')\n",
    "db['mortgage'] = pd.to_numeric(db['mortgage'], errors='coerce')\n",
    "db = db.replace(np.nan, 0, regex=True)"
   ]
  },
  {
   "cell_type": "markdown",
   "metadata": {
    "collapsed": false
   },
   "source": [
    "## Cleaning Banks names"
   ]
  },
  {
   "cell_type": "code",
   "execution_count": 13,
   "metadata": {
    "collapsed": false
   },
   "outputs": [],
   "source": [
    "db['bank_name'] = db['bank_name'].str.upper()"
   ]
  },
  {
   "cell_type": "code",
   "execution_count": 14,
   "metadata": {
    "collapsed": false
   },
   "outputs": [],
   "source": [
    "db['bank_name'] = db['bank_name']\\\n",
    "    .str\\\n",
    "    .replace('BANCO DE', '')\\\n",
    "    .replace('BANCO', '')\\\n",
    "    .replace('DEL PERU', '')\\\n",
    "    .replace('DE PERU', '')\\\n",
    "    .replace('PERU', '')\\\n",
    "    .replace('FINANCIERO', 'PICHINCHA')\\\n",
    "    .replace('FINANCIERO  *', 'PICHINCHA')\\\n",
    "    .replace('AZTECA', 'ALFIN') \\\n",
    "    .replace('AZTECA  *', 'ALFIN') \\\n",
    "    .replace('HSBC(*)', 'HSBC')\\\n",
    "    .replace('CONTINENTAL', 'BBVA')\\\n",
    "    .replace('BANBIF', 'BIF')\\\n",
    "    .replace('CREDITO', 'CRÉDITO')\\\n",
    "    .replace('BNP PARIBAS EL', 'BNP')\\\n",
    "    .replace('DEUTSCHE BANK PERU', 'DEUTSCHE')\\\n",
    "    .replace('B SANTANDER CENTRAL', 'SANTANDER') \\\n",
    "    .replace('SANTANDER PERU', 'SANTANDER') \\\n",
    "    .replace('SCOTIABANK PERU', 'SCOTIABANK')\\\n",
    "    .replace('MIBANCO', 'MI')"
   ]
  },
  {
   "cell_type": "code",
   "execution_count": 15,
   "metadata": {
    "collapsed": false
   },
   "outputs": [],
   "source": [
    "db = db[db['bank_name'].str.contains(\"PROMEDIO\") == False]"
   ]
  },
  {
   "cell_type": "code",
   "execution_count": 16,
   "metadata": {
    "collapsed": false
   },
   "outputs": [
    {
     "data": {
      "text/html": [
       "<div>\n",
       "<style scoped>\n",
       "    .dataframe tbody tr th:only-of-type {\n",
       "        vertical-align: middle;\n",
       "    }\n",
       "\n",
       "    .dataframe tbody tr th {\n",
       "        vertical-align: top;\n",
       "    }\n",
       "\n",
       "    .dataframe thead th {\n",
       "        text-align: right;\n",
       "    }\n",
       "</style>\n",
       "<table border=\"1\" class=\"dataframe\">\n",
       "  <thead>\n",
       "    <tr style=\"text-align: right;\">\n",
       "      <th></th>\n",
       "      <th>bank_name</th>\n",
       "      <th>credit_card</th>\n",
       "      <th>mortgage</th>\n",
       "      <th>date_info</th>\n",
       "    </tr>\n",
       "  </thead>\n",
       "  <tbody>\n",
       "    <tr>\n",
       "      <th>0</th>\n",
       "      <td>TRABAJO</td>\n",
       "      <td>72.54</td>\n",
       "      <td>0.00</td>\n",
       "      <td>2004-02-26</td>\n",
       "    </tr>\n",
       "    <tr>\n",
       "      <th>1</th>\n",
       "      <td>BBVA</td>\n",
       "      <td>48.57</td>\n",
       "      <td>15.92</td>\n",
       "      <td>2004-02-26</td>\n",
       "    </tr>\n",
       "    <tr>\n",
       "      <th>2</th>\n",
       "      <td>COMERCIO</td>\n",
       "      <td>24.01</td>\n",
       "      <td>0.00</td>\n",
       "      <td>2004-02-26</td>\n",
       "    </tr>\n",
       "    <tr>\n",
       "      <th>3</th>\n",
       "      <td>CREDITO</td>\n",
       "      <td>34.84</td>\n",
       "      <td>0.00</td>\n",
       "      <td>2004-02-26</td>\n",
       "    </tr>\n",
       "    <tr>\n",
       "      <th>4</th>\n",
       "      <td>BANCO PICHINCHA</td>\n",
       "      <td>51.11</td>\n",
       "      <td>0.00</td>\n",
       "      <td>2004-02-26</td>\n",
       "    </tr>\n",
       "    <tr>\n",
       "      <th>...</th>\n",
       "      <td>...</td>\n",
       "      <td>...</td>\n",
       "      <td>...</td>\n",
       "      <td>...</td>\n",
       "    </tr>\n",
       "    <tr>\n",
       "      <th>3749</th>\n",
       "      <td>BANCO FALABELLA</td>\n",
       "      <td>0.00</td>\n",
       "      <td>0.00</td>\n",
       "      <td>2010-08-31</td>\n",
       "    </tr>\n",
       "    <tr>\n",
       "      <th>3750</th>\n",
       "      <td>SANTANDER</td>\n",
       "      <td>0.00</td>\n",
       "      <td>0.00</td>\n",
       "      <td>2010-08-31</td>\n",
       "    </tr>\n",
       "    <tr>\n",
       "      <th>3751</th>\n",
       "      <td>BANCO RIPLEY</td>\n",
       "      <td>0.00</td>\n",
       "      <td>0.00</td>\n",
       "      <td>2010-08-31</td>\n",
       "    </tr>\n",
       "    <tr>\n",
       "      <th>3752</th>\n",
       "      <td>ALFIN BANCO</td>\n",
       "      <td>0.00</td>\n",
       "      <td>0.00</td>\n",
       "      <td>2010-08-31</td>\n",
       "    </tr>\n",
       "    <tr>\n",
       "      <th>3753</th>\n",
       "      <td>DEUTSCHE</td>\n",
       "      <td>0.00</td>\n",
       "      <td>0.00</td>\n",
       "      <td>2010-08-31</td>\n",
       "    </tr>\n",
       "  </tbody>\n",
       "</table>\n",
       "<p>3543 rows × 4 columns</p>\n",
       "</div>"
      ],
      "text/plain": [
       "            bank_name  credit_card  mortgage   date_info\n",
       "0             TRABAJO        72.54      0.00  2004-02-26\n",
       "1                BBVA        48.57     15.92  2004-02-26\n",
       "2            COMERCIO        24.01      0.00  2004-02-26\n",
       "3             CREDITO        34.84      0.00  2004-02-26\n",
       "4     BANCO PICHINCHA        51.11      0.00  2004-02-26\n",
       "...               ...          ...       ...         ...\n",
       "3749  BANCO FALABELLA         0.00      0.00  2010-08-31\n",
       "3750        SANTANDER         0.00      0.00  2010-08-31\n",
       "3751     BANCO RIPLEY         0.00      0.00  2010-08-31\n",
       "3752      ALFIN BANCO         0.00      0.00  2010-08-31\n",
       "3753         DEUTSCHE         0.00      0.00  2010-08-31\n",
       "\n",
       "[3543 rows x 4 columns]"
      ]
     },
     "execution_count": 16,
     "metadata": {},
     "output_type": "execute_result"
    }
   ],
   "source": [
    "db"
   ]
  },
  {
   "attachments": {},
   "cell_type": "markdown",
   "metadata": {},
   "source": [
    "## SOLUCIÓN PREGUNTA 3\n",
    "Identificamos los 5 bancos con tasas hipotecarias y crédito de consumo más caras"
   ]
  },
  {
   "cell_type": "code",
   "execution_count": 18,
   "metadata": {},
   "outputs": [],
   "source": [
    "#Creamos una columna \"year\" generada a partir de date_info, se está empleado \"%y\" como formato para expresar el año mediante la función strftime\n",
    "\n",
    "db[\"year\"] = [*map(lambda x: x.strftime(\"%Y\"), db[\"date_info\"])]"
   ]
  },
  {
   "cell_type": "code",
   "execution_count": 40,
   "metadata": {},
   "outputs": [],
   "source": [
    "# Generamos tabla con 5 bancos con mayor tasa de préstamo hipotecario en cada año\n",
    "top5_hipo = db.groupby('year').apply(lambda x: x.nlargest(5, 'mortgage')).reset_index(drop=True)\n",
    "top5_hipo = top5_hipo.drop([\"date_info\",\"credit_card\"], axis=1).reset_index(drop=True)\n",
    "top5_hipo.rename(\n",
    "    columns={\"bank_name\": \"banks\", \"mortgage\": \"rate_value\"},\n",
    "    inplace=True,\n",
    ")\n",
    "top5_hipo[\"rate_concept\"] = \"Préstamo hipotecario\" "
   ]
  },
  {
   "cell_type": "code",
   "execution_count": 41,
   "metadata": {},
   "outputs": [],
   "source": [
    "# Generamos tabla con 5 bancos con mayor tasa de crédito de consumo en cada año\n",
    "top5_credi = db.groupby('year').apply(lambda x: x.nlargest(5, 'credit_card')).reset_index(drop=True)\n",
    "top5_credi = top5_credi.drop([\"date_info\",\"mortgage\"], axis=1).reset_index(drop=True)\n",
    "top5_credi.rename(\n",
    "    columns={\"bank_name\": \"banks\", \"credit_card\": \"rate_value\"},\n",
    "    inplace=True,\n",
    ")\n",
    "top5_credi[\"rate_concept\"] = \"Crédito de consumo\" "
   ]
  },
  {
   "attachments": {},
   "cell_type": "markdown",
   "metadata": {},
   "source": [
    "## SOLUCIÓN PREGUNTA 4\n",
    "Exportamos un excel por cada banco"
   ]
  },
  {
   "cell_type": "code",
   "execution_count": 47,
   "metadata": {},
   "outputs": [],
   "source": [
    "#Nuevo path relativo\n",
    "path = \"..\\\\..\\\\_Assigment_4\\\\output\\\\sbs\" # Relative path"
   ]
  },
  {
   "cell_type": "code",
   "execution_count": 51,
   "metadata": {},
   "outputs": [],
   "source": [
    "db = db.sort_values(\"date_info\")"
   ]
  },
  {
   "cell_type": "code",
   "execution_count": 52,
   "metadata": {},
   "outputs": [],
   "source": [
    "# verifica si existen esas 3 carpetas, en caso no existan, las crea\n",
    "\n",
    "if not os.path.exists(\"output\"):\n",
    "    os.makedirs(\"output\")\n",
    "if not os.path.exists(\"output/sbs\"):\n",
    "    os.makedirs(\"output/sbs\")\n",
    "if not os.path.exists(\"output/sbs/group8\"):\n",
    "    os.makedirs(\"output/sbs/group8\")"
   ]
  },
  {
   "cell_type": "code",
   "execution_count": 53,
   "metadata": {},
   "outputs": [],
   "source": [
    "#dentro de base db, iteramos sobre la columna banks, seleccionando los elementos que coincidan entre si (Valores únicos), creando un subconjunto\n",
    "#dicho subconjunto se guarda dentro de un excel en la ruta indicada (output/sbs/group8)\n",
    "\n",
    "for x in db.bank_name.unique().tolist():\n",
    "    db.loc[db[\"bank_name\"] == x,:].to_excel(\"output/sbs/group8/table_\"+x.lower()+\".xlsx\")"
   ]
  },
  {
   "attachments": {},
   "cell_type": "markdown",
   "metadata": {},
   "source": [
    "# INTEGRANTES DE ESTA TAREA:\n",
    "- Gabriela Isabel Calvo Portocarrero\n",
    "- Angel Mauricio Ibañez Abanto\n",
    "- Juan Diego Meléndez Aponte"
   ]
  }
 ],
 "metadata": {
  "kernelspec": {
   "display_name": "Python 3",
   "language": "python",
   "name": "python3"
  },
  "language_info": {
   "codemirror_mode": {
    "name": "ipython",
    "version": 3
   },
   "file_extension": ".py",
   "mimetype": "text/x-python",
   "name": "python",
   "nbconvert_exporter": "python",
   "pygments_lexer": "ipython3",
   "version": "3.10.6"
  },
  "orig_nbformat": 4,
  "vscode": {
   "interpreter": {
    "hash": "afb734500600fd355917ca529030176ea0ca205570884b88f2f6f7d791fd3fbe"
   }
  }
 },
 "nbformat": 4,
 "nbformat_minor": 2
}

{
 "cells": [
  {
   "cell_type": "markdown",
   "metadata": {},
   "source": [
    "# Assigment 4\n",
    "\n",
    "This assigment will be graded if everything works well. I will run the script as once and everything should be done without errors and mistakes. I should be able to run your scripts in my computer and get all the results. **USE RELATIVE PATHS**. An error or exception or anything that breaks the code will means NO GRADE (0). Additionally, you are not able to modify any file handly. It also means NO GRADE (0). Comment everything you think will help others read your script. We expect 0 errors using GitHub. Everything will be graded!\n",
    "\n",
    "**ASK EVERYTHING! WE ARE HERE TO HELP YOU!**"
   ]
  },
  {
   "cell_type": "markdown",
   "metadata": {},
   "source": [
    "In this path **..\\_data\\sbs\\B_RawData\\bancos** you will find scraped data from [this link](https://www.sbs.gob.pe/app/pp/EstadisticasSAEEPortal/Paginas/TIActivaTipoCreditoEmpresa.aspx?tip=B). We get all the information of the last available day of every each month.\n",
    "\n",
    "1. Import all the data and generate a column named as `date_info` that should have the day to information corresponds.\n",
    "2. Append all this datasets and generate a unique dataframe. This newdataset should have information at `rate interest` and `date` level. The columns should be the name of the banks. Be careful since not all the excel files have the same format. **It is totally prohibited to manipulate manually the excel files. This kind of action means NO GRADE on this project.**\n",
    "3. What are the top 5 banks each year with the highest interest rate at `Préstamos hipotecarios para vivienda`, `Consumo -\n",
    "Tarjetas de Crédito`. Present a dataframe with these variables: `year`, `rate_concept`, `banks`, `rate_value`.\n",
    "4. We want to save this dataset in the folder **_output/sbs/group_#**, but we want to save a file per bank. We want to have the information disaggregated at the bank level. Please, save your files with the name of the bank. Avoid blank spaces and use only lowercase letters. Generate the folder of your group using python code. **Hint: os library**"
   ]
  },
  {
   "cell_type": "code",
   "execution_count": 1,
   "outputs": [],
   "source": [
    "import pandas as pd\n",
    "import datetime as date\n",
    "import os\n",
    "from pathlib import Path\n"
   ],
   "metadata": {
    "collapsed": false
   }
  },
  {
   "cell_type": "markdown",
   "source": [
    "# Answer 1:"
   ],
   "metadata": {
    "collapsed": false
   }
  },
  {
   "cell_type": "code",
   "execution_count": 2,
   "outputs": [
    {
     "name": "stdout",
     "output_type": "stream",
     "text": [
      "Se exportaron satisfactoriamente 241 archivos excel\n",
      "El formato es distinto entre el df1 y el df97\n"
     ]
    }
   ],
   "source": [
    "# Primero se realizó una revisión de la carpeta conteniendo los datos. Se observa que hay datos desde el 2001 hasta el 2022 de las tasas de interés de los\n",
    "# bancos. Además, existen distintas formas de los formatos. En particular, hay un formato traspuesto desde el 2002 hasta agosto de 2010 y luego un formato\n",
    "# donde los bancos son las columnas a partir de septiembre de 2010. El caso del 2001 (solo hay una base de dicho año) tiene el formato de los últimos años.\n",
    "\n",
    "# Como la data presentada está a nivel mensual, pero no contiene información de todos los meses de los años, se procede a hacer un bucle for para cada año, mes y\n",
    "# día. Sin embargo, para evitar que salga error y deje de correr el bucle, se utiliza el comando 'try' y 'except' para que cuando en la base de datos no tenga la\n",
    "# combinación requerida de año, mes y día, pase al siguiente paso del bucle.\n",
    "\n",
    "# Finalmente, a partir del bucle mencionado se importará cada uno de los excel que contienen la información mensual de las tasas de interés de los bancos y se generará un DataFrame (df) por cada mes identificándolo con un número generado a partir de un contador. Este contador nos servirá para: identificar el df donde empieza y termina el cambio de formato de los excel.\n",
    "\n",
    "contador = 0\n",
    "for anio in range(2001, 2023):\n",
    "    for mes in range(1,13):\n",
    "        for dia in range(26,32):\n",
    "            try:\n",
    "                df = pd.read_excel(r\"../../_data\\sbs\\B_RawData\\bancos\\table_clean_\"+str(dia)+\"_\"+str(mes)+\"_\"+str(anio)+\".xlsx\")\n",
    "                df[\"id_df\"] = contador                          #Almacenamos el número de orden del df en una variable\n",
    "                df[\"date_info\"] = date.date(anio, mes, dia)     #Almacenamos la fecha del excel en una variable\n",
    "                locals()[f'df{contador}'] = df                  #Generamos un nuevo df con el 'id' del contador\n",
    "                contador+=1                                     #Hacemos que el contador crezca solo si se genera una base de datos\n",
    "                if anio == 2010 and mes == 8 and dia == 31:     #Es la fecha en la que empieza cambia de formato\n",
    "                    limite = contador\n",
    "                elif anio == 2001 and mes == 3 and dia == 31:   #En el primer archivo no hay problema de formato\n",
    "                    inicio = contador\n",
    "                else:\n",
    "                    continue\n",
    "            except:\n",
    "                continue\n",
    "\n",
    "print(f'Se exportaron satisfactoriamente ' + str(contador) + ' archivos excel')\n",
    "print(f'El formato es distinto entre el df' + str(inicio) + ' y el df' + str(limite))"
   ],
   "metadata": {
    "collapsed": false
   }
  },
  {
   "cell_type": "markdown",
   "source": [
    "# Answer 2:"
   ],
   "metadata": {
    "collapsed": false
   }
  },
  {
   "cell_type": "code",
   "execution_count": 3,
   "outputs": [],
   "source": [
    "# Antes de poder juntar todas las bases debemos trabajar los df para el periodo donde se tiene un formato distinto. Para ello, se generará un bucle con la ayuda\n",
    "# de los objetos 'inicio' y 'limite' generados en la pregunta anterior. El objetivo de este bucle es modificar el formato de las tablas entre el 2002 hasta\n",
    "# agosto de 2010. Nuevamente, como no hay df para todos los números entre 'inicio' y 'límite' se utiliza el comando 'try' y 'except' para que funcione el bucle\n",
    "\n",
    "for data in range(inicio,limite):\n",
    "    alterna = locals()[f'df{data}']                #En esta línea generamos un df \"comodín\" denominado alterna que usaremos para cambiar el formato de los df.\n",
    "    fecha = alterna.iloc[ -1 ,-1]                  #Generamos un objeto denominado fecha, que almacene la fecha de cada df\n",
    "    id = alterna.iloc[-1,-2]                       #Generamos un objeto denominado id que almacena el # de contador asociado a la tabla\n",
    "    alterna = alterna.rename(columns={ 'Unnamed: 0':''})\n",
    "    alterna = alterna.iloc[ 1:-1 , 0:-2].T         #Transponemos el df y eliminamos la fila y id de fecha para solo quedarnos con las tasas de interés\n",
    "    alterna.columns = alterna.iloc[0]              #Modificamos los index de columnas para que sean los bancos (primera fila de los df)\n",
    "    alterna = alterna.iloc[1:]                     #Dropeamos la primera fila que contiene la info de los bancos\n",
    "    alterna.columns = alterna.columns.str.lower()  #Modificamos los nombres de las variables para que estén en minúsculas\n",
    "    alterna[\"Tasa Anual (%)\"] = alterna.iloc[:,0]  #Generamos una variable denominada \"Tasa Anual (%)\" con la info de los tipos de crédito. Esto porque no nos permite modificar un NaN\n",
    "    alterna = alterna.iloc[: , 1:]                 #Eliminamos la columna \"NaN\"\n",
    "    alterna = alterna[['Tasa Anual (%)'] + [col for col in alterna.columns if col != 'Tasa Anual (%)']] #Ahora reordenamos las columnas, para que Tasa Anual sea la primera\n",
    "    alterna = alterna.reset_index().iloc[: , 1:]\n",
    "    alterna[\"date_info\"] = fecha                   #Generamos la variable fecha utilizando el objeto fecha\n",
    "    alterna[\"id_df\"] = id                          #Generamos la variable id_df utilizando el objeto id\n",
    "    locals()[f'df{data}'] = alterna                #Actualizamos el df con el df comodín que se generó en el bucle\n"
   ],
   "metadata": {
    "collapsed": false
   }
  },
  {
   "cell_type": "code",
   "execution_count": 4,
   "outputs": [],
   "source": [
    "# Como algunos meses los bancos están con mayúsculas, otros con minúsculas hemos generado un bucle para modificar las minúsculas/mayúsculas de cada variable\n",
    "for data in range(0,contador):\n",
    "    alterna = locals()[f'df{data}']\n",
    "    alterna.columns = alterna.columns.str.lower()"
   ],
   "metadata": {
    "collapsed": false
   }
  },
  {
   "cell_type": "code",
   "execution_count": 9,
   "outputs": [
    {
     "data": {
      "text/plain": "                                       tasa anual (%)   bbva comercio crédito  \\\n0                                        Corporativos   2.69     5.50    2.90   \n1                                          Descuentos   4.11     5.50    3.57   \n2                             Préstamos hasta 30 días   2.81        -    2.62   \n3                           Préstamos de 31 a 90 días   2.74        -    2.84   \n4                          Préstamos de 91 a 180 días   3.07        -    3.33   \n..                                                ...    ...      ...     ...   \n41  Préstamos no Revolventes para libre disponibil...  22.13    33.35   63.03   \n42  Préstamos no Revolventes para libre disponibil...  18.22    14.66   18.99   \n43                             Créditos pignoraticios      -    42.40       -   \n44                                       Hipotecarios   9.28     9.08    9.27   \n45               Préstamos hipotecarios para vivienda   9.28     9.08    9.27   \n\n   pichincha    bif scotiabank citibank interbank mibanco  ... continental  \\\n0       5.93   4.09       3.62        -      4.22       -  ...         NaN   \n1       5.11   4.27       4.12        -      3.98       -  ...         NaN   \n2          -   3.00       2.48        -      4.27       -  ...         NaN   \n3       3.73   3.64       5.51        -      4.74       -  ...         NaN   \n4       5.26   4.21       3.32        -      3.64       -  ...         NaN   \n..       ...    ...        ...      ...       ...     ...  ...         ...   \n41     26.69  10.00      26.47        -     28.87   66.89  ...         NaN   \n42     33.05  13.39      17.84        -     21.23   37.15  ...         NaN   \n43         -      -          -        -         -       -  ...         NaN   \n44      8.72   9.23       8.61        -      8.73   15.54  ...         NaN   \n45      8.72   9.23       8.61        -      8.73   15.54  ...         NaN   \n\n   financiero azteca deutsche azteca  * cencosud banco gnb financiero  *  cat  \\\n0         NaN    NaN      NaN       NaN      NaN       NaN           NaN  NaN   \n1         NaN    NaN      NaN       NaN      NaN       NaN           NaN  NaN   \n2         NaN    NaN      NaN       NaN      NaN       NaN           NaN  NaN   \n3         NaN    NaN      NaN       NaN      NaN       NaN           NaN  NaN   \n4         NaN    NaN      NaN       NaN      NaN       NaN           NaN  NaN   \n..        ...    ...      ...       ...      ...       ...           ...  ...   \n41        NaN    NaN      NaN       NaN      NaN       NaN           NaN  NaN   \n42        NaN    NaN      NaN       NaN      NaN       NaN           NaN  NaN   \n43        NaN    NaN      NaN       NaN      NaN       NaN           NaN  NaN   \n44        NaN    NaN      NaN       NaN      NaN       NaN           NaN  NaN   \n45        NaN    NaN      NaN       NaN      NaN       NaN           NaN  NaN   \n\n    bci  \n0   NaN  \n1   NaN  \n2   NaN  \n3   NaN  \n4   NaN  \n..  ...  \n41    -  \n42    -  \n43    -  \n44    -  \n45    -  \n\n[9152 rows x 51 columns]",
      "text/html": "<div>\n<style scoped>\n    .dataframe tbody tr th:only-of-type {\n        vertical-align: middle;\n    }\n\n    .dataframe tbody tr th {\n        vertical-align: top;\n    }\n\n    .dataframe thead th {\n        text-align: right;\n    }\n</style>\n<table border=\"1\" class=\"dataframe\">\n  <thead>\n    <tr style=\"text-align: right;\">\n      <th></th>\n      <th>tasa anual (%)</th>\n      <th>bbva</th>\n      <th>comercio</th>\n      <th>crédito</th>\n      <th>pichincha</th>\n      <th>bif</th>\n      <th>scotiabank</th>\n      <th>citibank</th>\n      <th>interbank</th>\n      <th>mibanco</th>\n      <th>...</th>\n      <th>continental</th>\n      <th>financiero</th>\n      <th>azteca</th>\n      <th>deutsche</th>\n      <th>azteca  *</th>\n      <th>cencosud</th>\n      <th>banco gnb</th>\n      <th>financiero  *</th>\n      <th>cat</th>\n      <th>bci</th>\n    </tr>\n  </thead>\n  <tbody>\n    <tr>\n      <th>0</th>\n      <td>Corporativos</td>\n      <td>2.69</td>\n      <td>5.50</td>\n      <td>2.90</td>\n      <td>5.93</td>\n      <td>4.09</td>\n      <td>3.62</td>\n      <td>-</td>\n      <td>4.22</td>\n      <td>-</td>\n      <td>...</td>\n      <td>NaN</td>\n      <td>NaN</td>\n      <td>NaN</td>\n      <td>NaN</td>\n      <td>NaN</td>\n      <td>NaN</td>\n      <td>NaN</td>\n      <td>NaN</td>\n      <td>NaN</td>\n      <td>NaN</td>\n    </tr>\n    <tr>\n      <th>1</th>\n      <td>Descuentos</td>\n      <td>4.11</td>\n      <td>5.50</td>\n      <td>3.57</td>\n      <td>5.11</td>\n      <td>4.27</td>\n      <td>4.12</td>\n      <td>-</td>\n      <td>3.98</td>\n      <td>-</td>\n      <td>...</td>\n      <td>NaN</td>\n      <td>NaN</td>\n      <td>NaN</td>\n      <td>NaN</td>\n      <td>NaN</td>\n      <td>NaN</td>\n      <td>NaN</td>\n      <td>NaN</td>\n      <td>NaN</td>\n      <td>NaN</td>\n    </tr>\n    <tr>\n      <th>2</th>\n      <td>Préstamos hasta 30 días</td>\n      <td>2.81</td>\n      <td>-</td>\n      <td>2.62</td>\n      <td>-</td>\n      <td>3.00</td>\n      <td>2.48</td>\n      <td>-</td>\n      <td>4.27</td>\n      <td>-</td>\n      <td>...</td>\n      <td>NaN</td>\n      <td>NaN</td>\n      <td>NaN</td>\n      <td>NaN</td>\n      <td>NaN</td>\n      <td>NaN</td>\n      <td>NaN</td>\n      <td>NaN</td>\n      <td>NaN</td>\n      <td>NaN</td>\n    </tr>\n    <tr>\n      <th>3</th>\n      <td>Préstamos de 31 a 90 días</td>\n      <td>2.74</td>\n      <td>-</td>\n      <td>2.84</td>\n      <td>3.73</td>\n      <td>3.64</td>\n      <td>5.51</td>\n      <td>-</td>\n      <td>4.74</td>\n      <td>-</td>\n      <td>...</td>\n      <td>NaN</td>\n      <td>NaN</td>\n      <td>NaN</td>\n      <td>NaN</td>\n      <td>NaN</td>\n      <td>NaN</td>\n      <td>NaN</td>\n      <td>NaN</td>\n      <td>NaN</td>\n      <td>NaN</td>\n    </tr>\n    <tr>\n      <th>4</th>\n      <td>Préstamos de 91 a 180 días</td>\n      <td>3.07</td>\n      <td>-</td>\n      <td>3.33</td>\n      <td>5.26</td>\n      <td>4.21</td>\n      <td>3.32</td>\n      <td>-</td>\n      <td>3.64</td>\n      <td>-</td>\n      <td>...</td>\n      <td>NaN</td>\n      <td>NaN</td>\n      <td>NaN</td>\n      <td>NaN</td>\n      <td>NaN</td>\n      <td>NaN</td>\n      <td>NaN</td>\n      <td>NaN</td>\n      <td>NaN</td>\n      <td>NaN</td>\n    </tr>\n    <tr>\n      <th>...</th>\n      <td>...</td>\n      <td>...</td>\n      <td>...</td>\n      <td>...</td>\n      <td>...</td>\n      <td>...</td>\n      <td>...</td>\n      <td>...</td>\n      <td>...</td>\n      <td>...</td>\n      <td>...</td>\n      <td>...</td>\n      <td>...</td>\n      <td>...</td>\n      <td>...</td>\n      <td>...</td>\n      <td>...</td>\n      <td>...</td>\n      <td>...</td>\n      <td>...</td>\n      <td>...</td>\n    </tr>\n    <tr>\n      <th>41</th>\n      <td>Préstamos no Revolventes para libre disponibil...</td>\n      <td>22.13</td>\n      <td>33.35</td>\n      <td>63.03</td>\n      <td>26.69</td>\n      <td>10.00</td>\n      <td>26.47</td>\n      <td>-</td>\n      <td>28.87</td>\n      <td>66.89</td>\n      <td>...</td>\n      <td>NaN</td>\n      <td>NaN</td>\n      <td>NaN</td>\n      <td>NaN</td>\n      <td>NaN</td>\n      <td>NaN</td>\n      <td>NaN</td>\n      <td>NaN</td>\n      <td>NaN</td>\n      <td>-</td>\n    </tr>\n    <tr>\n      <th>42</th>\n      <td>Préstamos no Revolventes para libre disponibil...</td>\n      <td>18.22</td>\n      <td>14.66</td>\n      <td>18.99</td>\n      <td>33.05</td>\n      <td>13.39</td>\n      <td>17.84</td>\n      <td>-</td>\n      <td>21.23</td>\n      <td>37.15</td>\n      <td>...</td>\n      <td>NaN</td>\n      <td>NaN</td>\n      <td>NaN</td>\n      <td>NaN</td>\n      <td>NaN</td>\n      <td>NaN</td>\n      <td>NaN</td>\n      <td>NaN</td>\n      <td>NaN</td>\n      <td>-</td>\n    </tr>\n    <tr>\n      <th>43</th>\n      <td>Créditos pignoraticios</td>\n      <td>-</td>\n      <td>42.40</td>\n      <td>-</td>\n      <td>-</td>\n      <td>-</td>\n      <td>-</td>\n      <td>-</td>\n      <td>-</td>\n      <td>-</td>\n      <td>...</td>\n      <td>NaN</td>\n      <td>NaN</td>\n      <td>NaN</td>\n      <td>NaN</td>\n      <td>NaN</td>\n      <td>NaN</td>\n      <td>NaN</td>\n      <td>NaN</td>\n      <td>NaN</td>\n      <td>-</td>\n    </tr>\n    <tr>\n      <th>44</th>\n      <td>Hipotecarios</td>\n      <td>9.28</td>\n      <td>9.08</td>\n      <td>9.27</td>\n      <td>8.72</td>\n      <td>9.23</td>\n      <td>8.61</td>\n      <td>-</td>\n      <td>8.73</td>\n      <td>15.54</td>\n      <td>...</td>\n      <td>NaN</td>\n      <td>NaN</td>\n      <td>NaN</td>\n      <td>NaN</td>\n      <td>NaN</td>\n      <td>NaN</td>\n      <td>NaN</td>\n      <td>NaN</td>\n      <td>NaN</td>\n      <td>-</td>\n    </tr>\n    <tr>\n      <th>45</th>\n      <td>Préstamos hipotecarios para vivienda</td>\n      <td>9.28</td>\n      <td>9.08</td>\n      <td>9.27</td>\n      <td>8.72</td>\n      <td>9.23</td>\n      <td>8.61</td>\n      <td>-</td>\n      <td>8.73</td>\n      <td>15.54</td>\n      <td>...</td>\n      <td>NaN</td>\n      <td>NaN</td>\n      <td>NaN</td>\n      <td>NaN</td>\n      <td>NaN</td>\n      <td>NaN</td>\n      <td>NaN</td>\n      <td>NaN</td>\n      <td>NaN</td>\n      <td>-</td>\n    </tr>\n  </tbody>\n</table>\n<p>9152 rows × 51 columns</p>\n</div>"
     },
     "execution_count": 9,
     "metadata": {},
     "output_type": "execute_result"
    }
   ],
   "source": [
    "# Creamos un df que contenga la base de datos generada y utilizamos un bucle para concatenar los dataframes\n",
    "df_final = df0\n",
    "for data in range(1, contador):\n",
    "    df_final = pd.concat([df_final , locals()[f'df{data}']])\n",
    "\n",
    "df_final"
   ],
   "metadata": {
    "collapsed": false
   }
  },
  {
   "cell_type": "markdown",
   "source": [
    "# Answer 3:"
   ],
   "metadata": {
    "collapsed": false
   }
  },
  {
   "cell_type": "code",
   "execution_count": 6,
   "outputs": [
    {
     "name": "stderr",
     "output_type": "stream",
     "text": [
      "C:\\Users\\canun\\AppData\\Local\\Temp\\ipykernel_6484\\340839837.py:5: SettingWithCopyWarning: \n",
      "A value is trying to be set on a copy of a slice from a DataFrame\n",
      "\n",
      "See the caveats in the documentation: https://pandas.pydata.org/pandas-docs/stable/user_guide/indexing.html#returning-a-view-versus-a-copy\n",
      "  df_final[\"year\"].iloc[cont] = obs.strftime(\"%Y\")\n"
     ]
    }
   ],
   "source": [
    "# Generamos la variable año en la base de datos\n",
    "cont = 0\n",
    "df_final[\"year\"] = \"\"\n",
    "for obs in df_final['date_info']:\n",
    "    df_final[\"year\"].iloc[cont] = obs.strftime(\"%Y\")\n",
    "    cont+=1\n",
    "\n",
    "# Se ha identificado que la forma de denominar crédito hipotecario o crédito de consumo ha variado durante el periodo de análisis, por lo que hacemos un cambio para uniformizar la denominación en toda la base de datos.\n",
    "df_final.loc[df_final['tasa anual (%)'] == \"HIPOTECARIO\", 'tasa anual (%)'] = 'Préstamos hipotecarios para vivienda'\n",
    "df_final.loc[df_final['tasa anual (%)'] == \"Hipotecarios\", 'tasa anual (%)'] = 'Préstamos hipotecarios para vivienda'\n",
    "df_final.loc[df_final['tasa anual (%)'] == \"PRÉSTAMOS HIPOTECARIOS\", 'tasa anual (%)'] = 'Préstamos hipotecarios para vivienda'\n",
    "\n",
    "df_final.loc[df_final['tasa anual (%)'] == \"Consumo\", 'tasa anual (%)'] = 'Consumo - Tarjeta de crédito'\n",
    "df_final.loc[df_final['tasa anual (%)'] == \"Tarjetas de Crédito\", 'tasa anual (%)'] = 'Consumo - Tarjeta de crédito'\n",
    "df_final.loc[df_final['tasa anual (%)'] == \"Tarjetas de crédito\", 'tasa anual (%)'] = 'Consumo - Tarjeta de crédito'\n",
    "df_final.loc[df_final['tasa anual (%)'] == \"Tarjetas de crédito cerradas5\", 'tasa anual (%)'] = 'Consumo - Tarjeta de crédito'\n",
    "df_final.loc[df_final['tasa anual (%)'] == \"Tarjetas de crédito abiertas4\", 'tasa anual (%)'] = 'Consumo - Tarjeta de crédito'\n",
    "df_final.loc[df_final['tasa anual (%)'] == \"Tarjetas de Crdito\", 'tasa anual (%)'] = 'Consumo - Tarjeta de crédito'\n",
    "\n",
    "# Ahora filtramos la base de datos para que solo cuente con los tipos de créditos de interés\n",
    "condition_1 = df_final['tasa anual (%)'] == \"Préstamos hipotecarios para vivienda\"\n",
    "condition_2 = df_final['tasa anual (%)'] == \"Consumo - Tarjeta de crédito\"\n",
    "df_filtrada = df_final[condition_1 | condition_2 ]\n"
   ],
   "metadata": {
    "collapsed": false
   }
  },
  {
   "cell_type": "code",
   "execution_count": 7,
   "outputs": [],
   "source": [
    "# Como la base de datos la tenemos en formato wide, debemos hacer un reshape wide to long utilizando las variables con los nombres de cada banco\n",
    "melt_df_filtrada = df_filtrada.melt(id_vars=['year', 'tasa anual (%)'], value_vars=[ 'bbva', 'comercio', 'crédito', 'pichincha', 'bif', 'scotiabank', 'citibank', 'interbank', 'mibanco', 'gnb', 'falabella', 'santander', 'ripley', 'alfin', 'icbc', 'bank of china', 'trabajo', 'banco de comercio', 'banco de credito', 'banco pichincha', 'banbif', 'b santander central', 'standard chartered', 'banco sudamericano', 'wiese sudameris', 'bank boston', 'bnp paribas el', 'citibank del peru', 'scotiabank peru', 'hsbc(*)', 'hsbc', 'banco falabella', 'santander peru', 'banco ripley', 'alfin banco', 'deutsche bank peru', 'continental', 'financiero', 'azteca', 'deutsche', 'azteca  *', 'cencosud', 'banco gnb', 'financiero  *', 'cat', 'bci'], value_name='tasa')\n",
    "\n",
    "# Como a lo largo de los años, los bancos han cambiado de nombre o se han escrito de manera distinta, generamos un diccionario que contiene los nombres de los bancos para luego poder realizar reemplazos a partir de este diccionario.\n",
    "dict_bancos = {'continental': 'bbva', 'banco de comercio': 'comercio', 'banco de credito': 'crédito', 'banco pichincha': 'pichincha', 'financiero': 'pichincha', 'financiero  *': 'pichincha', 'banbif': 'bif', 'scotiabank peru': 'scotiabank', 'banco sudamericano': 'scotiabank', 'wiese sudameris': 'scotiabank', 'citibank del peru': 'citibank', 'banco gnb': 'gnb', 'hsbc(*)': 'gnb', 'hsbc': 'gnb', 'banco falabella': 'falabella', 'b santander central': 'santander', 'santander peru': 'santander', 'banco ripley': 'ripley', 'alfin banco': 'alfin', 'azteca': 'alfin', 'azteca  *': 'alfin', 'deutsche bank peru': 'deutsche', 'trabajo': 'trabajo', 'standard chartered': 'standard chartered', 'bank boston': 'bank boston', 'bnp paribas el': 'bnp paribas el', 'cencosud': 'cencosud', 'cat': 'cat', 'bci': 'bci', 'bbva':'bbva', 'comercio':'comercio', 'crédito':'crédito', 'pichincha':'pichincha', 'bif':'bif', 'scotiabank':'scotiabank', 'citibank':'citibank', 'gnb':'gnb' , 'falabella':'falabella', 'santander':'santander' , 'ripley':'ripley', 'alfin':'alfin', 'deutsche' :'deutsche', 'interbank' : 'interbank', 'icbc' : 'icbc', 'bank of china' : 'bank of china', 'mibanco':'mibanco'}\n",
    "\n",
    "# Reemplazamos los valores a partir del diccionario creado\n",
    "melt_df_filtrada['variable'] = melt_df_filtrada['variable'].map(dict_bancos)\n"
   ],
   "metadata": {
    "collapsed": false
   }
  },
  {
   "cell_type": "code",
   "execution_count": 11,
   "outputs": [
    {
     "data": {
      "text/plain": "       year                          rate_concept      banks  rate_value\n9155   2001  Préstamos hipotecarios para vivienda    mibanco       14.25\n1147   2001  Préstamos hipotecarios para vivienda   comercio        8.24\n3435   2001  Préstamos hipotecarios para vivienda  pichincha        8.20\n10299  2001  Préstamos hipotecarios para vivienda        gnb        7.69\n4579   2001  Préstamos hipotecarios para vivienda        bif        6.88\n...     ...                                   ...        ...         ...\n12576  2022          Consumo - Tarjeta de crédito  falabella       79.81\n12571  2022          Consumo - Tarjeta de crédito  falabella       79.16\n12566  2022          Consumo - Tarjeta de crédito  falabella       79.03\n12581  2022          Consumo - Tarjeta de crédito  falabella       78.89\n12561  2022          Consumo - Tarjeta de crédito  falabella       78.44\n\n[220 rows x 4 columns]",
      "text/html": "<div>\n<style scoped>\n    .dataframe tbody tr th:only-of-type {\n        vertical-align: middle;\n    }\n\n    .dataframe tbody tr th {\n        vertical-align: top;\n    }\n\n    .dataframe thead th {\n        text-align: right;\n    }\n</style>\n<table border=\"1\" class=\"dataframe\">\n  <thead>\n    <tr style=\"text-align: right;\">\n      <th></th>\n      <th>year</th>\n      <th>rate_concept</th>\n      <th>banks</th>\n      <th>rate_value</th>\n    </tr>\n  </thead>\n  <tbody>\n    <tr>\n      <th>9155</th>\n      <td>2001</td>\n      <td>Préstamos hipotecarios para vivienda</td>\n      <td>mibanco</td>\n      <td>14.25</td>\n    </tr>\n    <tr>\n      <th>1147</th>\n      <td>2001</td>\n      <td>Préstamos hipotecarios para vivienda</td>\n      <td>comercio</td>\n      <td>8.24</td>\n    </tr>\n    <tr>\n      <th>3435</th>\n      <td>2001</td>\n      <td>Préstamos hipotecarios para vivienda</td>\n      <td>pichincha</td>\n      <td>8.20</td>\n    </tr>\n    <tr>\n      <th>10299</th>\n      <td>2001</td>\n      <td>Préstamos hipotecarios para vivienda</td>\n      <td>gnb</td>\n      <td>7.69</td>\n    </tr>\n    <tr>\n      <th>4579</th>\n      <td>2001</td>\n      <td>Préstamos hipotecarios para vivienda</td>\n      <td>bif</td>\n      <td>6.88</td>\n    </tr>\n    <tr>\n      <th>...</th>\n      <td>...</td>\n      <td>...</td>\n      <td>...</td>\n      <td>...</td>\n    </tr>\n    <tr>\n      <th>12576</th>\n      <td>2022</td>\n      <td>Consumo - Tarjeta de crédito</td>\n      <td>falabella</td>\n      <td>79.81</td>\n    </tr>\n    <tr>\n      <th>12571</th>\n      <td>2022</td>\n      <td>Consumo - Tarjeta de crédito</td>\n      <td>falabella</td>\n      <td>79.16</td>\n    </tr>\n    <tr>\n      <th>12566</th>\n      <td>2022</td>\n      <td>Consumo - Tarjeta de crédito</td>\n      <td>falabella</td>\n      <td>79.03</td>\n    </tr>\n    <tr>\n      <th>12581</th>\n      <td>2022</td>\n      <td>Consumo - Tarjeta de crédito</td>\n      <td>falabella</td>\n      <td>78.89</td>\n    </tr>\n    <tr>\n      <th>12561</th>\n      <td>2022</td>\n      <td>Consumo - Tarjeta de crédito</td>\n      <td>falabella</td>\n      <td>78.44</td>\n    </tr>\n  </tbody>\n</table>\n<p>220 rows × 4 columns</p>\n</div>"
     },
     "execution_count": 11,
     "metadata": {},
     "output_type": "execute_result"
    }
   ],
   "source": [
    "# Hemos identificado que en algunos años no hay datos ('NaN' o '-' o 's.i') por lo tanto, realizamos un cambio de las variables a valores numéricos utilizanod la función pd.to_numeric\n",
    "melt_df_filtrada['tasa'] = pd.to_numeric(melt_df_filtrada['tasa'], errors='coerce')\n",
    "\n",
    "# Ahora, como debemos generar una base de datos donde únicamente se muestren las 5 mayores tasas de cada año, hemos generado un bucle a partir de dos listas. La primera \"year_list\" contiene todos los valores únicos de la variable \"year\" de la base de datos. La segunda \"tasa_list\" contiene los valores de los tipos de crédito que estamos analizando.\n",
    "\n",
    "year_list = list(set(melt_df_filtrada['year']))\n",
    "tasa_list = list(set(melt_df_filtrada['tasa anual (%)']))\n",
    "\n",
    "# Generamos un contador que nos va a servir únicamente para poder generar la base de datos final 'df_top5'. Es decir, para que solo realice la acción de crear df_top5 en el primer paso del bucle y para lso demás concatene los df generados en el bucle.\n",
    "contador3 = 0\n",
    "for year in year_list:\n",
    "    for rate in tasa_list:\n",
    "        contador3+=1                                                    # Hacemos que crezca el contador\n",
    "        condition_3 = melt_df_filtrada['year'] == year                  # Generamos una condición para filtrar para el año en mención\n",
    "        condition_4 = melt_df_filtrada['tasa anual (%)'] == rate        # Generamos una condición para filtrar para el tipo de crédito\n",
    "        df_alterna = melt_df_filtrada[condition_3 & condition_4]        # Filtramos la base de datos al año y tipo de crédito\n",
    "        if rate == \"Consumo - Tarjeta de crédito\":                      # Generamos un condicional para que si el bucle en el que estamos es de crédito de consumo, ordene la base de datos en forma ascendente y al contrario si estamos en el bucle de crédito hipotecario\n",
    "            df_alterna = df_alterna.sort_values(by=['tasa anual (%)' , 'tasa'], ascending=[True, False])\n",
    "        else:\n",
    "            df_alterna = df_alterna.sort_values(by=['tasa anual (%)' , 'tasa'], ascending=[False, False])\n",
    "        df_alterna = df_alterna.drop_duplicates()\n",
    "        df_alterna = df_alterna.iloc[0:5, :]                            #Filtramos para quedarnos solo con los 5 primeros valores\n",
    "        if contador3 == 1 :                                             #Utilizamos el contador generado al inicio del bucle para crear o concatenar las bases de datos\n",
    "            df_top5 = df_alterna\n",
    "        else:\n",
    "            df_top5 = pd.concat([df_top5 , df_alterna])\n",
    "\n",
    "# Finalmente, con la base de datos final realizamos el cambio de nombres y ordenamos la data en función al año, tipo de crédito y valor de la tasa\n",
    "df_top5 = df_top5.rename(columns={ 'tasa anual (%)':'rate_concept', 'variable':'banks', 'tasa':'rate_value'})\n",
    "df_top5 = df_top5.sort_values(by=['year', 'rate_concept' , 'rate_value'], ascending=[True, False, False])\n",
    "\n",
    "df_top5"
   ],
   "metadata": {
    "collapsed": false
   }
  },
  {
   "cell_type": "markdown",
   "source": [
    "# Answer 4:"
   ],
   "metadata": {
    "collapsed": false
   }
  },
  {
   "cell_type": "code",
   "execution_count": 31,
   "outputs": [],
   "source": [
    "# Utilizando el paquete os y la función mkdir generamos la carpeta nueva en el repositorio de GitHub del curso.\n",
    "os.mkdir(r\"../../_output\\sbs\\group_9\")\n",
    "# Nombramos el path para utilizarlo en el bucle final\n",
    "relative_path = Path(r\"../../_output\\sbs\\group_9\")\n",
    "\n",
    "# Debido a que existe la posibilidad de que los nombres de los bancos tengan espacio, generamos un buclea para eliminar los espacios en blanco y reemplazarlos por \"_\"\n",
    "bank_list = list(set(df_top5['banks']))\n",
    "contador4 =0\n",
    "for bank in bank_list:\n",
    "    bank_list[contador4] = bank_list[contador4].replace(\" \", \"_\")\n",
    "    contador4+=1\n",
    "\n",
    "# Finalmente, generamos un bucle para generar un archivo csv para cada banco que se encuentre en la base de los top5 de cada año y tipo de crédito. Esto lo hacemos con la función to.csv y utilizando el relative path generado anteriormente\n",
    "for bank in bank_list:\n",
    "    condition = df_top5['banks'] == bank\n",
    "    bank_alterna = df_top5[condition]\n",
    "    bank_alterna.to_csv(f\"{relative_path}/{bank}.csv\", index= False )\n"
   ],
   "metadata": {
    "collapsed": false
   }
  }
 ],
 "metadata": {
  "hide_input": false,
  "kernelspec": {
   "display_name": "Python 3",
   "language": "python",
   "name": "python3"
  },
  "language_info": {
   "codemirror_mode": {
    "name": "ipython",
    "version": 3
   },
   "file_extension": ".py",
   "mimetype": "text/x-python",
   "name": "python",
   "nbconvert_exporter": "python",
   "pygments_lexer": "ipython3",
   "version": "3.8.6"
  },
  "toc": {
   "base_numbering": 1,
   "nav_menu": {},
   "number_sections": true,
   "sideBar": true,
   "skip_h1_title": false,
   "title_cell": "Table of Contents",
   "title_sidebar": "Contents",
   "toc_cell": false,
   "toc_position": {},
   "toc_section_display": true,
   "toc_window_display": false
  }
 },
 "nbformat": 4,
 "nbformat_minor": 4
}

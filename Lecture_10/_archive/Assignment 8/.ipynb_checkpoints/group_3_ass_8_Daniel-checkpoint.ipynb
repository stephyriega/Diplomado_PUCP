{
 "cells": [
  {
   "cell_type": "code",
   "execution_count": 28,
   "id": "3cc97ccf",
   "metadata": {},
   "outputs": [
    {
     "data": {
      "text/html": [
       "\n",
       "<style>\n",
       "    div#notebook-container    { width: 95%; }\n",
       "    div#menubar-container     { width: 65%; }\n",
       "    div#maintoolbar-container { width: 99%; }a\n",
       "</style>\n"
      ],
      "text/plain": [
       "<IPython.core.display.HTML object>"
      ]
     },
     "metadata": {},
     "output_type": "display_data"
    }
   ],
   "source": [
    "from IPython.display import display, HTML\n",
    "\n",
    "display(HTML(data=\"\"\"\n",
    "<style>\n",
    "    div#notebook-container    { width: 95%; }\n",
    "    div#menubar-container     { width: 65%; }\n",
    "    div#maintoolbar-container { width: 99%; }a\n",
    "</style>\n",
    "\"\"\"))"
   ]
  },
  {
   "cell_type": "code",
   "execution_count": 1,
   "id": "5d6b4279",
   "metadata": {},
   "outputs": [],
   "source": [
    "import pandas as pd\n",
    "from pandas import Series, DataFrame\n",
    "import numpy as np\n",
    "import matplotlib.pyplot as plt \n",
    "import chardet"
   ]
  },
  {
   "cell_type": "code",
   "execution_count": 2,
   "id": "834dc33f",
   "metadata": {},
   "outputs": [],
   "source": [
    "import geopandas as gpd\n",
    "from geopandas import GeoSeries\n",
    "from shapely.geometry import Point, LineString\n",
    "import folium \n",
    "from folium import Marker, GeoJson\n",
    "from folium.plugins import MarkerCluster, HeatMap"
   ]
  },
  {
   "cell_type": "markdown",
   "id": "d25fdf99",
   "metadata": {},
   "source": [
    "#### 2. Import the data located at this link. It has information on people infected with dengue at the district level for 2015 to 2021."
   ]
  },
  {
   "cell_type": "code",
   "execution_count": 44,
   "id": "102c9561",
   "metadata": {},
   "outputs": [
    {
     "name": "stderr",
     "output_type": "stream",
     "text": [
      "C:\\Users\\Liliana\\AppData\\Local\\Temp\\ipykernel_12296\\1423518656.py:1: DtypeWarning: Columns (7) have mixed types. Specify dtype option on import or set low_memory=False.\n",
      "  dengue = pd.read_csv(r'../../_data/data_dengue_peru.csv')\n"
     ]
    },
    {
     "data": {
      "text/html": [
       "<div>\n",
       "<style scoped>\n",
       "    .dataframe tbody tr th:only-of-type {\n",
       "        vertical-align: middle;\n",
       "    }\n",
       "\n",
       "    .dataframe tbody tr th {\n",
       "        vertical-align: top;\n",
       "    }\n",
       "\n",
       "    .dataframe thead th {\n",
       "        text-align: right;\n",
       "    }\n",
       "</style>\n",
       "<table border=\"1\" class=\"dataframe\">\n",
       "  <thead>\n",
       "    <tr style=\"text-align: right;\">\n",
       "      <th></th>\n",
       "      <th>Año</th>\n",
       "      <th>Semana</th>\n",
       "      <th>Eventos o daños</th>\n",
       "      <th>Departamento</th>\n",
       "      <th>Distrito</th>\n",
       "      <th>Provincia</th>\n",
       "      <th>Ubigeo</th>\n",
       "      <th>Casos</th>\n",
       "    </tr>\n",
       "  </thead>\n",
       "  <tbody>\n",
       "    <tr>\n",
       "      <th>0</th>\n",
       "      <td>2020</td>\n",
       "      <td>43</td>\n",
       "      <td>Dengue</td>\n",
       "      <td>CUSCO</td>\n",
       "      <td>MEGANTONI</td>\n",
       "      <td>LA CONVENCION</td>\n",
       "      <td>80914</td>\n",
       "      <td>2.0</td>\n",
       "    </tr>\n",
       "    <tr>\n",
       "      <th>1</th>\n",
       "      <td>2021</td>\n",
       "      <td>41</td>\n",
       "      <td>Dengue</td>\n",
       "      <td>MOQUEGUA</td>\n",
       "      <td>MOQUEGUA</td>\n",
       "      <td>MARISCAL NIETO</td>\n",
       "      <td>180101</td>\n",
       "      <td>NaN</td>\n",
       "    </tr>\n",
       "    <tr>\n",
       "      <th>2</th>\n",
       "      <td>2021</td>\n",
       "      <td>42</td>\n",
       "      <td>Dengue</td>\n",
       "      <td>MOQUEGUA</td>\n",
       "      <td>MOQUEGUA</td>\n",
       "      <td>MARISCAL NIETO</td>\n",
       "      <td>180101</td>\n",
       "      <td>NaN</td>\n",
       "    </tr>\n",
       "  </tbody>\n",
       "</table>\n",
       "</div>"
      ],
      "text/plain": [
       "    Año  Semana Eventos o daños Departamento   Distrito       Provincia  \\\n",
       "0  2020      43          Dengue        CUSCO  MEGANTONI   LA CONVENCION   \n",
       "1  2021      41          Dengue     MOQUEGUA   MOQUEGUA  MARISCAL NIETO   \n",
       "2  2021      42          Dengue     MOQUEGUA   MOQUEGUA  MARISCAL NIETO   \n",
       "\n",
       "   Ubigeo Casos  \n",
       "0   80914   2.0  \n",
       "1  180101   NaN  \n",
       "2  180101   NaN  "
      ]
     },
     "execution_count": 44,
     "metadata": {},
     "output_type": "execute_result"
    }
   ],
   "source": [
    "dengue = pd.read_csv(r'../../_data/data_dengue_peru.csv')\n",
    "dengue.head (3)"
   ]
  },
  {
   "cell_type": "code",
   "execution_count": 31,
   "id": "13fe1cb4",
   "metadata": {},
   "outputs": [
    {
     "data": {
      "text/plain": [
       "Año                   0\n",
       "Semana                0\n",
       "Eventos o daños       0\n",
       "Departamento          0\n",
       "Distrito              0\n",
       "Provincia             0\n",
       "Ubigeo                0\n",
       "Casos              6097\n",
       "Dpt_Ubigeo            0\n",
       "Prv_Ubigeo            0\n",
       "dtype: int64"
      ]
     },
     "execution_count": 31,
     "metadata": {},
     "output_type": "execute_result"
    }
   ],
   "source": [
    "dengue.isna().sum()"
   ]
  },
  {
   "cell_type": "markdown",
   "id": "8a757b3e",
   "metadata": {},
   "source": [
    "#### 3. Generate ubigeo for Departments and Provinces taking the first two and four numbers."
   ]
  },
  {
   "cell_type": "code",
   "execution_count": 47,
   "id": "eedae621",
   "metadata": {},
   "outputs": [],
   "source": [
    "dengue['Dpt_Ubigeo'] = dengue['Ubigeo'].astype(str).str[0:2]\n",
    "dengue['Prv_Ubigeo'] = dengue['Ubigeo'].astype(str).str[0:4]"
   ]
  },
  {
   "cell_type": "code",
   "execution_count": 48,
   "id": "f5a6d109",
   "metadata": {},
   "outputs": [
    {
     "data": {
      "text/html": [
       "<div>\n",
       "<style scoped>\n",
       "    .dataframe tbody tr th:only-of-type {\n",
       "        vertical-align: middle;\n",
       "    }\n",
       "\n",
       "    .dataframe tbody tr th {\n",
       "        vertical-align: top;\n",
       "    }\n",
       "\n",
       "    .dataframe thead th {\n",
       "        text-align: right;\n",
       "    }\n",
       "</style>\n",
       "<table border=\"1\" class=\"dataframe\">\n",
       "  <thead>\n",
       "    <tr style=\"text-align: right;\">\n",
       "      <th></th>\n",
       "      <th>Año</th>\n",
       "      <th>Semana</th>\n",
       "      <th>Eventos o daños</th>\n",
       "      <th>Departamento</th>\n",
       "      <th>Distrito</th>\n",
       "      <th>Provincia</th>\n",
       "      <th>Ubigeo</th>\n",
       "      <th>Casos</th>\n",
       "      <th>Dpt_Ubigeo</th>\n",
       "      <th>Prv_Ubigeo</th>\n",
       "    </tr>\n",
       "  </thead>\n",
       "  <tbody>\n",
       "    <tr>\n",
       "      <th>0</th>\n",
       "      <td>2020</td>\n",
       "      <td>43</td>\n",
       "      <td>Dengue</td>\n",
       "      <td>CUSCO</td>\n",
       "      <td>MEGANTONI</td>\n",
       "      <td>LA CONVENCION</td>\n",
       "      <td>80914</td>\n",
       "      <td>2.0</td>\n",
       "      <td>80</td>\n",
       "      <td>8091</td>\n",
       "    </tr>\n",
       "    <tr>\n",
       "      <th>1</th>\n",
       "      <td>2021</td>\n",
       "      <td>41</td>\n",
       "      <td>Dengue</td>\n",
       "      <td>MOQUEGUA</td>\n",
       "      <td>MOQUEGUA</td>\n",
       "      <td>MARISCAL NIETO</td>\n",
       "      <td>180101</td>\n",
       "      <td>NaN</td>\n",
       "      <td>18</td>\n",
       "      <td>1801</td>\n",
       "    </tr>\n",
       "    <tr>\n",
       "      <th>2</th>\n",
       "      <td>2021</td>\n",
       "      <td>42</td>\n",
       "      <td>Dengue</td>\n",
       "      <td>MOQUEGUA</td>\n",
       "      <td>MOQUEGUA</td>\n",
       "      <td>MARISCAL NIETO</td>\n",
       "      <td>180101</td>\n",
       "      <td>NaN</td>\n",
       "      <td>18</td>\n",
       "      <td>1801</td>\n",
       "    </tr>\n",
       "  </tbody>\n",
       "</table>\n",
       "</div>"
      ],
      "text/plain": [
       "    Año  Semana Eventos o daños Departamento   Distrito       Provincia  \\\n",
       "0  2020      43          Dengue        CUSCO  MEGANTONI   LA CONVENCION   \n",
       "1  2021      41          Dengue     MOQUEGUA   MOQUEGUA  MARISCAL NIETO   \n",
       "2  2021      42          Dengue     MOQUEGUA   MOQUEGUA  MARISCAL NIETO   \n",
       "\n",
       "   Ubigeo Casos Dpt_Ubigeo Prv_Ubigeo  \n",
       "0   80914   2.0         80       8091  \n",
       "1  180101   NaN         18       1801  \n",
       "2  180101   NaN         18       1801  "
      ]
     },
     "execution_count": 48,
     "metadata": {},
     "output_type": "execute_result"
    }
   ],
   "source": [
    "dengue.head(3)"
   ]
  },
  {
   "cell_type": "markdown",
   "id": "956216a0",
   "metadata": {},
   "source": [
    "#### 4. Use geopandas to plot the number of cases in 2021 by the district using a continuous legend. Do not forget to indicate the color of NA values. Use this shapefile."
   ]
  },
  {
   "cell_type": "code",
   "execution_count": 49,
   "id": "feb8993b",
   "metadata": {},
   "outputs": [
    {
     "data": {
      "text/html": [
       "<div>\n",
       "<style scoped>\n",
       "    .dataframe tbody tr th:only-of-type {\n",
       "        vertical-align: middle;\n",
       "    }\n",
       "\n",
       "    .dataframe tbody tr th {\n",
       "        vertical-align: top;\n",
       "    }\n",
       "\n",
       "    .dataframe thead th {\n",
       "        text-align: right;\n",
       "    }\n",
       "</style>\n",
       "<table border=\"1\" class=\"dataframe\">\n",
       "  <thead>\n",
       "    <tr style=\"text-align: right;\">\n",
       "      <th></th>\n",
       "      <th>CCDD</th>\n",
       "      <th>NOMBDEP</th>\n",
       "      <th>CCPP</th>\n",
       "      <th>NOMBPROV</th>\n",
       "      <th>CCDI</th>\n",
       "      <th>NOMBDIST</th>\n",
       "      <th>CAPITAL</th>\n",
       "      <th>UBIGEO</th>\n",
       "      <th>IDPROV</th>\n",
       "      <th>CODIGO</th>\n",
       "      <th>CNT_CCPP</th>\n",
       "      <th>DESCRIPCIO</th>\n",
       "      <th>DESCARGAR</th>\n",
       "      <th>WHATSAPP</th>\n",
       "      <th>CONTACTO</th>\n",
       "      <th>geometry</th>\n",
       "    </tr>\n",
       "  </thead>\n",
       "  <tbody>\n",
       "    <tr>\n",
       "      <th>0</th>\n",
       "      <td>06</td>\n",
       "      <td>CAJAMARCA</td>\n",
       "      <td>05</td>\n",
       "      <td>CONTUMAZA</td>\n",
       "      <td>04</td>\n",
       "      <td>GUZMANGO</td>\n",
       "      <td>GUZMANGO</td>\n",
       "      <td>060504</td>\n",
       "      <td>0605</td>\n",
       "      <td>060504</td>\n",
       "      <td>50</td>\n",
       "      <td>GUZMANGO</td>\n",
       "      <td>www.geogpsperu.com</td>\n",
       "      <td>931381206</td>\n",
       "      <td>juan.suyo@geogpsperu.com</td>\n",
       "      <td>POLYGON ((-78.91578 -7.32085, -78.91370 -7.322...</td>\n",
       "    </tr>\n",
       "    <tr>\n",
       "      <th>1</th>\n",
       "      <td>06</td>\n",
       "      <td>CAJAMARCA</td>\n",
       "      <td>11</td>\n",
       "      <td>SAN MIGUEL</td>\n",
       "      <td>05</td>\n",
       "      <td>EL PRADO</td>\n",
       "      <td>EL PRADO</td>\n",
       "      <td>061105</td>\n",
       "      <td>0611</td>\n",
       "      <td>061105</td>\n",
       "      <td>15</td>\n",
       "      <td>EL PRADO</td>\n",
       "      <td>www.geogpsperu.com</td>\n",
       "      <td>931381206</td>\n",
       "      <td>juan.suyo@geogpsperu.com</td>\n",
       "      <td>POLYGON ((-79.01679 -6.96945, -79.01581 -6.969...</td>\n",
       "    </tr>\n",
       "    <tr>\n",
       "      <th>2</th>\n",
       "      <td>06</td>\n",
       "      <td>CAJAMARCA</td>\n",
       "      <td>11</td>\n",
       "      <td>SAN MIGUEL</td>\n",
       "      <td>09</td>\n",
       "      <td>NIEPOS</td>\n",
       "      <td>NIEPOS</td>\n",
       "      <td>061109</td>\n",
       "      <td>0611</td>\n",
       "      <td>061109</td>\n",
       "      <td>41</td>\n",
       "      <td>NIEPOS</td>\n",
       "      <td>www.geogpsperu.com</td>\n",
       "      <td>931381206</td>\n",
       "      <td>juan.suyo@geogpsperu.com</td>\n",
       "      <td>POLYGON ((-79.21691 -6.85171, -79.21576 -6.851...</td>\n",
       "    </tr>\n",
       "  </tbody>\n",
       "</table>\n",
       "</div>"
      ],
      "text/plain": [
       "  CCDD    NOMBDEP CCPP    NOMBPROV CCDI  NOMBDIST   CAPITAL  UBIGEO IDPROV  \\\n",
       "0   06  CAJAMARCA   05   CONTUMAZA   04  GUZMANGO  GUZMANGO  060504   0605   \n",
       "1   06  CAJAMARCA   11  SAN MIGUEL   05  EL PRADO  EL PRADO  061105   0611   \n",
       "2   06  CAJAMARCA   11  SAN MIGUEL   09    NIEPOS    NIEPOS  061109   0611   \n",
       "\n",
       "   CODIGO  CNT_CCPP DESCRIPCIO           DESCARGAR   WHATSAPP  \\\n",
       "0  060504        50   GUZMANGO  www.geogpsperu.com  931381206   \n",
       "1  061105        15   EL PRADO  www.geogpsperu.com  931381206   \n",
       "2  061109        41     NIEPOS  www.geogpsperu.com  931381206   \n",
       "\n",
       "                   CONTACTO                                           geometry  \n",
       "0  juan.suyo@geogpsperu.com  POLYGON ((-78.91578 -7.32085, -78.91370 -7.322...  \n",
       "1  juan.suyo@geogpsperu.com  POLYGON ((-79.01679 -6.96945, -79.01581 -6.969...  \n",
       "2  juan.suyo@geogpsperu.com  POLYGON ((-79.21691 -6.85171, -79.21576 -6.851...  "
      ]
     },
     "execution_count": 49,
     "metadata": {},
     "output_type": "execute_result"
    }
   ],
   "source": [
    "distritos = gpd.read_file(r'../../_data/LIMITE_DISTRITAL_2020_INEI/INEI_LIMITE_DISTRITAL.shp')\n",
    "distritos.head(3)"
   ]
  },
  {
   "cell_type": "code",
   "execution_count": 50,
   "id": "de3d0f11",
   "metadata": {},
   "outputs": [
    {
     "data": {
      "text/html": [
       "<div>\n",
       "<style scoped>\n",
       "    .dataframe tbody tr th:only-of-type {\n",
       "        vertical-align: middle;\n",
       "    }\n",
       "\n",
       "    .dataframe tbody tr th {\n",
       "        vertical-align: top;\n",
       "    }\n",
       "\n",
       "    .dataframe thead th {\n",
       "        text-align: right;\n",
       "    }\n",
       "</style>\n",
       "<table border=\"1\" class=\"dataframe\">\n",
       "  <thead>\n",
       "    <tr style=\"text-align: right;\">\n",
       "      <th></th>\n",
       "      <th>Año</th>\n",
       "      <th>Semana</th>\n",
       "      <th>Eventos o daños</th>\n",
       "      <th>Departamento</th>\n",
       "      <th>Distrito</th>\n",
       "      <th>Provincia</th>\n",
       "      <th>Ubigeo</th>\n",
       "      <th>Casos</th>\n",
       "      <th>Dpt_Ubigeo</th>\n",
       "      <th>Prv_Ubigeo</th>\n",
       "    </tr>\n",
       "  </thead>\n",
       "  <tbody>\n",
       "    <tr>\n",
       "      <th>0</th>\n",
       "      <td>2020</td>\n",
       "      <td>43</td>\n",
       "      <td>Dengue</td>\n",
       "      <td>CUSCO</td>\n",
       "      <td>MEGANTONI</td>\n",
       "      <td>LA CONVENCION</td>\n",
       "      <td>80914</td>\n",
       "      <td>2.0</td>\n",
       "      <td>80</td>\n",
       "      <td>8091</td>\n",
       "    </tr>\n",
       "    <tr>\n",
       "      <th>3</th>\n",
       "      <td>2020</td>\n",
       "      <td>1</td>\n",
       "      <td>Dengue</td>\n",
       "      <td>CUSCO</td>\n",
       "      <td>MEGANTONI</td>\n",
       "      <td>LA CONVENCION</td>\n",
       "      <td>80914</td>\n",
       "      <td>0.0</td>\n",
       "      <td>80</td>\n",
       "      <td>8091</td>\n",
       "    </tr>\n",
       "    <tr>\n",
       "      <th>4</th>\n",
       "      <td>2020</td>\n",
       "      <td>53</td>\n",
       "      <td>Dengue</td>\n",
       "      <td>CUSCO</td>\n",
       "      <td>MEGANTONI</td>\n",
       "      <td>LA CONVENCION</td>\n",
       "      <td>80914</td>\n",
       "      <td>2.0</td>\n",
       "      <td>80</td>\n",
       "      <td>8091</td>\n",
       "    </tr>\n",
       "  </tbody>\n",
       "</table>\n",
       "</div>"
      ],
      "text/plain": [
       "    Año  Semana Eventos o daños Departamento   Distrito      Provincia  \\\n",
       "0  2020      43          Dengue        CUSCO  MEGANTONI  LA CONVENCION   \n",
       "3  2020       1          Dengue        CUSCO  MEGANTONI  LA CONVENCION   \n",
       "4  2020      53          Dengue        CUSCO  MEGANTONI  LA CONVENCION   \n",
       "\n",
       "   Ubigeo Casos Dpt_Ubigeo Prv_Ubigeo  \n",
       "0   80914   2.0         80       8091  \n",
       "3   80914   0.0         80       8091  \n",
       "4   80914   2.0         80       8091  "
      ]
     },
     "execution_count": 50,
     "metadata": {},
     "output_type": "execute_result"
    }
   ],
   "source": [
    "dengue_2020 = dengue[dengue.Año == 2020]\n",
    "dengue_2020.head(3)"
   ]
  },
  {
   "cell_type": "code",
   "execution_count": 54,
   "id": "a4be9591",
   "metadata": {},
   "outputs": [
    {
     "data": {
      "text/plain": [
       "<Geographic 2D CRS: EPSG:4326>\n",
       "Name: WGS 84\n",
       "Axis Info [ellipsoidal]:\n",
       "- Lat[north]: Geodetic latitude (degree)\n",
       "- Lon[east]: Geodetic longitude (degree)\n",
       "Area of Use:\n",
       "- name: World.\n",
       "- bounds: (-180.0, -90.0, 180.0, 90.0)\n",
       "Datum: World Geodetic System 1984 ensemble\n",
       "- Ellipsoid: WGS 84\n",
       "- Prime Meridian: Greenwich"
      ]
     },
     "execution_count": 54,
     "metadata": {},
     "output_type": "execute_result"
    }
   ],
   "source": [
    "distritos.crs"
   ]
  },
  {
   "cell_type": "code",
   "execution_count": 83,
   "id": "b949756d",
   "metadata": {},
   "outputs": [],
   "source": [
    "prov_dengue = pd.merge(distritos, dengue_2020, how = \"inner\", left_on = 'IDPROV', right_on = \"Prv_Ubigeo\").drop(['CCDD','CCPP','CCDI', 'CAPITAL','CODIGO','CNT_CCPP', 'DESCRIPCIO',\\\n",
    "                                                                                                                 'DESCARGAR', 'WHATSAPP', 'CONTACTO'], axis = 1)"
   ]
  },
  {
   "cell_type": "code",
   "execution_count": 84,
   "id": "1e131be0",
   "metadata": {
    "scrolled": true
   },
   "outputs": [
    {
     "data": {
      "text/plain": [
       "Index(['NOMBDEP', 'NOMBPROV', 'NOMBDIST', 'UBIGEO', 'IDPROV', 'geometry',\n",
       "       'Año', 'Semana', 'Eventos o daños', 'Departamento', 'Distrito',\n",
       "       'Provincia', 'Ubigeo', 'Casos', 'Dpt_Ubigeo', 'Prv_Ubigeo'],\n",
       "      dtype='object')"
      ]
     },
     "execution_count": 84,
     "metadata": {},
     "output_type": "execute_result"
    }
   ],
   "source": [
    "prov_dengue.columns"
   ]
  },
  {
   "cell_type": "code",
   "execution_count": 85,
   "id": "56092808",
   "metadata": {},
   "outputs": [
    {
     "data": {
      "text/html": [
       "<div>\n",
       "<style scoped>\n",
       "    .dataframe tbody tr th:only-of-type {\n",
       "        vertical-align: middle;\n",
       "    }\n",
       "\n",
       "    .dataframe tbody tr th {\n",
       "        vertical-align: top;\n",
       "    }\n",
       "\n",
       "    .dataframe thead th {\n",
       "        text-align: right;\n",
       "    }\n",
       "</style>\n",
       "<table border=\"1\" class=\"dataframe\">\n",
       "  <thead>\n",
       "    <tr style=\"text-align: right;\">\n",
       "      <th></th>\n",
       "      <th>NOMBDEP</th>\n",
       "      <th>NOMBPROV</th>\n",
       "      <th>NOMBDIST</th>\n",
       "      <th>UBIGEO</th>\n",
       "      <th>IDPROV</th>\n",
       "      <th>geometry</th>\n",
       "      <th>Año</th>\n",
       "      <th>Semana</th>\n",
       "      <th>Eventos o daños</th>\n",
       "      <th>Departamento</th>\n",
       "      <th>Distrito</th>\n",
       "      <th>Provincia</th>\n",
       "      <th>Ubigeo</th>\n",
       "      <th>Casos</th>\n",
       "      <th>Dpt_Ubigeo</th>\n",
       "      <th>Prv_Ubigeo</th>\n",
       "    </tr>\n",
       "  </thead>\n",
       "  <tbody>\n",
       "    <tr>\n",
       "      <th>0</th>\n",
       "      <td>LAMBAYEQUE</td>\n",
       "      <td>CHICLAYO</td>\n",
       "      <td>ETEN</td>\n",
       "      <td>140103</td>\n",
       "      <td>1401</td>\n",
       "      <td>POLYGON ((-79.84212 -6.87952, -79.84169 -6.879...</td>\n",
       "      <td>2020</td>\n",
       "      <td>15</td>\n",
       "      <td>Dengue</td>\n",
       "      <td>LAMBAYEQUE</td>\n",
       "      <td>CAYALTI</td>\n",
       "      <td>CHICLAYO</td>\n",
       "      <td>140116</td>\n",
       "      <td>18.0</td>\n",
       "      <td>14</td>\n",
       "      <td>1401</td>\n",
       "    </tr>\n",
       "    <tr>\n",
       "      <th>1</th>\n",
       "      <td>LAMBAYEQUE</td>\n",
       "      <td>CHICLAYO</td>\n",
       "      <td>ETEN</td>\n",
       "      <td>140103</td>\n",
       "      <td>1401</td>\n",
       "      <td>POLYGON ((-79.84212 -6.87952, -79.84169 -6.879...</td>\n",
       "      <td>2020</td>\n",
       "      <td>16</td>\n",
       "      <td>Dengue</td>\n",
       "      <td>LAMBAYEQUE</td>\n",
       "      <td>CAYALTI</td>\n",
       "      <td>CHICLAYO</td>\n",
       "      <td>140116</td>\n",
       "      <td>19.0</td>\n",
       "      <td>14</td>\n",
       "      <td>1401</td>\n",
       "    </tr>\n",
       "    <tr>\n",
       "      <th>2</th>\n",
       "      <td>LAMBAYEQUE</td>\n",
       "      <td>CHICLAYO</td>\n",
       "      <td>ETEN</td>\n",
       "      <td>140103</td>\n",
       "      <td>1401</td>\n",
       "      <td>POLYGON ((-79.84212 -6.87952, -79.84169 -6.879...</td>\n",
       "      <td>2020</td>\n",
       "      <td>6</td>\n",
       "      <td>Dengue</td>\n",
       "      <td>LAMBAYEQUE</td>\n",
       "      <td>SAÑA</td>\n",
       "      <td>CHICLAYO</td>\n",
       "      <td>140115</td>\n",
       "      <td>27.0</td>\n",
       "      <td>14</td>\n",
       "      <td>1401</td>\n",
       "    </tr>\n",
       "  </tbody>\n",
       "</table>\n",
       "</div>"
      ],
      "text/plain": [
       "      NOMBDEP  NOMBPROV NOMBDIST  UBIGEO IDPROV  \\\n",
       "0  LAMBAYEQUE  CHICLAYO     ETEN  140103   1401   \n",
       "1  LAMBAYEQUE  CHICLAYO     ETEN  140103   1401   \n",
       "2  LAMBAYEQUE  CHICLAYO     ETEN  140103   1401   \n",
       "\n",
       "                                            geometry   Año  Semana  \\\n",
       "0  POLYGON ((-79.84212 -6.87952, -79.84169 -6.879...  2020      15   \n",
       "1  POLYGON ((-79.84212 -6.87952, -79.84169 -6.879...  2020      16   \n",
       "2  POLYGON ((-79.84212 -6.87952, -79.84169 -6.879...  2020       6   \n",
       "\n",
       "  Eventos o daños Departamento Distrito Provincia  Ubigeo Casos Dpt_Ubigeo  \\\n",
       "0          Dengue   LAMBAYEQUE  CAYALTI  CHICLAYO  140116  18.0         14   \n",
       "1          Dengue   LAMBAYEQUE  CAYALTI  CHICLAYO  140116  19.0         14   \n",
       "2          Dengue   LAMBAYEQUE     SAÑA  CHICLAYO  140115  27.0         14   \n",
       "\n",
       "  Prv_Ubigeo  \n",
       "0       1401  \n",
       "1       1401  \n",
       "2       1401  "
      ]
     },
     "execution_count": 85,
     "metadata": {},
     "output_type": "execute_result"
    }
   ],
   "source": [
    "prov_dengue.head(3)"
   ]
  },
  {
   "cell_type": "code",
   "execution_count": 103,
   "id": "3b263efb",
   "metadata": {},
   "outputs": [
    {
     "data": {
      "text/plain": [
       "dtype('O')"
      ]
     },
     "execution_count": 103,
     "metadata": {},
     "output_type": "execute_result"
    }
   ],
   "source": [
    "prov_dengue['Casos'].dtypes"
   ]
  },
  {
   "cell_type": "code",
   "execution_count": 104,
   "id": "6a38c48c",
   "metadata": {},
   "outputs": [
    {
     "ename": "KeyboardInterrupt",
     "evalue": "",
     "output_type": "error",
     "traceback": [
      "\u001b[1;31m---------------------------------------------------------------------------\u001b[0m",
      "\u001b[1;31mKeyboardInterrupt\u001b[0m                         Traceback (most recent call last)",
      "Input \u001b[1;32mIn [104]\u001b[0m, in \u001b[0;36m<module>\u001b[1;34m\u001b[0m\n\u001b[1;32m----> 1\u001b[0m \u001b[43mprov_dengue\u001b[49m\u001b[38;5;241;43m.\u001b[39;49m\u001b[43mplot\u001b[49m\u001b[43m(\u001b[49m\u001b[43m \u001b[49m\u001b[43mcolumn\u001b[49m\u001b[38;5;241;43m=\u001b[39;49m\u001b[38;5;124;43m'\u001b[39;49m\u001b[38;5;124;43mCasos\u001b[39;49m\u001b[38;5;124;43m'\u001b[39;49m\u001b[43m,\u001b[49m\u001b[43m \u001b[49m\u001b[43mcmap\u001b[49m\u001b[38;5;241;43m=\u001b[39;49m\u001b[38;5;124;43m'\u001b[39;49m\u001b[38;5;124;43mReds\u001b[39;49m\u001b[38;5;124;43m'\u001b[39;49m\u001b[43m,\u001b[49m\u001b[43m \u001b[49m\n\u001b[0;32m      2\u001b[0m \u001b[43m          \u001b[49m\u001b[43mfigsize\u001b[49m\u001b[38;5;241;43m=\u001b[39;49m\u001b[43m(\u001b[49m\u001b[38;5;241;43m20\u001b[39;49m\u001b[43m,\u001b[49m\u001b[43m \u001b[49m\u001b[38;5;241;43m20\u001b[39;49m\u001b[43m)\u001b[49m\u001b[43m,\u001b[49m\n\u001b[0;32m      3\u001b[0m \u001b[43m          \u001b[49m\u001b[43mlinestyle\u001b[49m\u001b[38;5;241;43m=\u001b[39;49m\u001b[38;5;124;43m'\u001b[39;49m\u001b[38;5;124;43m-\u001b[39;49m\u001b[38;5;124;43m'\u001b[39;49m\u001b[43m,\u001b[49m\n\u001b[0;32m      4\u001b[0m \u001b[43m          \u001b[49m\u001b[43medgecolor\u001b[49m\u001b[38;5;241;43m=\u001b[39;49m\u001b[38;5;124;43m'\u001b[39;49m\u001b[38;5;124;43mgray\u001b[39;49m\u001b[38;5;124;43m'\u001b[39;49m\u001b[43m,\u001b[49m\n\u001b[0;32m      5\u001b[0m \u001b[43m          \u001b[49m\u001b[43mlegend\u001b[49m\u001b[43m \u001b[49m\u001b[38;5;241;43m=\u001b[39;49m\u001b[43m \u001b[49m\u001b[38;5;28;43;01mTrue\u001b[39;49;00m\u001b[43m \u001b[49m\u001b[43m)\u001b[49m\n",
      "File \u001b[1;32mC:\\Anaconda\\envs\\geopandas\\lib\\site-packages\\geopandas\\plotting.py:950\u001b[0m, in \u001b[0;36mGeoplotAccessor.__call__\u001b[1;34m(self, *args, **kwargs)\u001b[0m\n\u001b[0;32m    948\u001b[0m kind \u001b[38;5;241m=\u001b[39m kwargs\u001b[38;5;241m.\u001b[39mpop(\u001b[38;5;124m\"\u001b[39m\u001b[38;5;124mkind\u001b[39m\u001b[38;5;124m\"\u001b[39m, \u001b[38;5;124m\"\u001b[39m\u001b[38;5;124mgeo\u001b[39m\u001b[38;5;124m\"\u001b[39m)\n\u001b[0;32m    949\u001b[0m \u001b[38;5;28;01mif\u001b[39;00m kind \u001b[38;5;241m==\u001b[39m \u001b[38;5;124m\"\u001b[39m\u001b[38;5;124mgeo\u001b[39m\u001b[38;5;124m\"\u001b[39m:\n\u001b[1;32m--> 950\u001b[0m     \u001b[38;5;28;01mreturn\u001b[39;00m plot_dataframe(data, \u001b[38;5;241m*\u001b[39margs, \u001b[38;5;241m*\u001b[39m\u001b[38;5;241m*\u001b[39mkwargs)\n\u001b[0;32m    951\u001b[0m \u001b[38;5;28;01mif\u001b[39;00m kind \u001b[38;5;129;01min\u001b[39;00m \u001b[38;5;28mself\u001b[39m\u001b[38;5;241m.\u001b[39m_pandas_kinds:\n\u001b[0;32m    952\u001b[0m     \u001b[38;5;66;03m# Access pandas plots\u001b[39;00m\n\u001b[0;32m    953\u001b[0m     \u001b[38;5;28;01mreturn\u001b[39;00m PlotAccessor(data)(kind\u001b[38;5;241m=\u001b[39mkind, \u001b[38;5;241m*\u001b[39m\u001b[38;5;241m*\u001b[39mkwargs)\n",
      "File \u001b[1;32mC:\\Anaconda\\envs\\geopandas\\lib\\site-packages\\geopandas\\plotting.py:665\u001b[0m, in \u001b[0;36mplot_dataframe\u001b[1;34m(df, column, cmap, color, ax, cax, categorical, legend, scheme, k, vmin, vmax, markersize, figsize, legend_kwds, categories, classification_kwds, missing_kwds, aspect, **style_kwds)\u001b[0m\n\u001b[0;32m    663\u001b[0m \u001b[38;5;28;01mif\u001b[39;00m aspect \u001b[38;5;241m==\u001b[39m \u001b[38;5;124m\"\u001b[39m\u001b[38;5;124mauto\u001b[39m\u001b[38;5;124m\"\u001b[39m:\n\u001b[0;32m    664\u001b[0m     \u001b[38;5;28;01mif\u001b[39;00m df\u001b[38;5;241m.\u001b[39mcrs \u001b[38;5;129;01mand\u001b[39;00m df\u001b[38;5;241m.\u001b[39mcrs\u001b[38;5;241m.\u001b[39mis_geographic:\n\u001b[1;32m--> 665\u001b[0m         bounds \u001b[38;5;241m=\u001b[39m \u001b[43mdf\u001b[49m\u001b[38;5;241;43m.\u001b[39;49m\u001b[43mtotal_bounds\u001b[49m\n\u001b[0;32m    666\u001b[0m         y_coord \u001b[38;5;241m=\u001b[39m np\u001b[38;5;241m.\u001b[39mmean([bounds[\u001b[38;5;241m1\u001b[39m], bounds[\u001b[38;5;241m3\u001b[39m]])\n\u001b[0;32m    667\u001b[0m         ax\u001b[38;5;241m.\u001b[39mset_aspect(\u001b[38;5;241m1\u001b[39m \u001b[38;5;241m/\u001b[39m np\u001b[38;5;241m.\u001b[39mcos(y_coord \u001b[38;5;241m*\u001b[39m np\u001b[38;5;241m.\u001b[39mpi \u001b[38;5;241m/\u001b[39m \u001b[38;5;241m180\u001b[39m))\n",
      "File \u001b[1;32mC:\\Anaconda\\envs\\geopandas\\lib\\site-packages\\geopandas\\base.py:2584\u001b[0m, in \u001b[0;36mGeoPandasBase.total_bounds\u001b[1;34m(self)\u001b[0m\n\u001b[0;32m   2567\u001b[0m \u001b[38;5;129m@property\u001b[39m\n\u001b[0;32m   2568\u001b[0m \u001b[38;5;28;01mdef\u001b[39;00m \u001b[38;5;21mtotal_bounds\u001b[39m(\u001b[38;5;28mself\u001b[39m):\n\u001b[0;32m   2569\u001b[0m     \u001b[38;5;124;03m\"\"\"Returns a tuple containing ``minx``, ``miny``, ``maxx``, ``maxy``\u001b[39;00m\n\u001b[0;32m   2570\u001b[0m \u001b[38;5;124;03m    values for the bounds of the series as a whole.\u001b[39;00m\n\u001b[0;32m   2571\u001b[0m \n\u001b[1;32m   (...)\u001b[0m\n\u001b[0;32m   2582\u001b[0m \u001b[38;5;124;03m    array([ 0., -1.,  3.,  2.])\u001b[39;00m\n\u001b[0;32m   2583\u001b[0m \u001b[38;5;124;03m    \"\"\"\u001b[39;00m\n\u001b[1;32m-> 2584\u001b[0m     \u001b[38;5;28;01mreturn\u001b[39;00m \u001b[43mGeometryArray\u001b[49m\u001b[43m(\u001b[49m\u001b[38;5;28;43mself\u001b[39;49m\u001b[38;5;241;43m.\u001b[39;49m\u001b[43mgeometry\u001b[49m\u001b[38;5;241;43m.\u001b[39;49m\u001b[43mvalues\u001b[49m\u001b[43m)\u001b[49m\u001b[38;5;241;43m.\u001b[39;49m\u001b[43mtotal_bounds\u001b[49m\n",
      "File \u001b[1;32mC:\\Anaconda\\envs\\geopandas\\lib\\site-packages\\geopandas\\array.py:915\u001b[0m, in \u001b[0;36mGeometryArray.total_bounds\u001b[1;34m(self)\u001b[0m\n\u001b[0;32m    911\u001b[0m \u001b[38;5;28;01mif\u001b[39;00m \u001b[38;5;28mlen\u001b[39m(\u001b[38;5;28mself\u001b[39m) \u001b[38;5;241m==\u001b[39m \u001b[38;5;241m0\u001b[39m:\n\u001b[0;32m    912\u001b[0m     \u001b[38;5;66;03m# numpy 'min' cannot handle empty arrays\u001b[39;00m\n\u001b[0;32m    913\u001b[0m     \u001b[38;5;66;03m# TODO with numpy >= 1.15, the 'initial' argument can be used\u001b[39;00m\n\u001b[0;32m    914\u001b[0m     \u001b[38;5;28;01mreturn\u001b[39;00m np\u001b[38;5;241m.\u001b[39marray([np\u001b[38;5;241m.\u001b[39mnan, np\u001b[38;5;241m.\u001b[39mnan, np\u001b[38;5;241m.\u001b[39mnan, np\u001b[38;5;241m.\u001b[39mnan])\n\u001b[1;32m--> 915\u001b[0m b \u001b[38;5;241m=\u001b[39m \u001b[38;5;28;43mself\u001b[39;49m\u001b[38;5;241;43m.\u001b[39;49m\u001b[43mbounds\u001b[49m\n\u001b[0;32m    916\u001b[0m \u001b[38;5;28;01mreturn\u001b[39;00m np\u001b[38;5;241m.\u001b[39marray(\n\u001b[0;32m    917\u001b[0m     (\n\u001b[0;32m    918\u001b[0m         np\u001b[38;5;241m.\u001b[39mnanmin(b[:, \u001b[38;5;241m0\u001b[39m]),  \u001b[38;5;66;03m# minx\u001b[39;00m\n\u001b[1;32m   (...)\u001b[0m\n\u001b[0;32m    922\u001b[0m     )\n\u001b[0;32m    923\u001b[0m )\n",
      "File \u001b[1;32mC:\\Anaconda\\envs\\geopandas\\lib\\site-packages\\geopandas\\array.py:907\u001b[0m, in \u001b[0;36mGeometryArray.bounds\u001b[1;34m(self)\u001b[0m\n\u001b[0;32m    905\u001b[0m \u001b[38;5;129m@property\u001b[39m\n\u001b[0;32m    906\u001b[0m \u001b[38;5;28;01mdef\u001b[39;00m \u001b[38;5;21mbounds\u001b[39m(\u001b[38;5;28mself\u001b[39m):\n\u001b[1;32m--> 907\u001b[0m     \u001b[38;5;28;01mreturn\u001b[39;00m \u001b[43mvectorized\u001b[49m\u001b[38;5;241;43m.\u001b[39;49m\u001b[43mbounds\u001b[49m\u001b[43m(\u001b[49m\u001b[38;5;28;43mself\u001b[39;49m\u001b[38;5;241;43m.\u001b[39;49m\u001b[43mdata\u001b[49m\u001b[43m)\u001b[49m\n",
      "File \u001b[1;32mC:\\Anaconda\\envs\\geopandas\\lib\\site-packages\\geopandas\\_vectorized.py:937\u001b[0m, in \u001b[0;36mbounds\u001b[1;34m(data)\u001b[0m\n\u001b[0;32m    933\u001b[0m     \u001b[38;5;28;01mreturn\u001b[39;00m np\u001b[38;5;241m.\u001b[39mempty((\u001b[38;5;241m0\u001b[39m, \u001b[38;5;241m4\u001b[39m), dtype\u001b[38;5;241m=\u001b[39m\u001b[38;5;124m\"\u001b[39m\u001b[38;5;124mfloat64\u001b[39m\u001b[38;5;124m\"\u001b[39m)\n\u001b[0;32m    934\u001b[0m \u001b[38;5;66;03m# need to explicitly check for empty (in addition to missing) geometries,\u001b[39;00m\n\u001b[0;32m    935\u001b[0m \u001b[38;5;66;03m# as those return an empty tuple, not resulting in a 2D array\u001b[39;00m\n\u001b[0;32m    936\u001b[0m bounds \u001b[38;5;241m=\u001b[39m np\u001b[38;5;241m.\u001b[39marray(\n\u001b[1;32m--> 937\u001b[0m     [\n\u001b[0;32m    938\u001b[0m         geom\u001b[38;5;241m.\u001b[39mbounds\n\u001b[0;32m    939\u001b[0m         \u001b[38;5;28;01mif\u001b[39;00m \u001b[38;5;129;01mnot\u001b[39;00m (geom \u001b[38;5;129;01mis\u001b[39;00m \u001b[38;5;28;01mNone\u001b[39;00m \u001b[38;5;129;01mor\u001b[39;00m geom\u001b[38;5;241m.\u001b[39mis_empty)\n\u001b[0;32m    940\u001b[0m         \u001b[38;5;28;01melse\u001b[39;00m (np\u001b[38;5;241m.\u001b[39mnan, np\u001b[38;5;241m.\u001b[39mnan, np\u001b[38;5;241m.\u001b[39mnan, np\u001b[38;5;241m.\u001b[39mnan)\n\u001b[0;32m    941\u001b[0m         \u001b[38;5;28;01mfor\u001b[39;00m geom \u001b[38;5;129;01min\u001b[39;00m data\n\u001b[0;32m    942\u001b[0m     ]\n\u001b[0;32m    943\u001b[0m )\n\u001b[0;32m    944\u001b[0m \u001b[38;5;28;01mreturn\u001b[39;00m bounds\n",
      "File \u001b[1;32mC:\\Anaconda\\envs\\geopandas\\lib\\site-packages\\geopandas\\_vectorized.py:938\u001b[0m, in \u001b[0;36m<listcomp>\u001b[1;34m(.0)\u001b[0m\n\u001b[0;32m    933\u001b[0m     \u001b[38;5;28;01mreturn\u001b[39;00m np\u001b[38;5;241m.\u001b[39mempty((\u001b[38;5;241m0\u001b[39m, \u001b[38;5;241m4\u001b[39m), dtype\u001b[38;5;241m=\u001b[39m\u001b[38;5;124m\"\u001b[39m\u001b[38;5;124mfloat64\u001b[39m\u001b[38;5;124m\"\u001b[39m)\n\u001b[0;32m    934\u001b[0m \u001b[38;5;66;03m# need to explicitly check for empty (in addition to missing) geometries,\u001b[39;00m\n\u001b[0;32m    935\u001b[0m \u001b[38;5;66;03m# as those return an empty tuple, not resulting in a 2D array\u001b[39;00m\n\u001b[0;32m    936\u001b[0m bounds \u001b[38;5;241m=\u001b[39m np\u001b[38;5;241m.\u001b[39marray(\n\u001b[0;32m    937\u001b[0m     [\n\u001b[1;32m--> 938\u001b[0m         \u001b[43mgeom\u001b[49m\u001b[38;5;241;43m.\u001b[39;49m\u001b[43mbounds\u001b[49m\n\u001b[0;32m    939\u001b[0m         \u001b[38;5;28;01mif\u001b[39;00m \u001b[38;5;129;01mnot\u001b[39;00m (geom \u001b[38;5;129;01mis\u001b[39;00m \u001b[38;5;28;01mNone\u001b[39;00m \u001b[38;5;129;01mor\u001b[39;00m geom\u001b[38;5;241m.\u001b[39mis_empty)\n\u001b[0;32m    940\u001b[0m         \u001b[38;5;28;01melse\u001b[39;00m (np\u001b[38;5;241m.\u001b[39mnan, np\u001b[38;5;241m.\u001b[39mnan, np\u001b[38;5;241m.\u001b[39mnan, np\u001b[38;5;241m.\u001b[39mnan)\n\u001b[0;32m    941\u001b[0m         \u001b[38;5;28;01mfor\u001b[39;00m geom \u001b[38;5;129;01min\u001b[39;00m data\n\u001b[0;32m    942\u001b[0m     ]\n\u001b[0;32m    943\u001b[0m )\n\u001b[0;32m    944\u001b[0m \u001b[38;5;28;01mreturn\u001b[39;00m bounds\n",
      "File \u001b[1;32mC:\\Anaconda\\envs\\geopandas\\lib\\site-packages\\shapely\\geometry\\base.py:475\u001b[0m, in \u001b[0;36mBaseGeometry.bounds\u001b[1;34m(self)\u001b[0m\n\u001b[0;32m    473\u001b[0m     \u001b[38;5;28;01mreturn\u001b[39;00m ()\n\u001b[0;32m    474\u001b[0m \u001b[38;5;28;01melse\u001b[39;00m:\n\u001b[1;32m--> 475\u001b[0m     \u001b[38;5;28;01mreturn\u001b[39;00m \u001b[38;5;28;43mself\u001b[39;49m\u001b[38;5;241;43m.\u001b[39;49m\u001b[43mimpl\u001b[49m\u001b[43m[\u001b[49m\u001b[38;5;124;43m'\u001b[39;49m\u001b[38;5;124;43mbounds\u001b[39;49m\u001b[38;5;124;43m'\u001b[39;49m\u001b[43m]\u001b[49m\u001b[43m(\u001b[49m\u001b[38;5;28;43mself\u001b[39;49m\u001b[43m)\u001b[49m\n",
      "File \u001b[1;32mC:\\Anaconda\\envs\\geopandas\\lib\\site-packages\\shapely\\coords.py:199\u001b[0m, in \u001b[0;36mBoundsOp.__call__\u001b[1;34m(self, this)\u001b[0m\n\u001b[0;32m    197\u001b[0m temp \u001b[38;5;241m=\u001b[39m c_double()\n\u001b[0;32m    198\u001b[0m \u001b[38;5;28;01mfor\u001b[39;00m i \u001b[38;5;129;01min\u001b[39;00m \u001b[38;5;28mrange\u001b[39m(cs_len\u001b[38;5;241m.\u001b[39mvalue):\n\u001b[1;32m--> 199\u001b[0m     \u001b[43mlgeos\u001b[49m\u001b[38;5;241;43m.\u001b[39;49m\u001b[43mGEOSCoordSeq_getX\u001b[49m\u001b[43m(\u001b[49m\u001b[43mcs\u001b[49m\u001b[43m,\u001b[49m\u001b[43m \u001b[49m\u001b[43mi\u001b[49m\u001b[43m,\u001b[49m\u001b[43m \u001b[49m\u001b[43mbyref\u001b[49m\u001b[43m(\u001b[49m\u001b[43mtemp\u001b[49m\u001b[43m)\u001b[49m\u001b[43m)\u001b[49m\n\u001b[0;32m    200\u001b[0m     x \u001b[38;5;241m=\u001b[39m temp\u001b[38;5;241m.\u001b[39mvalue\n\u001b[0;32m    201\u001b[0m     \u001b[38;5;28;01mif\u001b[39;00m x \u001b[38;5;241m<\u001b[39m minx: minx \u001b[38;5;241m=\u001b[39m x\n",
      "\u001b[1;31mKeyboardInterrupt\u001b[0m: "
     ]
    },
    {
     "data": {
      "image/png": "[encoded data removed]",
      "text/plain": [
       "<Figure size 1440x1440 with 1 Axes>"
      ]
     },
     "metadata": {
      "needs_background": "light"
     },
     "output_type": "display_data"
    }
   ],
   "source": [
    "prov_dengue.plot( column='Casos', cmap='Reds', \n",
    "          figsize=(20, 20),\n",
    "          linestyle='-',\n",
    "          edgecolor='gray',\n",
    "          legend = True )"
   ]
  },
  {
   "cell_type": "code",
   "execution_count": null,
   "id": "b75a627e",
   "metadata": {},
   "outputs": [],
   "source": []
  },
  {
   "cell_type": "code",
   "execution_count": 78,
   "id": "2d3644ad",
   "metadata": {
    "scrolled": true
   },
   "outputs": [
    {
     "data": {
      "text/plain": [
       "Provincia     93\n",
       "Prv_Ubigeo    98\n",
       "dtype: int64"
      ]
     },
     "execution_count": 78,
     "metadata": {},
     "output_type": "execute_result"
    }
   ],
   "source": [
    "dengue_2020[['Provincia','Prv_Ubigeo']].nunique()"
   ]
  },
  {
   "cell_type": "code",
   "execution_count": 77,
   "id": "c0252c11",
   "metadata": {},
   "outputs": [
    {
     "data": {
      "text/plain": [
       "NOMBPROV    198\n",
       "IDPROV      196\n",
       "dtype: int64"
      ]
     },
     "execution_count": 77,
     "metadata": {},
     "output_type": "execute_result"
    }
   ],
   "source": [
    "distritos[['NOMBPROV', 'IDPROV']].nunique()"
   ]
  },
  {
   "cell_type": "markdown",
   "id": "396bdf3f",
   "metadata": {},
   "source": [
    "#### 5. Use geopandas to plot the number of cases in 2021by the province using a continuous legend. Do not forget to indicate the color of NA values. Use this shapefile. For this task, you will have to aggregate shapefiles at the province level."
   ]
  },
  {
   "cell_type": "markdown",
   "id": "d22fd4e7",
   "metadata": {},
   "source": [
    "#### 6. Use geopandas to plot the number of cases by the department for all the years using subplots. Every subplot for each year. Do not forget to indicate the color of NA values. Use this shapefile. For this task, you will have to aggregate shapefiles at the department level."
   ]
  },
  {
   "cell_type": "code",
   "execution_count": null,
   "id": "a1e32ee9",
   "metadata": {},
   "outputs": [],
   "source": []
  },
  {
   "cell_type": "code",
   "execution_count": null,
   "id": "5c2262ec",
   "metadata": {},
   "outputs": [],
   "source": []
  },
  {
   "cell_type": "code",
   "execution_count": null,
   "id": "76ce0e74",
   "metadata": {},
   "outputs": [],
   "source": []
  }
 ],
 "metadata": {
  "kernelspec": {
   "display_name": "Python 3 (ipykernel)",
   "language": "python",
   "name": "python3"
  },
  "language_info": {
   "codemirror_mode": {
    "name": "ipython",
    "version": 3
   },
   "file_extension": ".py",
   "mimetype": "text/x-python",
   "name": "python",
   "nbconvert_exporter": "python",
   "pygments_lexer": "ipython3",
   "version": "3.9.9"
  }
 },
 "nbformat": 4,
 "nbformat_minor": 5
}
